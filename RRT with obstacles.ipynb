{
 "metadata": {
  "name": "",
  "signature": "sha256:8e1f4c80119b45e6b49d75b747d2ebaf79eab0953fcad8df4a54734d9666f6cc"
 },
 "nbformat": 3,
 "nbformat_minor": 0,
 "worksheets": [
  {
   "cells": [
    {
     "cell_type": "code",
     "collapsed": false,
     "input": [
      "import math, sys, pygame, random\n",
      "from math import *\n",
      "from pygame import *\n",
      "\n",
      "class RRT(object):\n",
      "    def __init__(self, point, parent):\n",
      "        super(RRT, self).__init__()\n",
      "        self.point = point\n",
      "        self.parent = parent\n",
      "\n",
      "XDIM = 640\n",
      "YDIM = 480\n",
      "windowSize = [XDIM, YDIM]\n",
      "EPS = 10.0\n",
      "GAME_LEVEL = 1\n",
      "GOAL_RADIUS = 10\n",
      "MIN_DISTANCE_TO_ADD = 1.0\n",
      "NUMNODES = 5000\n",
      "pygame.init()\n",
      "fpsClock = pygame.time.Clock()\n",
      "screen = pygame.display.set_mode(windowSize)\n",
      "white = 255, 255, 255\n",
      "black = 0, 0, 0\n",
      "red = 255, 0, 0\n",
      "blue = 0, 255, 0\n",
      "green = 0, 0, 255\n",
      "cyan = 0,100,78\n",
      "\n",
      "count = 0\n",
      "rectObs = []\n",
      "\n",
      "def calculate_distance(x,y):    #distance between two points\n",
      "    return sqrt((x[0]-y[0])*(x[0]-y[0])+(x[1]-y[1])*(x[1]-y[1]))\n",
      "\n",
      "def point_circle_collision(x, y, radius):\n",
      "    distance = calculate_distance(x,y)\n",
      "    if (distance <= radius):\n",
      "        return True\n",
      "    return False\n",
      "\n",
      "def distance_between_nodes(x,y):\n",
      "    if calculate_distance(x,y) < EPS:\n",
      "        return y\n",
      "    else:\n",
      "        theta = atan2(y[1]-x[1],y[0]-x[0])        \n",
      "        return x[0] + EPS*cos(theta), x[1] + EPS*sin(theta)\n",
      "\n",
      "def collides(p):    #check if point collides with the obstacle\n",
      "    for rect in rectObstacles:\n",
      "        if rect.collidepoint(p) == True:\n",
      "            return True\n",
      "    return False\n",
      "\n",
      "\n",
      "\n",
      "def get_random_clear():\n",
      "    while True:\n",
      "        p = random.random()*XDIM, random.random()*YDIM\n",
      "        noCollision = collides(p)\n",
      "        if noCollision == False:\n",
      "            return p\n",
      "\n",
      "\n",
      "def init_obstacles(configNum=0):  #initialized the obstacle\n",
      "    global rectObstacles\n",
      "    rectObstacles = []\n",
      "    print(\"config \"+ str(configNum))\n",
      "    if (configNum == 0):\n",
      "        rectObstacles.append(pygame.Rect((100,50),(200,150)))\n",
      "        rectObstacles.append(pygame.Rect((400,200),(200,100)))\n",
      "    if (configNum == 1):\n",
      "        rectObstacles.append(pygame.Rect((XDIM / 2.0 - 50, YDIM / 2.0 - 100),(100,200)))\n",
      "        rectObstacles.append(pygame.Rect((100,50),(200,150)))\n",
      "        rectObstacles.append(pygame.Rect((400,200),(200,100)))\n",
      "    if (configNum == 2):\n",
      "        rectObstacles.append(pygame.Rect((100,50),(200,150)))\n",
      "    if (configNum == 3):\n",
      "        rectObstacles.append(pygame.Rect((100,50),(200,150)))\n",
      "\n",
      "    for rect in rectObstacles:\n",
      "        pygame.draw.rect(screen, black, rect)\n",
      "\n",
      "\n",
      "def reset():\n",
      "    global count\n",
      "    screen.fill(white)\n",
      "    init_obstacles(GAME_LEVEL)\n",
      "    count = 0\n",
      "\n",
      "def Start_the_Game():\n",
      "    \n",
      "    global count\n",
      "    \n",
      "    initialPoseSet = False\n",
      "    initialPoint = RRT(None, None)\n",
      "    goalPoseSet = False\n",
      "    goalPoint = RRT(None, None)\n",
      "    currentState = 'init'\n",
      "\n",
      "    nodes = []\n",
      "    reset()\n",
      "\n",
      "    while True:\n",
      "        if currentState == 'init':\n",
      "            print('goal point not yet set')\n",
      "            pygame.display.set_caption('Select Starting Point and then Goal Point')\n",
      "            fpsClock.tick(10)\n",
      "        elif currentState == 'goalFound':\n",
      "            currentNode = goalNode.parent\n",
      "            pygame.display.set_caption('Goal Reached')\n",
      "            print \"Goal Reached\"\n",
      "\n",
      "            \n",
      "            while currentNode.parent != None:\n",
      "                pygame.draw.line(screen,red,currentNode.point,currentNode.parent.point)\n",
      "                currentNode = currentNode.parent\n",
      "            optimizePhase = True\n",
      "        elif currentState == 'optimize':\n",
      "            fpsClock.tick(0.5)\n",
      "            pass\n",
      "        elif currentState == 'buildTree':\n",
      "            count = count+1\n",
      "            pygame.display.set_caption('Performing RRT')\n",
      "            if count < NUMNODES:\n",
      "                foundNext = False\n",
      "                while foundNext == False:\n",
      "                    rand = get_random_clear()\n",
      "                    parentNode = nodes[0]\n",
      "                    for p in nodes:\n",
      "                        if calculate_distance(p.point,rand) <= calculate_distance(parentNode.point,rand):\n",
      "                            newPoint = distance_between_nodes(p.point,rand)\n",
      "                            if collides(newPoint) == False:\n",
      "                                parentNode = p\n",
      "                                foundNext = True\n",
      "\n",
      "                newnode = distance_between_nodes(parentNode.point,rand)\n",
      "                nodes.append(RRT(newnode, parentNode))\n",
      "                pygame.draw.line(screen,cyan,parentNode.point,newnode)\n",
      "\n",
      "                if point_circle_collision(newnode, goalPoint.point, GOAL_RADIUS):\n",
      "                    currentState = 'goalFound'\n",
      "\n",
      "                    goalNode = nodes[len(nodes)-1]\n",
      "\n",
      "                \n",
      "            else:\n",
      "                print(\"Ran out of nodes... :(\")\n",
      "                return;\n",
      "\n",
      "        #handle events\n",
      "        for e in pygame.event.get():\n",
      "            if e.type == QUIT or (e.type == KEYUP and e.key == K_ESCAPE):\n",
      "                sys.exit(\"Exiting\")\n",
      "            if e.type == MOUSEBUTTONDOWN:\n",
      "                print('mouse down')\n",
      "                if currentState == 'init':\n",
      "                    if initialPoseSet == False:\n",
      "                        nodes = []\n",
      "                        if collides(e.pos) == False:\n",
      "                            print('initiale point set: '+str(e.pos))\n",
      "\n",
      "                            initialPoint = RRT(e.pos, None)\n",
      "                            nodes.append(initialPoint) # Start in the center\n",
      "                            initialPoseSet = True\n",
      "                            pygame.draw.circle(screen, red, initialPoint.point, GOAL_RADIUS)\n",
      "                    elif goalPoseSet == False:\n",
      "                        print('goal point set: '+str(e.pos))\n",
      "                        if collides(e.pos) == False:\n",
      "                            goalPoint = RRT(e.pos,None)\n",
      "                            goalPoseSet = True\n",
      "                            pygame.draw.circle(screen, green, goalPoint.point, GOAL_RADIUS)\n",
      "                            currentState = 'buildTree'\n",
      "                else:\n",
      "                    currentState = 'init'\n",
      "                    initialPoseSet = False\n",
      "                    goalPoseSet = False\n",
      "                    reset()\n",
      "\n",
      "        pygame.display.update()\n",
      "        fpsClock.tick(10000)\n",
      "\n",
      "\n",
      "\n",
      "if __name__ == '__main__':\n",
      "    Start_the_Game()\n",
      "    \n",
      "\n"
     ],
     "language": "python",
     "metadata": {},
     "outputs": [
      {
       "output_type": "stream",
       "stream": "stdout",
       "text": [
        "config 1\n",
        "goal point not yet set\n",
        "goal point not yet set\n",
        "goal point not yet set"
       ]
      },
      {
       "output_type": "stream",
       "stream": "stdout",
       "text": [
        "\n",
        "goal point not yet set"
       ]
      },
      {
       "output_type": "stream",
       "stream": "stdout",
       "text": [
        "\n",
        "goal point not yet set"
       ]
      },
      {
       "output_type": "stream",
       "stream": "stdout",
       "text": [
        "\n",
        "goal point not yet set"
       ]
      },
      {
       "output_type": "stream",
       "stream": "stdout",
       "text": [
        "\n",
        "goal point not yet set"
       ]
      },
      {
       "output_type": "stream",
       "stream": "stdout",
       "text": [
        "\n",
        "goal point not yet set"
       ]
      },
      {
       "output_type": "stream",
       "stream": "stdout",
       "text": [
        "\n",
        "goal point not yet set"
       ]
      },
      {
       "output_type": "stream",
       "stream": "stdout",
       "text": [
        "\n",
        "goal point not yet set"
       ]
      },
      {
       "output_type": "stream",
       "stream": "stdout",
       "text": [
        "\n",
        "goal point not yet set"
       ]
      },
      {
       "output_type": "stream",
       "stream": "stdout",
       "text": [
        "\n",
        "goal point not yet set"
       ]
      },
      {
       "output_type": "stream",
       "stream": "stdout",
       "text": [
        "\n",
        "goal point not yet set"
       ]
      },
      {
       "output_type": "stream",
       "stream": "stdout",
       "text": [
        "\n",
        "goal point not yet set"
       ]
      },
      {
       "output_type": "stream",
       "stream": "stdout",
       "text": [
        "\n",
        "goal point not yet set"
       ]
      },
      {
       "output_type": "stream",
       "stream": "stdout",
       "text": [
        "\n",
        "goal point not yet set"
       ]
      },
      {
       "output_type": "stream",
       "stream": "stdout",
       "text": [
        "\n",
        "goal point not yet set"
       ]
      },
      {
       "output_type": "stream",
       "stream": "stdout",
       "text": [
        "\n",
        "goal point not yet set"
       ]
      },
      {
       "output_type": "stream",
       "stream": "stdout",
       "text": [
        "\n",
        "goal point not yet set"
       ]
      },
      {
       "output_type": "stream",
       "stream": "stdout",
       "text": [
        "\n",
        "goal point not yet set"
       ]
      },
      {
       "output_type": "stream",
       "stream": "stdout",
       "text": [
        "\n",
        "goal point not yet set"
       ]
      },
      {
       "output_type": "stream",
       "stream": "stdout",
       "text": [
        "\n",
        "goal point not yet set"
       ]
      },
      {
       "output_type": "stream",
       "stream": "stdout",
       "text": [
        "\n",
        "goal point not yet set"
       ]
      },
      {
       "output_type": "stream",
       "stream": "stdout",
       "text": [
        "\n",
        "goal point not yet set"
       ]
      },
      {
       "output_type": "stream",
       "stream": "stdout",
       "text": [
        "\n",
        "goal point not yet set"
       ]
      },
      {
       "output_type": "stream",
       "stream": "stdout",
       "text": [
        "\n",
        "goal point not yet set"
       ]
      },
      {
       "output_type": "stream",
       "stream": "stdout",
       "text": [
        "\n",
        "goal point not yet set"
       ]
      },
      {
       "output_type": "stream",
       "stream": "stdout",
       "text": [
        "\n",
        "goal point not yet set"
       ]
      },
      {
       "output_type": "stream",
       "stream": "stdout",
       "text": [
        "\n",
        "goal point not yet set"
       ]
      },
      {
       "output_type": "stream",
       "stream": "stdout",
       "text": [
        "\n",
        "goal point not yet set"
       ]
      },
      {
       "output_type": "stream",
       "stream": "stdout",
       "text": [
        "\n",
        "goal point not yet set"
       ]
      },
      {
       "output_type": "stream",
       "stream": "stdout",
       "text": [
        "\n",
        "goal point not yet set"
       ]
      },
      {
       "output_type": "stream",
       "stream": "stdout",
       "text": [
        "\n",
        "goal point not yet set"
       ]
      },
      {
       "output_type": "stream",
       "stream": "stdout",
       "text": [
        "\n",
        "mouse down"
       ]
      },
      {
       "output_type": "stream",
       "stream": "stdout",
       "text": [
        "\n",
        "goal point not yet set\n",
        "goal point not yet set"
       ]
      },
      {
       "output_type": "stream",
       "stream": "stdout",
       "text": [
        "\n",
        "goal point not yet set"
       ]
      },
      {
       "output_type": "stream",
       "stream": "stdout",
       "text": [
        "\n",
        "goal point not yet set"
       ]
      },
      {
       "output_type": "stream",
       "stream": "stdout",
       "text": [
        "\n",
        "goal point not yet set"
       ]
      },
      {
       "output_type": "stream",
       "stream": "stdout",
       "text": [
        "\n",
        "goal point not yet set"
       ]
      },
      {
       "output_type": "stream",
       "stream": "stdout",
       "text": [
        "\n",
        "goal point not yet set"
       ]
      },
      {
       "output_type": "stream",
       "stream": "stdout",
       "text": [
        "\n",
        "goal point not yet set"
       ]
      },
      {
       "output_type": "stream",
       "stream": "stdout",
       "text": [
        "\n",
        "goal point not yet set"
       ]
      },
      {
       "output_type": "stream",
       "stream": "stdout",
       "text": [
        "\n",
        "goal point not yet set"
       ]
      },
      {
       "output_type": "stream",
       "stream": "stdout",
       "text": [
        "\n",
        "goal point not yet set"
       ]
      },
      {
       "output_type": "stream",
       "stream": "stdout",
       "text": [
        "\n",
        "goal point not yet set"
       ]
      },
      {
       "output_type": "stream",
       "stream": "stdout",
       "text": [
        "\n",
        "goal point not yet set"
       ]
      },
      {
       "output_type": "stream",
       "stream": "stdout",
       "text": [
        "\n",
        "goal point not yet set"
       ]
      },
      {
       "output_type": "stream",
       "stream": "stdout",
       "text": [
        "\n",
        "goal point not yet set"
       ]
      },
      {
       "output_type": "stream",
       "stream": "stdout",
       "text": [
        "\n",
        "mouse down"
       ]
      },
      {
       "output_type": "stream",
       "stream": "stdout",
       "text": [
        "\n",
        "initiale point set: (95, 48)\n",
        "goal point not yet set\n",
        "goal point not yet set"
       ]
      },
      {
       "output_type": "stream",
       "stream": "stdout",
       "text": [
        "\n",
        "goal point not yet set"
       ]
      },
      {
       "output_type": "stream",
       "stream": "stdout",
       "text": [
        "\n",
        "goal point not yet set"
       ]
      },
      {
       "output_type": "stream",
       "stream": "stdout",
       "text": [
        "\n",
        "goal point not yet set"
       ]
      },
      {
       "output_type": "stream",
       "stream": "stdout",
       "text": [
        "\n",
        "goal point not yet set"
       ]
      },
      {
       "output_type": "stream",
       "stream": "stdout",
       "text": [
        "\n",
        "goal point not yet set"
       ]
      },
      {
       "output_type": "stream",
       "stream": "stdout",
       "text": [
        "\n",
        "goal point not yet set"
       ]
      },
      {
       "output_type": "stream",
       "stream": "stdout",
       "text": [
        "\n",
        "goal point not yet set"
       ]
      },
      {
       "output_type": "stream",
       "stream": "stdout",
       "text": [
        "\n",
        "goal point not yet set"
       ]
      },
      {
       "output_type": "stream",
       "stream": "stdout",
       "text": [
        "\n",
        "goal point not yet set"
       ]
      },
      {
       "output_type": "stream",
       "stream": "stdout",
       "text": [
        "\n",
        "goal point not yet set"
       ]
      },
      {
       "output_type": "stream",
       "stream": "stdout",
       "text": [
        "\n",
        "goal point not yet set"
       ]
      },
      {
       "output_type": "stream",
       "stream": "stdout",
       "text": [
        "\n",
        "goal point not yet set"
       ]
      },
      {
       "output_type": "stream",
       "stream": "stdout",
       "text": [
        "\n",
        "mouse down"
       ]
      },
      {
       "output_type": "stream",
       "stream": "stdout",
       "text": [
        "\n",
        "goal point set: (396, 295)\n",
        "Goal Reached"
       ]
      },
      {
       "output_type": "stream",
       "stream": "stdout",
       "text": [
        "\n",
        "Goal Reached\n",
        "Goal Reached\n",
        "Goal Reached\n",
        "Goal Reached\n",
        "Goal Reached\n",
        "Goal Reached\n",
        "Goal Reached\n",
        "Goal Reached\n",
        "Goal Reached"
       ]
      },
      {
       "output_type": "stream",
       "stream": "stdout",
       "text": [
        "\n",
        "Goal Reached\n",
        "Goal Reached\n",
        "Goal Reached\n",
        "Goal Reached\n",
        "Goal Reached\n",
        "Goal Reached\n",
        "Goal Reached"
       ]
      },
      {
       "output_type": "stream",
       "stream": "stdout",
       "text": [
        "\n",
        "Goal Reached\n",
        "Goal Reached\n",
        "Goal Reached\n",
        "Goal Reached\n",
        "Goal Reached\n",
        "Goal Reached\n",
        "Goal Reached\n",
        "Goal Reached\n",
        "Goal Reached"
       ]
      },
      {
       "output_type": "stream",
       "stream": "stdout",
       "text": [
        "\n",
        "Goal Reached\n",
        "Goal Reached\n",
        "Goal Reached\n",
        "Goal Reached\n",
        "Goal Reached\n",
        "Goal Reached\n",
        "Goal Reached\n",
        "Goal Reached\n",
        "Goal Reached\n",
        "Goal Reached\n",
        "Goal Reached"
       ]
      },
      {
       "output_type": "stream",
       "stream": "stdout",
       "text": [
        "\n",
        "Goal Reached\n",
        "Goal Reached\n",
        "Goal Reached\n",
        "Goal Reached\n",
        "Goal Reached\n",
        "Goal Reached\n",
        "Goal Reached"
       ]
      },
      {
       "output_type": "stream",
       "stream": "stdout",
       "text": [
        "\n",
        "Goal Reached\n",
        "Goal Reached\n",
        "Goal Reached\n",
        "Goal Reached\n",
        "Goal Reached\n",
        "Goal Reached\n",
        "Goal Reached\n",
        "Goal Reached"
       ]
      },
      {
       "output_type": "stream",
       "stream": "stdout",
       "text": [
        "\n",
        "Goal Reached\n",
        "Goal Reached\n",
        "Goal Reached\n",
        "Goal Reached\n",
        "Goal Reached\n",
        "Goal Reached\n",
        "Goal Reached\n",
        "Goal Reached\n",
        "Goal Reached\n",
        "Goal Reached\n",
        "Goal Reached"
       ]
      },
      {
       "output_type": "stream",
       "stream": "stdout",
       "text": [
        "\n",
        "Goal Reached\n",
        "Goal Reached\n",
        "Goal Reached\n",
        "Goal Reached\n",
        "Goal Reached\n",
        "Goal Reached\n",
        "Goal Reached\n",
        "Goal Reached"
       ]
      },
      {
       "output_type": "stream",
       "stream": "stdout",
       "text": [
        "\n",
        "Goal Reached\n",
        "Goal Reached\n",
        "Goal Reached\n",
        "Goal Reached\n",
        "Goal Reached\n",
        "Goal Reached\n",
        "Goal Reached\n",
        "Goal Reached\n",
        "Goal Reached\n",
        "Goal Reached"
       ]
      },
      {
       "output_type": "stream",
       "stream": "stdout",
       "text": [
        "\n",
        "Goal Reached\n",
        "Goal Reached\n",
        "Goal Reached\n",
        "Goal Reached\n",
        "Goal Reached\n",
        "Goal Reached\n",
        "Goal Reached\n",
        "Goal Reached"
       ]
      },
      {
       "output_type": "stream",
       "stream": "stdout",
       "text": [
        "\n",
        "Goal Reached\n",
        "Goal Reached\n",
        "Goal Reached\n",
        "Goal Reached\n",
        "Goal Reached\n",
        "Goal Reached\n",
        "Goal Reached\n",
        "Goal Reached\n",
        "Goal Reached\n",
        "Goal Reached"
       ]
      },
      {
       "output_type": "stream",
       "stream": "stdout",
       "text": [
        "\n",
        "Goal Reached\n",
        "Goal Reached\n",
        "Goal Reached\n",
        "Goal Reached\n",
        "Goal Reached\n",
        "Goal Reached\n",
        "Goal Reached\n",
        "Goal Reached\n",
        "Goal Reached\n",
        "Goal Reached"
       ]
      },
      {
       "output_type": "stream",
       "stream": "stdout",
       "text": [
        "\n",
        "Goal Reached\n",
        "Goal Reached\n",
        "Goal Reached\n",
        "Goal Reached\n",
        "Goal Reached\n",
        "Goal Reached\n",
        "Goal Reached\n",
        "Goal Reached"
       ]
      },
      {
       "output_type": "stream",
       "stream": "stdout",
       "text": [
        "\n",
        "Goal Reached\n",
        "Goal Reached\n",
        "Goal Reached\n",
        "Goal Reached\n",
        "Goal Reached\n",
        "Goal Reached\n",
        "Goal Reached\n",
        "Goal Reached\n",
        "Goal Reached\n",
        "Goal Reached\n",
        "Goal Reached"
       ]
      },
      {
       "output_type": "stream",
       "stream": "stdout",
       "text": [
        "\n",
        "Goal Reached\n",
        "Goal Reached\n",
        "Goal Reached\n",
        "Goal Reached\n",
        "Goal Reached\n",
        "Goal Reached\n",
        "Goal Reached\n",
        "Goal Reached\n",
        "Goal Reached"
       ]
      },
      {
       "output_type": "stream",
       "stream": "stdout",
       "text": [
        "\n",
        "Goal Reached\n",
        "Goal Reached\n",
        "Goal Reached\n",
        "Goal Reached\n",
        "Goal Reached\n",
        "Goal Reached\n",
        "Goal Reached\n",
        "Goal Reached\n",
        "Goal Reached\n",
        "Goal Reached"
       ]
      },
      {
       "output_type": "stream",
       "stream": "stdout",
       "text": [
        "\n",
        "Goal Reached\n",
        "Goal Reached\n",
        "Goal Reached\n",
        "Goal Reached\n",
        "Goal Reached\n",
        "Goal Reached\n",
        "Goal Reached\n",
        "Goal Reached"
       ]
      },
      {
       "output_type": "stream",
       "stream": "stdout",
       "text": [
        "\n",
        "Goal Reached\n",
        "Goal Reached\n",
        "Goal Reached\n",
        "Goal Reached\n",
        "Goal Reached\n",
        "Goal Reached\n",
        "Goal Reached\n",
        "Goal Reached\n",
        "Goal Reached\n",
        "Goal Reached"
       ]
      },
      {
       "output_type": "stream",
       "stream": "stdout",
       "text": [
        "\n",
        "Goal Reached\n",
        "Goal Reached\n",
        "Goal Reached\n",
        "Goal Reached\n",
        "Goal Reached\n",
        "Goal Reached\n",
        "Goal Reached\n",
        "Goal Reached\n",
        "Goal Reached"
       ]
      },
      {
       "output_type": "stream",
       "stream": "stdout",
       "text": [
        "\n",
        "Goal Reached\n",
        "Goal Reached\n",
        "Goal Reached\n",
        "Goal Reached\n",
        "Goal Reached\n",
        "Goal Reached\n",
        "Goal Reached\n",
        "Goal Reached\n",
        "Goal Reached\n",
        "Goal Reached"
       ]
      },
      {
       "output_type": "stream",
       "stream": "stdout",
       "text": [
        "\n",
        "Goal Reached\n",
        "Goal Reached\n",
        "Goal Reached\n",
        "Goal Reached\n",
        "Goal Reached\n",
        "Goal Reached\n",
        "Goal Reached\n",
        "Goal Reached\n",
        "Goal Reached\n",
        "Goal Reached"
       ]
      },
      {
       "output_type": "stream",
       "stream": "stdout",
       "text": [
        "\n",
        "Goal Reached\n",
        "Goal Reached\n",
        "Goal Reached\n",
        "Goal Reached\n",
        "Goal Reached\n",
        "Goal Reached\n",
        "Goal Reached\n",
        "Goal Reached\n",
        "Goal Reached\n",
        "Goal Reached"
       ]
      },
      {
       "output_type": "stream",
       "stream": "stdout",
       "text": [
        "\n",
        "Goal Reached\n",
        "Goal Reached\n",
        "Goal Reached\n",
        "Goal Reached\n",
        "Goal Reached\n",
        "Goal Reached\n",
        "Goal Reached\n",
        "Goal Reached"
       ]
      },
      {
       "output_type": "stream",
       "stream": "stdout",
       "text": [
        "\n",
        "Goal Reached\n",
        "Goal Reached\n",
        "Goal Reached\n",
        "Goal Reached\n",
        "Goal Reached\n",
        "Goal Reached\n",
        "Goal Reached\n",
        "Goal Reached\n",
        "Goal Reached"
       ]
      },
      {
       "output_type": "stream",
       "stream": "stdout",
       "text": [
        "\n",
        "Goal Reached\n",
        "Goal Reached\n",
        "Goal Reached\n",
        "Goal Reached\n",
        "Goal Reached\n",
        "Goal Reached\n",
        "Goal Reached\n",
        "Goal Reached\n",
        "Goal Reached\n",
        "Goal Reached"
       ]
      },
      {
       "output_type": "stream",
       "stream": "stdout",
       "text": [
        "\n",
        "Goal Reached\n",
        "Goal Reached\n",
        "Goal Reached\n",
        "Goal Reached\n",
        "Goal Reached\n",
        "Goal Reached\n",
        "Goal Reached\n",
        "Goal Reached\n",
        "Goal Reached\n",
        "Goal Reached"
       ]
      },
      {
       "output_type": "stream",
       "stream": "stdout",
       "text": [
        "\n",
        "Goal Reached\n",
        "Goal Reached\n",
        "Goal Reached\n",
        "Goal Reached\n",
        "Goal Reached\n",
        "Goal Reached\n",
        "Goal Reached\n",
        "Goal Reached"
       ]
      },
      {
       "output_type": "stream",
       "stream": "stdout",
       "text": [
        "\n",
        "Goal Reached\n",
        "Goal Reached\n",
        "Goal Reached\n",
        "Goal Reached\n",
        "Goal Reached\n",
        "Goal Reached\n",
        "Goal Reached\n",
        "Goal Reached\n",
        "Goal Reached"
       ]
      },
      {
       "output_type": "stream",
       "stream": "stdout",
       "text": [
        "\n",
        "Goal Reached\n",
        "Goal Reached\n",
        "Goal Reached\n",
        "Goal Reached\n",
        "Goal Reached\n",
        "Goal Reached\n",
        "Goal Reached\n",
        "Goal Reached\n",
        "Goal Reached"
       ]
      },
      {
       "output_type": "stream",
       "stream": "stdout",
       "text": [
        "\n",
        "Goal Reached\n",
        "Goal Reached\n",
        "Goal Reached\n",
        "Goal Reached\n",
        "Goal Reached\n",
        "Goal Reached\n",
        "Goal Reached\n",
        "Goal Reached\n",
        "Goal Reached\n",
        "Goal Reached\n",
        "Goal Reached"
       ]
      },
      {
       "output_type": "stream",
       "stream": "stdout",
       "text": [
        "\n",
        "Goal Reached\n",
        "Goal Reached\n",
        "Goal Reached\n",
        "Goal Reached\n",
        "Goal Reached\n",
        "Goal Reached\n",
        "Goal Reached\n",
        "Goal Reached"
       ]
      },
      {
       "output_type": "stream",
       "stream": "stdout",
       "text": [
        "\n",
        "Goal Reached\n",
        "Goal Reached\n",
        "Goal Reached\n",
        "Goal Reached\n",
        "Goal Reached\n",
        "Goal Reached\n",
        "Goal Reached\n",
        "Goal Reached\n",
        "Goal Reached\n",
        "Goal Reached"
       ]
      },
      {
       "output_type": "stream",
       "stream": "stdout",
       "text": [
        "\n",
        "Goal Reached\n",
        "Goal Reached\n",
        "Goal Reached\n",
        "Goal Reached\n",
        "Goal Reached\n",
        "Goal Reached\n",
        "Goal Reached\n",
        "Goal Reached"
       ]
      },
      {
       "output_type": "stream",
       "stream": "stdout",
       "text": [
        "\n",
        "Goal Reached\n",
        "Goal Reached\n",
        "Goal Reached\n",
        "Goal Reached\n",
        "Goal Reached\n",
        "Goal Reached\n",
        "Goal Reached\n",
        "Goal Reached\n",
        "Goal Reached\n",
        "Goal Reached"
       ]
      },
      {
       "output_type": "stream",
       "stream": "stdout",
       "text": [
        "\n",
        "Goal Reached\n",
        "Goal Reached\n",
        "Goal Reached\n",
        "Goal Reached\n",
        "Goal Reached\n",
        "Goal Reached\n",
        "Goal Reached\n",
        "Goal Reached\n",
        "Goal Reached\n",
        "Goal Reached\n",
        "Goal Reached\n",
        "Goal Reached"
       ]
      },
      {
       "output_type": "stream",
       "stream": "stdout",
       "text": [
        "\n",
        "Goal Reached\n",
        "Goal Reached\n",
        "Goal Reached\n",
        "Goal Reached\n",
        "Goal Reached\n",
        "Goal Reached\n",
        "Goal Reached\n",
        "Goal Reached\n",
        "Goal Reached"
       ]
      },
      {
       "output_type": "stream",
       "stream": "stdout",
       "text": [
        "\n",
        "Goal Reached\n",
        "Goal Reached\n",
        "Goal Reached\n",
        "Goal Reached\n",
        "Goal Reached\n",
        "Goal Reached\n",
        "Goal Reached\n",
        "Goal Reached\n",
        "Goal Reached\n",
        "Goal Reached"
       ]
      },
      {
       "output_type": "stream",
       "stream": "stdout",
       "text": [
        "\n",
        "Goal Reached\n",
        "Goal Reached\n",
        "Goal Reached\n",
        "Goal Reached\n",
        "Goal Reached\n",
        "Goal Reached\n",
        "Goal Reached\n",
        "Goal Reached"
       ]
      },
      {
       "output_type": "stream",
       "stream": "stdout",
       "text": [
        "\n",
        "Goal Reached\n",
        "Goal Reached\n",
        "Goal Reached\n",
        "Goal Reached\n",
        "Goal Reached\n",
        "Goal Reached\n",
        "Goal Reached\n",
        "Goal Reached\n",
        "Goal Reached\n",
        "Goal Reached"
       ]
      },
      {
       "output_type": "stream",
       "stream": "stdout",
       "text": [
        "\n",
        "Goal Reached\n",
        "Goal Reached\n",
        "Goal Reached\n",
        "Goal Reached\n",
        "Goal Reached\n",
        "Goal Reached\n",
        "Goal Reached\n",
        "Goal Reached"
       ]
      },
      {
       "output_type": "stream",
       "stream": "stdout",
       "text": [
        "\n",
        "Goal Reached\n",
        "Goal Reached\n",
        "Goal Reached\n",
        "Goal Reached\n",
        "Goal Reached\n",
        "Goal Reached\n",
        "Goal Reached\n",
        "Goal Reached\n",
        "Goal Reached"
       ]
      },
      {
       "output_type": "stream",
       "stream": "stdout",
       "text": [
        "\n",
        "Goal Reached\n",
        "Goal Reached\n",
        "Goal Reached\n",
        "Goal Reached\n",
        "Goal Reached\n",
        "Goal Reached\n",
        "Goal Reached\n",
        "Goal Reached\n",
        "Goal Reached"
       ]
      },
      {
       "output_type": "stream",
       "stream": "stdout",
       "text": [
        "\n",
        "Goal Reached\n",
        "Goal Reached\n",
        "Goal Reached\n",
        "Goal Reached\n",
        "Goal Reached\n",
        "Goal Reached\n",
        "Goal Reached\n",
        "Goal Reached\n",
        "Goal Reached\n",
        "Goal Reached"
       ]
      },
      {
       "output_type": "stream",
       "stream": "stdout",
       "text": [
        "\n",
        "Goal Reached\n",
        "Goal Reached\n",
        "Goal Reached\n",
        "Goal Reached\n",
        "Goal Reached\n",
        "Goal Reached\n"
       ]
      },
      {
       "output_type": "stream",
       "stream": "stdout",
       "text": [
        "Goal Reached\n",
        "Goal Reached\n",
        "Goal Reached\n",
        "Goal Reached\n",
        "Goal Reached\n",
        "Goal Reached\n",
        "Goal Reached\n",
        "Goal Reached\n",
        "Goal Reached\n",
        "Goal Reached"
       ]
      },
      {
       "output_type": "stream",
       "stream": "stdout",
       "text": [
        "\n",
        "Goal Reached\n",
        "Goal Reached\n",
        "Goal Reached\n",
        "Goal Reached\n",
        "Goal Reached\n",
        "Goal Reached\n",
        "Goal Reached\n",
        "Goal Reached\n"
       ]
      },
      {
       "output_type": "stream",
       "stream": "stdout",
       "text": [
        "Goal Reached\n",
        "Goal Reached\n",
        "Goal Reached\n",
        "Goal Reached\n",
        "Goal Reached\n",
        "Goal Reached\n",
        "Goal Reached\n",
        "Goal Reached\n",
        "Goal Reached\n",
        "Goal Reached"
       ]
      },
      {
       "output_type": "stream",
       "stream": "stdout",
       "text": [
        "\n",
        "Goal Reached\n",
        "Goal Reached\n",
        "Goal Reached\n",
        "Goal Reached\n",
        "Goal Reached\n",
        "Goal Reached\n",
        "Goal Reached\n",
        "Goal Reached\n",
        "Goal Reached\n",
        "Goal Reached"
       ]
      },
      {
       "output_type": "stream",
       "stream": "stdout",
       "text": [
        "\n",
        "Goal Reached\n",
        "Goal Reached\n",
        "Goal Reached\n",
        "Goal Reached\n",
        "Goal Reached\n",
        "Goal Reached\n",
        "Goal Reached\n",
        "Goal Reached\n",
        "Goal Reached"
       ]
      },
      {
       "output_type": "stream",
       "stream": "stdout",
       "text": [
        "\n",
        "Goal Reached\n",
        "Goal Reached\n",
        "Goal Reached\n",
        "Goal Reached\n",
        "Goal Reached\n",
        "Goal Reached\n",
        "Goal Reached\n",
        "Goal Reached"
       ]
      },
      {
       "output_type": "stream",
       "stream": "stdout",
       "text": [
        "\n",
        "Goal Reached\n",
        "Goal Reached\n",
        "Goal Reached\n",
        "Goal Reached\n",
        "Goal Reached\n",
        "Goal Reached\n",
        "Goal Reached\n",
        "Goal Reached\n",
        "Goal Reached\n",
        "Goal Reached\n",
        "Goal Reached"
       ]
      },
      {
       "output_type": "stream",
       "stream": "stdout",
       "text": [
        "\n",
        "Goal Reached\n",
        "Goal Reached\n",
        "Goal Reached\n",
        "Goal Reached\n",
        "Goal Reached\n",
        "Goal Reached\n",
        "Goal Reached\n",
        "Goal Reached"
       ]
      },
      {
       "output_type": "stream",
       "stream": "stdout",
       "text": [
        "\n",
        "Goal Reached\n",
        "Goal Reached\n",
        "Goal Reached\n",
        "Goal Reached\n",
        "Goal Reached\n",
        "Goal Reached\n",
        "Goal Reached"
       ]
      },
      {
       "output_type": "stream",
       "stream": "stdout",
       "text": [
        "\n",
        "Goal Reached\n",
        "Goal Reached\n",
        "Goal Reached\n",
        "Goal Reached\n",
        "Goal Reached\n",
        "Goal Reached\n",
        "Goal Reached\n",
        "Goal Reached\n",
        "Goal Reached\n",
        "Goal Reached\n",
        "Goal Reached"
       ]
      },
      {
       "output_type": "stream",
       "stream": "stdout",
       "text": [
        "\n",
        "Goal Reached\n",
        "Goal Reached\n",
        "Goal Reached\n",
        "Goal Reached\n",
        "Goal Reached\n",
        "Goal Reached\n",
        "Goal Reached\n",
        "Goal Reached\n",
        "Goal Reached"
       ]
      },
      {
       "output_type": "stream",
       "stream": "stdout",
       "text": [
        "\n",
        "Goal Reached\n",
        "Goal Reached\n",
        "Goal Reached\n",
        "Goal Reached\n",
        "Goal Reached\n",
        "Goal Reached\n",
        "Goal Reached\n",
        "Goal Reached\n",
        "Goal Reached\n",
        "Goal Reached"
       ]
      },
      {
       "output_type": "stream",
       "stream": "stdout",
       "text": [
        "\n",
        "Goal Reached\n",
        "Goal Reached\n",
        "Goal Reached\n",
        "Goal Reached\n",
        "Goal Reached\n",
        "Goal Reached\n",
        "Goal Reached\n",
        "Goal Reached"
       ]
      },
      {
       "output_type": "stream",
       "stream": "stdout",
       "text": [
        "\n",
        "Goal Reached\n",
        "Goal Reached\n",
        "Goal Reached\n",
        "Goal Reached\n",
        "Goal Reached\n",
        "Goal Reached\n",
        "Goal Reached\n",
        "Goal Reached\n",
        "Goal Reached\n",
        "Goal Reached"
       ]
      },
      {
       "output_type": "stream",
       "stream": "stdout",
       "text": [
        "\n",
        "Goal Reached\n",
        "Goal Reached\n",
        "Goal Reached\n",
        "Goal Reached\n",
        "Goal Reached\n",
        "Goal Reached\n",
        "Goal Reached\n",
        "Goal Reached\n",
        "Goal Reached"
       ]
      },
      {
       "output_type": "stream",
       "stream": "stdout",
       "text": [
        "\n",
        "Goal Reached\n",
        "Goal Reached\n",
        "Goal Reached\n",
        "Goal Reached\n",
        "Goal Reached\n",
        "Goal Reached\n",
        "Goal Reached\n",
        "Goal Reached\n",
        "Goal Reached\n",
        "Goal Reached"
       ]
      },
      {
       "output_type": "stream",
       "stream": "stdout",
       "text": [
        "\n",
        "Goal Reached\n",
        "Goal Reached\n",
        "Goal Reached\n",
        "Goal Reached\n",
        "Goal Reached\n",
        "Goal Reached\n",
        "Goal Reached\n",
        "Goal Reached\n",
        "Goal Reached"
       ]
      },
      {
       "output_type": "stream",
       "stream": "stdout",
       "text": [
        "\n",
        "Goal Reached\n",
        "Goal Reached\n",
        "Goal Reached\n",
        "Goal Reached\n",
        "Goal Reached\n",
        "Goal Reached\n",
        "Goal Reached\n",
        "Goal Reached"
       ]
      },
      {
       "output_type": "stream",
       "stream": "stdout",
       "text": [
        "\n",
        "Goal Reached\n",
        "Goal Reached\n",
        "Goal Reached\n",
        "Goal Reached\n",
        "Goal Reached\n",
        "Goal Reached\n",
        "Goal Reached"
       ]
      },
      {
       "output_type": "stream",
       "stream": "stdout",
       "text": [
        "\n",
        "Goal Reached\n",
        "Goal Reached\n",
        "Goal Reached\n",
        "Goal Reached\n",
        "Goal Reached\n",
        "Goal Reached\n",
        "Goal Reached\n",
        "Goal Reached\n",
        "Goal Reached\n",
        "Goal Reached\n",
        "Goal Reached\n",
        "Goal Reached"
       ]
      },
      {
       "output_type": "stream",
       "stream": "stdout",
       "text": [
        "\n",
        "Goal Reached\n",
        "Goal Reached\n",
        "Goal Reached\n",
        "Goal Reached\n",
        "Goal Reached\n",
        "Goal Reached\n",
        "Goal Reached\n",
        "Goal Reached\n",
        "Goal Reached"
       ]
      },
      {
       "output_type": "stream",
       "stream": "stdout",
       "text": [
        "\n",
        "Goal Reached\n",
        "Goal Reached\n",
        "Goal Reached\n",
        "Goal Reached\n",
        "Goal Reached\n",
        "Goal Reached\n",
        "Goal Reached\n",
        "Goal Reached\n",
        "Goal Reached\n",
        "Goal Reached"
       ]
      },
      {
       "output_type": "stream",
       "stream": "stdout",
       "text": [
        "\n",
        "Goal Reached\n",
        "Goal Reached\n",
        "Goal Reached\n",
        "Goal Reached\n",
        "Goal Reached\n",
        "Goal Reached\n",
        "Goal Reached\n",
        "Goal Reached\n",
        "Goal Reached\n",
        "Goal Reached"
       ]
      },
      {
       "output_type": "stream",
       "stream": "stdout",
       "text": [
        "\n",
        "Goal Reached\n",
        "Goal Reached\n",
        "Goal Reached\n",
        "Goal Reached\n",
        "Goal Reached\n",
        "Goal Reached\n",
        "Goal Reached\n",
        "Goal Reached\n",
        "Goal Reached\n",
        "Goal Reached"
       ]
      },
      {
       "output_type": "stream",
       "stream": "stdout",
       "text": [
        "\n",
        "Goal Reached\n",
        "Goal Reached\n",
        "Goal Reached\n",
        "Goal Reached\n",
        "Goal Reached\n",
        "Goal Reached\n",
        "Goal Reached"
       ]
      },
      {
       "output_type": "stream",
       "stream": "stdout",
       "text": [
        "\n",
        "Goal Reached\n",
        "Goal Reached\n",
        "Goal Reached\n",
        "Goal Reached\n",
        "Goal Reached\n",
        "Goal Reached\n",
        "Goal Reached\n",
        "Goal Reached"
       ]
      },
      {
       "output_type": "stream",
       "stream": "stdout",
       "text": [
        "\n",
        "Goal Reached\n",
        "Goal Reached\n",
        "Goal Reached\n",
        "Goal Reached\n",
        "Goal Reached\n",
        "Goal Reached\n",
        "Goal Reached\n",
        "Goal Reached\n",
        "Goal Reached\n",
        "Goal Reached\n",
        "Goal Reached"
       ]
      },
      {
       "output_type": "stream",
       "stream": "stdout",
       "text": [
        "\n",
        "Goal Reached\n",
        "Goal Reached\n",
        "Goal Reached\n",
        "Goal Reached\n",
        "Goal Reached\n",
        "Goal Reached\n",
        "Goal Reached"
       ]
      },
      {
       "output_type": "stream",
       "stream": "stdout",
       "text": [
        "\n",
        "Goal Reached\n",
        "Goal Reached\n",
        "Goal Reached\n",
        "Goal Reached\n",
        "Goal Reached\n",
        "Goal Reached\n",
        "Goal Reached\n",
        "Goal Reached\n",
        "Goal Reached"
       ]
      },
      {
       "output_type": "stream",
       "stream": "stdout",
       "text": [
        "\n",
        "Goal Reached\n",
        "Goal Reached\n",
        "Goal Reached\n",
        "Goal Reached\n",
        "Goal Reached\n",
        "Goal Reached\n",
        "Goal Reached\n",
        "Goal Reached"
       ]
      },
      {
       "output_type": "stream",
       "stream": "stdout",
       "text": [
        "\n",
        "Goal Reached\n",
        "Goal Reached\n",
        "Goal Reached\n",
        "Goal Reached\n",
        "Goal Reached\n",
        "Goal Reached\n",
        "Goal Reached\n",
        "Goal Reached\n",
        "Goal Reached\n",
        "Goal Reached\n",
        "Goal Reached"
       ]
      },
      {
       "output_type": "stream",
       "stream": "stdout",
       "text": [
        "\n",
        "Goal Reached\n",
        "Goal Reached\n",
        "Goal Reached\n",
        "Goal Reached\n",
        "Goal Reached\n",
        "Goal Reached\n",
        "Goal Reached\n",
        "Goal Reached\n",
        "Goal Reached\n",
        "Goal Reached"
       ]
      },
      {
       "output_type": "stream",
       "stream": "stdout",
       "text": [
        "\n",
        "Goal Reached\n",
        "Goal Reached\n",
        "Goal Reached\n",
        "Goal Reached\n",
        "Goal Reached\n",
        "Goal Reached\n",
        "Goal Reached\n",
        "Goal Reached\n",
        "Goal Reached"
       ]
      },
      {
       "output_type": "stream",
       "stream": "stdout",
       "text": [
        "\n",
        "Goal Reached\n",
        "Goal Reached\n",
        "Goal Reached\n",
        "Goal Reached\n",
        "Goal Reached\n",
        "Goal Reached\n",
        "Goal Reached\n",
        "Goal Reached\n",
        "Goal Reached\n",
        "Goal Reached"
       ]
      },
      {
       "output_type": "stream",
       "stream": "stdout",
       "text": [
        "\n",
        "Goal Reached\n",
        "Goal Reached\n",
        "Goal Reached\n",
        "Goal Reached\n",
        "Goal Reached\n",
        "Goal Reached\n",
        "Goal Reached\n",
        "Goal Reached"
       ]
      },
      {
       "output_type": "stream",
       "stream": "stdout",
       "text": [
        "\n",
        "Goal Reached\n",
        "Goal Reached\n",
        "Goal Reached\n",
        "Goal Reached\n",
        "Goal Reached\n",
        "Goal Reached\n",
        "Goal Reached\n",
        "Goal Reached\n",
        "Goal Reached\n",
        "Goal Reached"
       ]
      },
      {
       "output_type": "stream",
       "stream": "stdout",
       "text": [
        "\n",
        "Goal Reached\n",
        "Goal Reached\n",
        "Goal Reached\n",
        "Goal Reached\n",
        "Goal Reached\n",
        "Goal Reached\n",
        "Goal Reached\n",
        "Goal Reached\n",
        "Goal Reached\n",
        "Goal Reached"
       ]
      },
      {
       "output_type": "stream",
       "stream": "stdout",
       "text": [
        "\n",
        "Goal Reached\n",
        "Goal Reached\n",
        "Goal Reached\n",
        "Goal Reached\n",
        "Goal Reached\n",
        "Goal Reached\n",
        "Goal Reached\n",
        "Goal Reached\n",
        "Goal Reached\n",
        "Goal Reached\n",
        "Goal Reached"
       ]
      },
      {
       "output_type": "stream",
       "stream": "stdout",
       "text": [
        "\n",
        "Goal Reached\n",
        "Goal Reached\n",
        "Goal Reached\n",
        "Goal Reached\n",
        "Goal Reached\n",
        "Goal Reached\n",
        "Goal Reached\n",
        "Goal Reached\n",
        "Goal Reached\n",
        "Goal Reached"
       ]
      },
      {
       "output_type": "stream",
       "stream": "stdout",
       "text": [
        "\n",
        "Goal Reached\n",
        "Goal Reached\n",
        "Goal Reached\n",
        "Goal Reached\n",
        "Goal Reached\n",
        "Goal Reached\n",
        "Goal Reached\n",
        "Goal Reached"
       ]
      },
      {
       "output_type": "stream",
       "stream": "stdout",
       "text": [
        "\n",
        "Goal Reached\n",
        "Goal Reached\n",
        "Goal Reached\n",
        "Goal Reached\n",
        "Goal Reached\n",
        "Goal Reached\n",
        "Goal Reached\n",
        "Goal Reached\n",
        "Goal Reached\n",
        "Goal Reached\n",
        "Goal Reached"
       ]
      },
      {
       "output_type": "stream",
       "stream": "stdout",
       "text": [
        "\n",
        "Goal Reached\n",
        "Goal Reached\n",
        "Goal Reached\n",
        "Goal Reached\n",
        "Goal Reached\n",
        "Goal Reached\n",
        "Goal Reached\n",
        "Goal Reached\n",
        "Goal Reached\n",
        "Goal Reached"
       ]
      },
      {
       "output_type": "stream",
       "stream": "stdout",
       "text": [
        "\n",
        "Goal Reached\n",
        "Goal Reached\n",
        "Goal Reached\n",
        "Goal Reached\n",
        "Goal Reached\n",
        "Goal Reached\n",
        "Goal Reached\n",
        "Goal Reached\n",
        "Goal Reached"
       ]
      },
      {
       "output_type": "stream",
       "stream": "stdout",
       "text": [
        "\n",
        "Goal Reached\n",
        "Goal Reached\n",
        "Goal Reached\n",
        "Goal Reached\n",
        "Goal Reached\n",
        "Goal Reached\n",
        "Goal Reached\n",
        "Goal Reached\n",
        "Goal Reached\n",
        "Goal Reached"
       ]
      },
      {
       "output_type": "stream",
       "stream": "stdout",
       "text": [
        "\n",
        "Goal Reached\n",
        "Goal Reached\n",
        "Goal Reached\n",
        "Goal Reached\n",
        "Goal Reached\n",
        "Goal Reached\n",
        "Goal Reached\n",
        "Goal Reached\n",
        "Goal Reached"
       ]
      },
      {
       "output_type": "stream",
       "stream": "stdout",
       "text": [
        "\n",
        "Goal Reached\n",
        "Goal Reached\n",
        "Goal Reached\n",
        "Goal Reached\n",
        "Goal Reached\n",
        "Goal Reached\n",
        "Goal Reached\n",
        "Goal Reached\n",
        "Goal Reached\n",
        "Goal Reached"
       ]
      },
      {
       "output_type": "stream",
       "stream": "stdout",
       "text": [
        "\n",
        "Goal Reached\n",
        "Goal Reached\n",
        "Goal Reached\n",
        "Goal Reached\n",
        "Goal Reached\n",
        "Goal Reached\n",
        "Goal Reached\n",
        "Goal Reached\n",
        "Goal Reached\n",
        "Goal Reached\n",
        "Goal Reached"
       ]
      },
      {
       "output_type": "stream",
       "stream": "stdout",
       "text": [
        "\n",
        "Goal Reached\n",
        "Goal Reached\n",
        "Goal Reached\n",
        "Goal Reached\n",
        "Goal Reached\n",
        "Goal Reached\n",
        "Goal Reached\n",
        "Goal Reached\n",
        "Goal Reached"
       ]
      },
      {
       "output_type": "stream",
       "stream": "stdout",
       "text": [
        "\n",
        "Goal Reached\n",
        "Goal Reached\n",
        "Goal Reached\n",
        "Goal Reached\n",
        "Goal Reached\n",
        "Goal Reached\n",
        "Goal Reached\n",
        "Goal Reached\n",
        "Goal Reached"
       ]
      },
      {
       "output_type": "stream",
       "stream": "stdout",
       "text": [
        "\n",
        "Goal Reached\n",
        "Goal Reached\n",
        "Goal Reached\n",
        "Goal Reached\n",
        "Goal Reached\n",
        "Goal Reached\n",
        "Goal Reached\n",
        "Goal Reached"
       ]
      },
      {
       "output_type": "stream",
       "stream": "stdout",
       "text": [
        "\n",
        "Goal Reached\n",
        "Goal Reached\n",
        "Goal Reached\n",
        "Goal Reached\n",
        "Goal Reached\n",
        "Goal Reached\n",
        "Goal Reached\n",
        "Goal Reached\n",
        "Goal Reached\n",
        "Goal Reached"
       ]
      },
      {
       "output_type": "stream",
       "stream": "stdout",
       "text": [
        "\n",
        "Goal Reached\n",
        "Goal Reached\n",
        "Goal Reached\n",
        "Goal Reached\n",
        "Goal Reached\n",
        "Goal Reached\n",
        "Goal Reached"
       ]
      },
      {
       "output_type": "stream",
       "stream": "stdout",
       "text": [
        "\n",
        "Goal Reached\n",
        "Goal Reached\n",
        "Goal Reached\n",
        "Goal Reached\n",
        "Goal Reached\n",
        "Goal Reached\n",
        "Goal Reached\n",
        "Goal Reached"
       ]
      },
      {
       "output_type": "stream",
       "stream": "stdout",
       "text": [
        "\n",
        "Goal Reached\n",
        "Goal Reached\n",
        "Goal Reached\n",
        "Goal Reached\n",
        "Goal Reached\n",
        "Goal Reached\n",
        "Goal Reached\n",
        "Goal Reached"
       ]
      },
      {
       "output_type": "stream",
       "stream": "stdout",
       "text": [
        "\n",
        "Goal Reached\n",
        "Goal Reached\n",
        "Goal Reached\n",
        "Goal Reached\n",
        "Goal Reached\n",
        "Goal Reached\n",
        "Goal Reached"
       ]
      },
      {
       "output_type": "stream",
       "stream": "stdout",
       "text": [
        "\n",
        "Goal Reached\n",
        "Goal Reached\n",
        "Goal Reached\n",
        "Goal Reached\n",
        "Goal Reached\n",
        "Goal Reached\n",
        "Goal Reached\n",
        "Goal Reached\n",
        "Goal Reached"
       ]
      },
      {
       "output_type": "stream",
       "stream": "stdout",
       "text": [
        "\n",
        "Goal Reached\n",
        "Goal Reached\n",
        "Goal Reached\n",
        "Goal Reached\n",
        "Goal Reached\n",
        "Goal Reached\n",
        "Goal Reached\n",
        "Goal Reached\n",
        "Goal Reached\n",
        "Goal Reached"
       ]
      },
      {
       "output_type": "stream",
       "stream": "stdout",
       "text": [
        "\n",
        "Goal Reached\n",
        "Goal Reached\n",
        "Goal Reached\n",
        "Goal Reached\n",
        "Goal Reached\n",
        "Goal Reached\n",
        "Goal Reached\n",
        "Goal Reached\n",
        "Goal Reached\n",
        "Goal Reached\n",
        "Goal Reached\n",
        "Goal Reached"
       ]
      },
      {
       "output_type": "stream",
       "stream": "stdout",
       "text": [
        "\n",
        "Goal Reached\n",
        "Goal Reached\n",
        "Goal Reached\n",
        "Goal Reached\n",
        "Goal Reached\n",
        "Goal Reached\n",
        "Goal Reached\n",
        "Goal Reached\n",
        "Goal Reached\n",
        "Goal Reached\n",
        "Goal Reached"
       ]
      },
      {
       "output_type": "stream",
       "stream": "stdout",
       "text": [
        "\n",
        "Goal Reached\n",
        "Goal Reached\n",
        "Goal Reached\n",
        "Goal Reached\n",
        "Goal Reached\n",
        "Goal Reached\n",
        "Goal Reached\n",
        "Goal Reached\n",
        "Goal Reached\n",
        "Goal Reached"
       ]
      },
      {
       "output_type": "stream",
       "stream": "stdout",
       "text": [
        "\n",
        "Goal Reached\n",
        "Goal Reached\n",
        "Goal Reached\n",
        "Goal Reached\n",
        "Goal Reached\n",
        "Goal Reached\n",
        "Goal Reached\n",
        "Goal Reached\n",
        "Goal Reached"
       ]
      },
      {
       "output_type": "stream",
       "stream": "stdout",
       "text": [
        "\n",
        "Goal Reached\n",
        "Goal Reached\n",
        "Goal Reached\n",
        "Goal Reached\n",
        "Goal Reached\n",
        "Goal Reached\n",
        "Goal Reached\n",
        "Goal Reached\n",
        "Goal Reached\n",
        "Goal Reached"
       ]
      },
      {
       "output_type": "stream",
       "stream": "stdout",
       "text": [
        "\n",
        "Goal Reached\n",
        "Goal Reached\n",
        "Goal Reached\n",
        "Goal Reached\n",
        "Goal Reached\n",
        "Goal Reached\n",
        "Goal Reached\n",
        "Goal Reached\n",
        "Goal Reached"
       ]
      },
      {
       "output_type": "stream",
       "stream": "stdout",
       "text": [
        "\n",
        "Goal Reached\n",
        "Goal Reached\n",
        "Goal Reached\n",
        "Goal Reached\n",
        "Goal Reached\n",
        "Goal Reached\n",
        "Goal Reached\n",
        "Goal Reached\n",
        "Goal Reached"
       ]
      },
      {
       "output_type": "stream",
       "stream": "stdout",
       "text": [
        "\n",
        "Goal Reached\n",
        "Goal Reached\n",
        "Goal Reached\n",
        "Goal Reached\n",
        "Goal Reached\n",
        "Goal Reached\n",
        "Goal Reached\n",
        "Goal Reached\n",
        "Goal Reached\n",
        "Goal Reached"
       ]
      },
      {
       "output_type": "stream",
       "stream": "stdout",
       "text": [
        "\n",
        "Goal Reached\n",
        "Goal Reached\n",
        "Goal Reached\n",
        "Goal Reached\n",
        "Goal Reached\n",
        "Goal Reached\n",
        "Goal Reached\n",
        "Goal Reached\n",
        "Goal Reached\n",
        "Goal Reached\n",
        "Goal Reached"
       ]
      },
      {
       "output_type": "stream",
       "stream": "stdout",
       "text": [
        "\n",
        "Goal Reached\n",
        "Goal Reached\n",
        "Goal Reached\n",
        "Goal Reached\n",
        "Goal Reached\n",
        "Goal Reached\n",
        "Goal Reached\n",
        "Goal Reached\n",
        "Goal Reached"
       ]
      },
      {
       "output_type": "stream",
       "stream": "stdout",
       "text": [
        "\n",
        "Goal Reached\n",
        "Goal Reached\n",
        "Goal Reached\n",
        "Goal Reached\n",
        "Goal Reached\n",
        "Goal Reached\n",
        "Goal Reached\n",
        "Goal Reached\n",
        "Goal Reached\n",
        "Goal Reached"
       ]
      },
      {
       "output_type": "stream",
       "stream": "stdout",
       "text": [
        "\n",
        "Goal Reached\n",
        "Goal Reached\n",
        "Goal Reached\n",
        "Goal Reached\n",
        "Goal Reached\n",
        "Goal Reached\n",
        "Goal Reached\n",
        "Goal Reached\n",
        "Goal Reached"
       ]
      },
      {
       "output_type": "stream",
       "stream": "stdout",
       "text": [
        "\n",
        "Goal Reached\n",
        "Goal Reached\n",
        "Goal Reached\n",
        "Goal Reached\n",
        "Goal Reached\n",
        "Goal Reached\n",
        "Goal Reached\n",
        "Goal Reached"
       ]
      },
      {
       "output_type": "stream",
       "stream": "stdout",
       "text": [
        "\n",
        "Goal Reached\n",
        "Goal Reached\n",
        "Goal Reached\n",
        "Goal Reached\n",
        "Goal Reached\n",
        "Goal Reached\n",
        "Goal Reached\n",
        "Goal Reached\n",
        "Goal Reached\n",
        "Goal Reached\n",
        "Goal Reached"
       ]
      },
      {
       "output_type": "stream",
       "stream": "stdout",
       "text": [
        "\n",
        "Goal Reached\n",
        "Goal Reached\n",
        "Goal Reached\n",
        "Goal Reached\n",
        "Goal Reached\n",
        "Goal Reached\n",
        "Goal Reached\n",
        "Goal Reached\n",
        "Goal Reached"
       ]
      },
      {
       "output_type": "stream",
       "stream": "stdout",
       "text": [
        "\n",
        "Goal Reached\n",
        "Goal Reached\n",
        "Goal Reached\n",
        "Goal Reached\n",
        "Goal Reached\n",
        "Goal Reached\n",
        "Goal Reached\n",
        "Goal Reached\n",
        "Goal Reached"
       ]
      },
      {
       "output_type": "stream",
       "stream": "stdout",
       "text": [
        "\n",
        "Goal Reached\n",
        "Goal Reached\n",
        "Goal Reached\n",
        "Goal Reached\n",
        "Goal Reached\n",
        "Goal Reached\n",
        "Goal Reached\n",
        "Goal Reached\n",
        "Goal Reached\n",
        "Goal Reached"
       ]
      },
      {
       "output_type": "stream",
       "stream": "stdout",
       "text": [
        "\n",
        "Goal Reached\n",
        "Goal Reached\n",
        "Goal Reached\n",
        "Goal Reached\n",
        "Goal Reached\n",
        "Goal Reached\n",
        "Goal Reached\n",
        "Goal Reached\n",
        "Goal Reached\n",
        "Goal Reached\n",
        "Goal Reached"
       ]
      },
      {
       "output_type": "stream",
       "stream": "stdout",
       "text": [
        "\n",
        "Goal Reached\n",
        "Goal Reached\n",
        "Goal Reached\n",
        "Goal Reached\n",
        "Goal Reached\n",
        "Goal Reached\n",
        "Goal Reached\n",
        "Goal Reached\n",
        "Goal Reached"
       ]
      },
      {
       "output_type": "stream",
       "stream": "stdout",
       "text": [
        "\n",
        "Goal Reached\n",
        "Goal Reached\n",
        "Goal Reached\n",
        "Goal Reached\n",
        "Goal Reached\n",
        "Goal Reached\n",
        "Goal Reached\n",
        "Goal Reached\n",
        "Goal Reached\n",
        "Goal Reached\n",
        "Goal Reached"
       ]
      },
      {
       "output_type": "stream",
       "stream": "stdout",
       "text": [
        "\n",
        "Goal Reached\n",
        "Goal Reached\n",
        "Goal Reached\n",
        "Goal Reached\n",
        "Goal Reached\n",
        "Goal Reached\n",
        "Goal Reached\n",
        "Goal Reached"
       ]
      },
      {
       "output_type": "stream",
       "stream": "stdout",
       "text": [
        "\n",
        "Goal Reached\n",
        "Goal Reached\n",
        "Goal Reached\n",
        "Goal Reached\n",
        "Goal Reached\n",
        "Goal Reached\n",
        "Goal Reached\n",
        "Goal Reached\n",
        "Goal Reached\n",
        "Goal Reached"
       ]
      },
      {
       "output_type": "stream",
       "stream": "stdout",
       "text": [
        "\n",
        "Goal Reached\n",
        "Goal Reached\n",
        "Goal Reached\n",
        "Goal Reached\n",
        "Goal Reached\n",
        "Goal Reached\n",
        "Goal Reached\n",
        "Goal Reached\n",
        "Goal Reached\n",
        "Goal Reached\n",
        "Goal Reached"
       ]
      },
      {
       "output_type": "stream",
       "stream": "stdout",
       "text": [
        "\n",
        "Goal Reached\n",
        "Goal Reached\n",
        "Goal Reached\n",
        "Goal Reached\n",
        "Goal Reached\n",
        "Goal Reached\n",
        "Goal Reached\n",
        "Goal Reached\n",
        "Goal Reached"
       ]
      },
      {
       "output_type": "stream",
       "stream": "stdout",
       "text": [
        "\n",
        "Goal Reached\n",
        "Goal Reached\n",
        "Goal Reached\n",
        "Goal Reached\n",
        "Goal Reached\n",
        "Goal Reached\n",
        "Goal Reached\n",
        "Goal Reached\n",
        "Goal Reached\n",
        "Goal Reached"
       ]
      },
      {
       "output_type": "stream",
       "stream": "stdout",
       "text": [
        "\n",
        "Goal Reached\n",
        "Goal Reached\n",
        "Goal Reached\n",
        "Goal Reached\n",
        "Goal Reached\n",
        "Goal Reached\n",
        "Goal Reached\n",
        "Goal Reached\n",
        "Goal Reached\n",
        "Goal Reached\n",
        "Goal Reached"
       ]
      },
      {
       "output_type": "stream",
       "stream": "stdout",
       "text": [
        "\n",
        "Goal Reached\n",
        "Goal Reached\n",
        "Goal Reached\n",
        "Goal Reached\n",
        "Goal Reached\n",
        "Goal Reached\n",
        "Goal Reached\n",
        "Goal Reached\n",
        "Goal Reached"
       ]
      },
      {
       "output_type": "stream",
       "stream": "stdout",
       "text": [
        "\n",
        "Goal Reached\n",
        "Goal Reached\n",
        "Goal Reached\n",
        "Goal Reached\n",
        "Goal Reached\n",
        "Goal Reached\n",
        "Goal Reached\n",
        "Goal Reached\n",
        "Goal Reached"
       ]
      },
      {
       "output_type": "stream",
       "stream": "stdout",
       "text": [
        "\n",
        "Goal Reached\n",
        "Goal Reached\n",
        "Goal Reached\n",
        "Goal Reached\n",
        "Goal Reached\n",
        "Goal Reached\n",
        "Goal Reached\n",
        "Goal Reached\n",
        "Goal Reached"
       ]
      },
      {
       "output_type": "stream",
       "stream": "stdout",
       "text": [
        "\n",
        "Goal Reached\n",
        "Goal Reached\n",
        "Goal Reached\n",
        "Goal Reached\n",
        "Goal Reached\n",
        "Goal Reached\n",
        "Goal Reached\n",
        "Goal Reached\n",
        "Goal Reached\n",
        "Goal Reached"
       ]
      },
      {
       "output_type": "stream",
       "stream": "stdout",
       "text": [
        "\n",
        "Goal Reached\n",
        "Goal Reached\n",
        "Goal Reached\n",
        "Goal Reached\n",
        "Goal Reached\n",
        "Goal Reached\n",
        "Goal Reached\n",
        "Goal Reached\n",
        "Goal Reached\n",
        "Goal Reached\n",
        "Goal Reached"
       ]
      },
      {
       "output_type": "stream",
       "stream": "stdout",
       "text": [
        "\n",
        "Goal Reached\n",
        "Goal Reached\n",
        "Goal Reached\n",
        "Goal Reached\n",
        "Goal Reached\n",
        "Goal Reached\n",
        "Goal Reached\n",
        "Goal Reached"
       ]
      },
      {
       "output_type": "stream",
       "stream": "stdout",
       "text": [
        "\n",
        "Goal Reached\n",
        "Goal Reached\n",
        "Goal Reached\n",
        "Goal Reached\n",
        "Goal Reached\n",
        "Goal Reached\n",
        "Goal Reached\n",
        "Goal Reached\n",
        "Goal Reached\n",
        "Goal Reached"
       ]
      },
      {
       "output_type": "stream",
       "stream": "stdout",
       "text": [
        "\n",
        "Goal Reached\n",
        "Goal Reached\n",
        "Goal Reached\n",
        "Goal Reached\n",
        "Goal Reached\n",
        "Goal Reached\n",
        "Goal Reached\n",
        "Goal Reached\n",
        "Goal Reached"
       ]
      },
      {
       "output_type": "stream",
       "stream": "stdout",
       "text": [
        "\n",
        "Goal Reached\n",
        "Goal Reached\n",
        "Goal Reached\n",
        "Goal Reached\n",
        "Goal Reached\n",
        "Goal Reached\n",
        "Goal Reached\n",
        "Goal Reached\n",
        "Goal Reached"
       ]
      },
      {
       "output_type": "stream",
       "stream": "stdout",
       "text": [
        "\n",
        "Goal Reached\n",
        "Goal Reached\n",
        "Goal Reached\n",
        "Goal Reached\n",
        "Goal Reached\n",
        "Goal Reached\n",
        "Goal Reached\n",
        "Goal Reached"
       ]
      },
      {
       "output_type": "stream",
       "stream": "stdout",
       "text": [
        "\n",
        "Goal Reached\n",
        "Goal Reached\n",
        "Goal Reached\n",
        "Goal Reached\n",
        "Goal Reached\n",
        "Goal Reached\n",
        "Goal Reached\n",
        "Goal Reached\n",
        "Goal Reached"
       ]
      },
      {
       "output_type": "stream",
       "stream": "stdout",
       "text": [
        "\n",
        "Goal Reached\n",
        "Goal Reached\n",
        "Goal Reached\n",
        "Goal Reached\n",
        "Goal Reached\n",
        "Goal Reached\n",
        "Goal Reached\n",
        "Goal Reached\n",
        "Goal Reached\n",
        "Goal Reached\n",
        "Goal Reached"
       ]
      },
      {
       "output_type": "stream",
       "stream": "stdout",
       "text": [
        "\n",
        "Goal Reached\n",
        "Goal Reached\n",
        "Goal Reached\n",
        "Goal Reached\n",
        "Goal Reached\n",
        "Goal Reached\n",
        "Goal Reached\n",
        "Goal Reached\n",
        "Goal Reached\n",
        "Goal Reached"
       ]
      },
      {
       "output_type": "stream",
       "stream": "stdout",
       "text": [
        "\n",
        "Goal Reached\n",
        "Goal Reached\n",
        "Goal Reached\n",
        "Goal Reached\n",
        "Goal Reached\n",
        "Goal Reached\n",
        "Goal Reached\n",
        "Goal Reached\n",
        "Goal Reached"
       ]
      },
      {
       "output_type": "stream",
       "stream": "stdout",
       "text": [
        "\n",
        "Goal Reached\n",
        "Goal Reached\n",
        "Goal Reached\n",
        "Goal Reached\n",
        "Goal Reached\n",
        "Goal Reached\n",
        "Goal Reached\n",
        "Goal Reached\n",
        "Goal Reached"
       ]
      },
      {
       "output_type": "stream",
       "stream": "stdout",
       "text": [
        "\n",
        "Goal Reached\n",
        "Goal Reached\n",
        "Goal Reached\n",
        "Goal Reached\n",
        "Goal Reached\n",
        "Goal Reached\n",
        "Goal Reached\n",
        "Goal Reached\n",
        "Goal Reached\n",
        "Goal Reached"
       ]
      },
      {
       "output_type": "stream",
       "stream": "stdout",
       "text": [
        "\n",
        "Goal Reached\n",
        "Goal Reached\n",
        "Goal Reached\n",
        "Goal Reached\n",
        "Goal Reached\n",
        "Goal Reached\n",
        "Goal Reached\n",
        "Goal Reached\n",
        "Goal Reached"
       ]
      },
      {
       "output_type": "stream",
       "stream": "stdout",
       "text": [
        "\n",
        "Goal Reached\n",
        "Goal Reached\n",
        "Goal Reached\n",
        "Goal Reached\n",
        "Goal Reached\n",
        "Goal Reached\n",
        "Goal Reached\n",
        "Goal Reached\n",
        "Goal Reached"
       ]
      },
      {
       "output_type": "stream",
       "stream": "stdout",
       "text": [
        "\n",
        "Goal Reached\n",
        "Goal Reached\n",
        "Goal Reached\n",
        "Goal Reached\n",
        "Goal Reached\n",
        "Goal Reached\n",
        "Goal Reached\n",
        "Goal Reached\n",
        "Goal Reached\n",
        "Goal Reached"
       ]
      },
      {
       "output_type": "stream",
       "stream": "stdout",
       "text": [
        "\n",
        "Goal Reached\n",
        "Goal Reached\n",
        "Goal Reached\n",
        "Goal Reached\n",
        "Goal Reached\n",
        "Goal Reached\n",
        "Goal Reached\n",
        "Goal Reached\n",
        "Goal Reached\n",
        "Goal Reached"
       ]
      },
      {
       "output_type": "stream",
       "stream": "stdout",
       "text": [
        "\n",
        "Goal Reached\n",
        "Goal Reached\n",
        "Goal Reached\n",
        "Goal Reached\n",
        "Goal Reached\n",
        "Goal Reached\n",
        "Goal Reached\n",
        "Goal Reached\n",
        "Goal Reached\n",
        "Goal Reached"
       ]
      },
      {
       "output_type": "stream",
       "stream": "stdout",
       "text": [
        "\n",
        "Goal Reached\n",
        "Goal Reached\n",
        "Goal Reached\n",
        "Goal Reached\n",
        "Goal Reached\n",
        "Goal Reached\n",
        "Goal Reached\n",
        "Goal Reached"
       ]
      },
      {
       "output_type": "stream",
       "stream": "stdout",
       "text": [
        "\n",
        "Goal Reached\n",
        "Goal Reached\n",
        "Goal Reached\n",
        "Goal Reached\n",
        "Goal Reached\n",
        "Goal Reached\n",
        "Goal Reached\n",
        "Goal Reached\n",
        "Goal Reached\n",
        "Goal Reached"
       ]
      },
      {
       "output_type": "stream",
       "stream": "stdout",
       "text": [
        "\n",
        "Goal Reached\n",
        "Goal Reached\n",
        "Goal Reached\n",
        "Goal Reached\n",
        "Goal Reached\n",
        "Goal Reached\n",
        "Goal Reached\n",
        "Goal Reached\n",
        "Goal Reached"
       ]
      },
      {
       "output_type": "stream",
       "stream": "stdout",
       "text": [
        "\n",
        "Goal Reached\n",
        "Goal Reached\n",
        "Goal Reached\n",
        "Goal Reached\n",
        "Goal Reached\n",
        "Goal Reached\n",
        "Goal Reached\n",
        "Goal Reached\n",
        "Goal Reached\n",
        "Goal Reached\n",
        "Goal Reached"
       ]
      },
      {
       "output_type": "stream",
       "stream": "stdout",
       "text": [
        "\n",
        "Goal Reached\n",
        "Goal Reached\n",
        "Goal Reached\n",
        "Goal Reached\n",
        "Goal Reached\n",
        "Goal Reached\n",
        "Goal Reached\n",
        "Goal Reached\n",
        "Goal Reached"
       ]
      },
      {
       "output_type": "stream",
       "stream": "stdout",
       "text": [
        "\n",
        "Goal Reached\n",
        "Goal Reached\n",
        "Goal Reached\n",
        "Goal Reached\n",
        "Goal Reached\n",
        "Goal Reached\n",
        "Goal Reached\n",
        "Goal Reached\n",
        "Goal Reached\n",
        "Goal Reached\n",
        "Goal Reached"
       ]
      },
      {
       "output_type": "stream",
       "stream": "stdout",
       "text": [
        "\n",
        "Goal Reached\n",
        "Goal Reached\n",
        "Goal Reached\n",
        "Goal Reached\n",
        "Goal Reached\n",
        "Goal Reached\n",
        "Goal Reached\n",
        "Goal Reached\n",
        "Goal Reached\n",
        "Goal Reached"
       ]
      },
      {
       "output_type": "stream",
       "stream": "stdout",
       "text": [
        "\n",
        "Goal Reached\n",
        "Goal Reached\n",
        "Goal Reached\n",
        "Goal Reached\n",
        "Goal Reached\n",
        "Goal Reached\n",
        "Goal Reached\n",
        "Goal Reached\n",
        "Goal Reached"
       ]
      },
      {
       "output_type": "stream",
       "stream": "stdout",
       "text": [
        "\n",
        "Goal Reached\n",
        "Goal Reached\n",
        "Goal Reached\n",
        "Goal Reached\n",
        "Goal Reached\n",
        "Goal Reached\n",
        "Goal Reached\n",
        "Goal Reached\n",
        "Goal Reached"
       ]
      },
      {
       "output_type": "stream",
       "stream": "stdout",
       "text": [
        "\n",
        "Goal Reached\n",
        "Goal Reached\n",
        "Goal Reached\n",
        "Goal Reached\n",
        "Goal Reached\n",
        "Goal Reached\n",
        "Goal Reached\n",
        "Goal Reached\n",
        "Goal Reached"
       ]
      },
      {
       "output_type": "stream",
       "stream": "stdout",
       "text": [
        "\n",
        "Goal Reached\n",
        "Goal Reached\n",
        "Goal Reached\n",
        "Goal Reached\n",
        "Goal Reached\n",
        "Goal Reached\n",
        "Goal Reached"
       ]
      },
      {
       "output_type": "stream",
       "stream": "stdout",
       "text": [
        "\n",
        "Goal Reached\n",
        "Goal Reached\n",
        "Goal Reached\n",
        "Goal Reached\n",
        "Goal Reached\n",
        "Goal Reached\n",
        "Goal Reached\n",
        "Goal Reached\n",
        "Goal Reached\n",
        "Goal Reached"
       ]
      },
      {
       "output_type": "stream",
       "stream": "stdout",
       "text": [
        "\n",
        "Goal Reached\n",
        "Goal Reached\n",
        "Goal Reached\n",
        "Goal Reached\n",
        "Goal Reached\n",
        "Goal Reached\n",
        "Goal Reached\n",
        "Goal Reached\n",
        "Goal Reached\n",
        "Goal Reached"
       ]
      },
      {
       "output_type": "stream",
       "stream": "stdout",
       "text": [
        "\n",
        "Goal Reached\n",
        "Goal Reached\n",
        "Goal Reached\n",
        "Goal Reached\n",
        "Goal Reached\n",
        "Goal Reached\n",
        "Goal Reached\n",
        "Goal Reached\n",
        "Goal Reached"
       ]
      },
      {
       "output_type": "stream",
       "stream": "stdout",
       "text": [
        "\n",
        "Goal Reached\n",
        "Goal Reached\n",
        "Goal Reached\n",
        "Goal Reached\n",
        "Goal Reached\n",
        "Goal Reached\n",
        "Goal Reached\n",
        "Goal Reached\n",
        "Goal Reached\n",
        "Goal Reached"
       ]
      },
      {
       "output_type": "stream",
       "stream": "stdout",
       "text": [
        "\n",
        "Goal Reached\n",
        "Goal Reached\n",
        "Goal Reached\n",
        "Goal Reached\n",
        "Goal Reached\n",
        "Goal Reached\n",
        "Goal Reached\n",
        "Goal Reached"
       ]
      },
      {
       "output_type": "stream",
       "stream": "stdout",
       "text": [
        "\n",
        "Goal Reached\n",
        "Goal Reached\n",
        "Goal Reached\n",
        "Goal Reached\n",
        "Goal Reached\n",
        "Goal Reached\n",
        "Goal Reached\n",
        "Goal Reached\n",
        "Goal Reached\n",
        "Goal Reached"
       ]
      },
      {
       "output_type": "stream",
       "stream": "stdout",
       "text": [
        "\n",
        "Goal Reached\n",
        "Goal Reached\n",
        "Goal Reached\n",
        "Goal Reached\n",
        "Goal Reached\n",
        "Goal Reached\n",
        "Goal Reached\n",
        "Goal Reached\n",
        "Goal Reached\n",
        "Goal Reached"
       ]
      },
      {
       "output_type": "stream",
       "stream": "stdout",
       "text": [
        "\n",
        "Goal Reached\n",
        "Goal Reached\n",
        "Goal Reached\n",
        "Goal Reached\n",
        "Goal Reached\n",
        "Goal Reached\n",
        "Goal Reached\n",
        "Goal Reached\n",
        "Goal Reached"
       ]
      },
      {
       "output_type": "stream",
       "stream": "stdout",
       "text": [
        "\n",
        "Goal Reached\n",
        "Goal Reached\n",
        "Goal Reached\n",
        "Goal Reached\n",
        "Goal Reached\n",
        "Goal Reached\n",
        "Goal Reached\n",
        "Goal Reached"
       ]
      },
      {
       "output_type": "stream",
       "stream": "stdout",
       "text": [
        "\n",
        "Goal Reached\n",
        "Goal Reached\n",
        "Goal Reached\n",
        "Goal Reached\n",
        "Goal Reached\n",
        "Goal Reached\n",
        "Goal Reached\n",
        "Goal Reached\n",
        "Goal Reached"
       ]
      },
      {
       "output_type": "stream",
       "stream": "stdout",
       "text": [
        "\n",
        "Goal Reached\n",
        "Goal Reached\n",
        "Goal Reached\n",
        "Goal Reached\n",
        "Goal Reached\n",
        "Goal Reached\n",
        "Goal Reached\n",
        "Goal Reached\n",
        "Goal Reached\n",
        "Goal Reached"
       ]
      },
      {
       "output_type": "stream",
       "stream": "stdout",
       "text": [
        "\n",
        "Goal Reached\n",
        "Goal Reached\n",
        "Goal Reached\n",
        "Goal Reached\n",
        "Goal Reached\n",
        "Goal Reached\n",
        "Goal Reached\n",
        "Goal Reached\n",
        "Goal Reached\n",
        "Goal Reached"
       ]
      },
      {
       "output_type": "stream",
       "stream": "stdout",
       "text": [
        "\n",
        "Goal Reached\n",
        "Goal Reached\n",
        "Goal Reached\n",
        "Goal Reached\n",
        "Goal Reached\n",
        "Goal Reached\n",
        "Goal Reached\n",
        "Goal Reached\n",
        "Goal Reached\n",
        "Goal Reached\n",
        "Goal Reached"
       ]
      },
      {
       "output_type": "stream",
       "stream": "stdout",
       "text": [
        "\n",
        "Goal Reached\n",
        "Goal Reached\n",
        "Goal Reached\n",
        "Goal Reached\n",
        "Goal Reached\n",
        "Goal Reached\n",
        "Goal Reached\n",
        "Goal Reached\n",
        "Goal Reached\n",
        "Goal Reached\n",
        "Goal Reached"
       ]
      },
      {
       "output_type": "stream",
       "stream": "stdout",
       "text": [
        "\n",
        "Goal Reached\n",
        "Goal Reached\n",
        "Goal Reached\n",
        "Goal Reached\n",
        "Goal Reached\n",
        "Goal Reached\n",
        "Goal Reached\n",
        "Goal Reached\n",
        "Goal Reached"
       ]
      },
      {
       "output_type": "stream",
       "stream": "stdout",
       "text": [
        "\n",
        "Goal Reached\n",
        "Goal Reached\n",
        "Goal Reached\n",
        "Goal Reached\n",
        "Goal Reached\n",
        "Goal Reached\n",
        "Goal Reached\n",
        "Goal Reached\n",
        "Goal Reached\n",
        "Goal Reached\n",
        "Goal Reached"
       ]
      },
      {
       "output_type": "stream",
       "stream": "stdout",
       "text": [
        "\n",
        "Goal Reached\n",
        "Goal Reached\n",
        "Goal Reached\n",
        "Goal Reached\n",
        "Goal Reached\n",
        "Goal Reached\n",
        "Goal Reached\n",
        "Goal Reached"
       ]
      },
      {
       "output_type": "stream",
       "stream": "stdout",
       "text": [
        "\n",
        "Goal Reached\n",
        "Goal Reached\n",
        "Goal Reached\n",
        "Goal Reached\n",
        "Goal Reached\n",
        "Goal Reached\n",
        "Goal Reached\n",
        "Goal Reached\n",
        "Goal Reached\n",
        "Goal Reached"
       ]
      },
      {
       "output_type": "stream",
       "stream": "stdout",
       "text": [
        "\n",
        "Goal Reached\n",
        "Goal Reached\n",
        "Goal Reached\n",
        "Goal Reached\n",
        "Goal Reached\n",
        "Goal Reached\n",
        "Goal Reached\n",
        "Goal Reached\n",
        "Goal Reached\n",
        "Goal Reached"
       ]
      },
      {
       "output_type": "stream",
       "stream": "stdout",
       "text": [
        "\n",
        "Goal Reached\n",
        "Goal Reached\n",
        "Goal Reached\n",
        "Goal Reached\n",
        "Goal Reached\n",
        "Goal Reached\n",
        "Goal Reached\n",
        "Goal Reached\n",
        "Goal Reached"
       ]
      },
      {
       "output_type": "stream",
       "stream": "stdout",
       "text": [
        "\n",
        "Goal Reached\n",
        "Goal Reached\n",
        "Goal Reached\n",
        "Goal Reached\n",
        "Goal Reached\n",
        "Goal Reached\n",
        "Goal Reached\n",
        "Goal Reached\n",
        "Goal Reached"
       ]
      },
      {
       "output_type": "stream",
       "stream": "stdout",
       "text": [
        "\n",
        "Goal Reached\n",
        "Goal Reached\n",
        "Goal Reached\n",
        "Goal Reached\n",
        "Goal Reached\n",
        "Goal Reached\n",
        "Goal Reached\n",
        "Goal Reached\n",
        "Goal Reached\n",
        "Goal Reached"
       ]
      },
      {
       "output_type": "stream",
       "stream": "stdout",
       "text": [
        "\n",
        "Goal Reached\n",
        "Goal Reached\n",
        "Goal Reached\n",
        "Goal Reached\n",
        "Goal Reached\n",
        "Goal Reached\n",
        "Goal Reached\n",
        "Goal Reached\n",
        "Goal Reached\n",
        "Goal Reached\n",
        "Goal Reached"
       ]
      },
      {
       "output_type": "stream",
       "stream": "stdout",
       "text": [
        "\n",
        "Goal Reached\n",
        "Goal Reached\n",
        "Goal Reached\n",
        "Goal Reached\n",
        "Goal Reached\n",
        "Goal Reached\n",
        "Goal Reached\n",
        "Goal Reached\n",
        "Goal Reached"
       ]
      },
      {
       "output_type": "stream",
       "stream": "stdout",
       "text": [
        "\n",
        "Goal Reached\n",
        "Goal Reached\n",
        "Goal Reached\n",
        "Goal Reached\n",
        "Goal Reached\n",
        "Goal Reached\n",
        "Goal Reached"
       ]
      },
      {
       "output_type": "stream",
       "stream": "stdout",
       "text": [
        "\n",
        "Goal Reached\n",
        "Goal Reached\n",
        "Goal Reached\n",
        "Goal Reached\n",
        "Goal Reached\n",
        "Goal Reached\n",
        "Goal Reached\n",
        "Goal Reached\n",
        "Goal Reached\n",
        "Goal Reached"
       ]
      },
      {
       "output_type": "stream",
       "stream": "stdout",
       "text": [
        "\n",
        "Goal Reached\n",
        "Goal Reached\n",
        "Goal Reached\n",
        "Goal Reached\n",
        "Goal Reached\n",
        "Goal Reached\n",
        "Goal Reached\n",
        "Goal Reached\n",
        "Goal Reached"
       ]
      },
      {
       "output_type": "stream",
       "stream": "stdout",
       "text": [
        "\n",
        "Goal Reached\n",
        "Goal Reached\n",
        "Goal Reached\n",
        "Goal Reached\n",
        "Goal Reached\n",
        "Goal Reached\n",
        "Goal Reached\n",
        "Goal Reached\n",
        "Goal Reached\n",
        "Goal Reached"
       ]
      },
      {
       "output_type": "stream",
       "stream": "stdout",
       "text": [
        "\n",
        "Goal Reached\n",
        "Goal Reached\n",
        "Goal Reached\n",
        "Goal Reached\n",
        "Goal Reached\n",
        "Goal Reached\n",
        "Goal Reached\n",
        "Goal Reached\n",
        "Goal Reached"
       ]
      },
      {
       "output_type": "stream",
       "stream": "stdout",
       "text": [
        "\n",
        "Goal Reached\n",
        "Goal Reached\n",
        "Goal Reached\n",
        "Goal Reached\n",
        "Goal Reached\n",
        "Goal Reached\n",
        "Goal Reached\n",
        "Goal Reached\n",
        "Goal Reached"
       ]
      },
      {
       "output_type": "stream",
       "stream": "stdout",
       "text": [
        "\n",
        "Goal Reached\n",
        "Goal Reached\n",
        "Goal Reached\n",
        "Goal Reached\n",
        "Goal Reached\n",
        "Goal Reached\n",
        "Goal Reached\n",
        "Goal Reached\n",
        "Goal Reached\n",
        "Goal Reached"
       ]
      },
      {
       "output_type": "stream",
       "stream": "stdout",
       "text": [
        "\n",
        "Goal Reached\n",
        "Goal Reached\n",
        "Goal Reached\n",
        "Goal Reached\n",
        "Goal Reached\n",
        "Goal Reached\n",
        "Goal Reached\n",
        "Goal Reached"
       ]
      },
      {
       "output_type": "stream",
       "stream": "stdout",
       "text": [
        "\n",
        "Goal Reached\n",
        "Goal Reached\n",
        "Goal Reached\n",
        "Goal Reached\n",
        "Goal Reached\n",
        "Goal Reached\n",
        "Goal Reached\n",
        "Goal Reached\n",
        "Goal Reached\n",
        "Goal Reached"
       ]
      },
      {
       "output_type": "stream",
       "stream": "stdout",
       "text": [
        "\n",
        "Goal Reached\n",
        "Goal Reached\n",
        "Goal Reached\n",
        "Goal Reached\n",
        "Goal Reached\n",
        "Goal Reached\n",
        "Goal Reached\n",
        "Goal Reached"
       ]
      },
      {
       "output_type": "stream",
       "stream": "stdout",
       "text": [
        "\n",
        "Goal Reached\n",
        "Goal Reached\n",
        "Goal Reached\n",
        "Goal Reached\n",
        "Goal Reached\n",
        "Goal Reached\n",
        "Goal Reached\n",
        "Goal Reached\n",
        "Goal Reached"
       ]
      },
      {
       "output_type": "stream",
       "stream": "stdout",
       "text": [
        "\n",
        "Goal Reached\n",
        "Goal Reached\n",
        "Goal Reached\n",
        "Goal Reached\n",
        "Goal Reached\n",
        "Goal Reached\n",
        "Goal Reached\n",
        "Goal Reached\n",
        "Goal Reached\n",
        "Goal Reached"
       ]
      },
      {
       "output_type": "stream",
       "stream": "stdout",
       "text": [
        "\n",
        "Goal Reached\n",
        "Goal Reached\n",
        "Goal Reached\n",
        "Goal Reached\n",
        "Goal Reached\n",
        "Goal Reached\n",
        "Goal Reached\n",
        "Goal Reached"
       ]
      },
      {
       "output_type": "stream",
       "stream": "stdout",
       "text": [
        "\n",
        "Goal Reached\n",
        "Goal Reached\n",
        "Goal Reached\n",
        "Goal Reached\n",
        "Goal Reached\n",
        "Goal Reached\n",
        "Goal Reached\n",
        "Goal Reached\n",
        "Goal Reached\n",
        "Goal Reached"
       ]
      },
      {
       "output_type": "stream",
       "stream": "stdout",
       "text": [
        "\n",
        "Goal Reached\n",
        "Goal Reached\n",
        "Goal Reached\n",
        "Goal Reached\n",
        "Goal Reached\n",
        "Goal Reached\n",
        "Goal Reached\n",
        "Goal Reached\n",
        "Goal Reached"
       ]
      },
      {
       "output_type": "stream",
       "stream": "stdout",
       "text": [
        "\n",
        "Goal Reached\n",
        "Goal Reached\n",
        "Goal Reached\n",
        "Goal Reached\n",
        "Goal Reached\n",
        "Goal Reached\n",
        "Goal Reached\n",
        "Goal Reached\n",
        "Goal Reached\n",
        "Goal Reached"
       ]
      },
      {
       "output_type": "stream",
       "stream": "stdout",
       "text": [
        "\n",
        "Goal Reached\n",
        "Goal Reached\n",
        "Goal Reached\n",
        "Goal Reached\n",
        "Goal Reached\n",
        "Goal Reached\n",
        "Goal Reached\n",
        "Goal Reached\n",
        "Goal Reached\n",
        "Goal Reached"
       ]
      },
      {
       "output_type": "stream",
       "stream": "stdout",
       "text": [
        "\n",
        "Goal Reached\n",
        "Goal Reached\n",
        "Goal Reached\n",
        "Goal Reached\n",
        "Goal Reached\n",
        "Goal Reached\n",
        "Goal Reached\n",
        "Goal Reached\n",
        "Goal Reached"
       ]
      },
      {
       "output_type": "stream",
       "stream": "stdout",
       "text": [
        "\n",
        "Goal Reached\n",
        "Goal Reached\n",
        "Goal Reached\n",
        "Goal Reached\n",
        "Goal Reached\n",
        "Goal Reached\n",
        "Goal Reached\n",
        "Goal Reached"
       ]
      },
      {
       "output_type": "stream",
       "stream": "stdout",
       "text": [
        "\n",
        "Goal Reached\n",
        "Goal Reached\n",
        "Goal Reached\n",
        "Goal Reached\n",
        "Goal Reached\n",
        "Goal Reached\n",
        "Goal Reached\n",
        "Goal Reached\n",
        "Goal Reached\n",
        "Goal Reached\n",
        "Goal Reached"
       ]
      },
      {
       "output_type": "stream",
       "stream": "stdout",
       "text": [
        "\n",
        "Goal Reached\n",
        "Goal Reached\n",
        "Goal Reached\n",
        "Goal Reached\n",
        "Goal Reached\n",
        "Goal Reached\n",
        "Goal Reached\n",
        "Goal Reached\n",
        "Goal Reached\n",
        "Goal Reached\n",
        "Goal Reached"
       ]
      },
      {
       "output_type": "stream",
       "stream": "stdout",
       "text": [
        "\n",
        "Goal Reached\n",
        "Goal Reached\n",
        "Goal Reached\n",
        "Goal Reached\n",
        "Goal Reached\n",
        "Goal Reached\n",
        "Goal Reached\n",
        "Goal Reached\n",
        "Goal Reached"
       ]
      },
      {
       "output_type": "stream",
       "stream": "stdout",
       "text": [
        "\n",
        "Goal Reached\n",
        "Goal Reached\n",
        "Goal Reached\n",
        "Goal Reached\n",
        "Goal Reached\n",
        "Goal Reached\n",
        "Goal Reached\n",
        "Goal Reached\n",
        "Goal Reached"
       ]
      },
      {
       "output_type": "stream",
       "stream": "stdout",
       "text": [
        "\n",
        "Goal Reached\n",
        "Goal Reached\n",
        "Goal Reached\n",
        "Goal Reached\n",
        "Goal Reached\n",
        "Goal Reached\n",
        "Goal Reached\n",
        "Goal Reached\n",
        "Goal Reached\n",
        "Goal Reached"
       ]
      },
      {
       "output_type": "stream",
       "stream": "stdout",
       "text": [
        "\n",
        "Goal Reached\n",
        "Goal Reached\n",
        "Goal Reached\n",
        "Goal Reached\n",
        "Goal Reached\n",
        "Goal Reached\n",
        "Goal Reached\n",
        "Goal Reached\n",
        "Goal Reached\n",
        "Goal Reached\n",
        "Goal Reached"
       ]
      },
      {
       "output_type": "stream",
       "stream": "stdout",
       "text": [
        "\n",
        "Goal Reached\n",
        "Goal Reached\n",
        "Goal Reached\n",
        "Goal Reached\n",
        "Goal Reached\n",
        "Goal Reached\n",
        "Goal Reached"
       ]
      },
      {
       "output_type": "stream",
       "stream": "stdout",
       "text": [
        "\n",
        "Goal Reached\n",
        "Goal Reached\n",
        "Goal Reached\n",
        "Goal Reached\n",
        "Goal Reached\n",
        "Goal Reached\n",
        "Goal Reached\n",
        "Goal Reached\n",
        "Goal Reached\n",
        "Goal Reached\n",
        "Goal Reached"
       ]
      },
      {
       "output_type": "stream",
       "stream": "stdout",
       "text": [
        "\n",
        "Goal Reached\n",
        "Goal Reached\n",
        "Goal Reached\n",
        "Goal Reached\n",
        "Goal Reached\n",
        "Goal Reached\n",
        "Goal Reached\n",
        "Goal Reached\n",
        "Goal Reached\n",
        "Goal Reached\n",
        "Goal Reached"
       ]
      },
      {
       "output_type": "stream",
       "stream": "stdout",
       "text": [
        "\n",
        "Goal Reached\n",
        "Goal Reached\n",
        "Goal Reached\n",
        "Goal Reached\n",
        "Goal Reached\n",
        "Goal Reached\n",
        "Goal Reached\n",
        "Goal Reached\n",
        "Goal Reached"
       ]
      },
      {
       "output_type": "stream",
       "stream": "stdout",
       "text": [
        "\n",
        "Goal Reached\n",
        "Goal Reached\n",
        "Goal Reached\n",
        "Goal Reached\n",
        "Goal Reached\n",
        "Goal Reached\n",
        "Goal Reached\n",
        "Goal Reached\n",
        "Goal Reached\n",
        "Goal Reached\n",
        "Goal Reached"
       ]
      },
      {
       "output_type": "stream",
       "stream": "stdout",
       "text": [
        "\n",
        "Goal Reached\n",
        "Goal Reached\n",
        "Goal Reached\n",
        "Goal Reached\n",
        "Goal Reached\n",
        "Goal Reached\n",
        "Goal Reached\n",
        "Goal Reached\n",
        "Goal Reached\n",
        "Goal Reached"
       ]
      },
      {
       "output_type": "stream",
       "stream": "stdout",
       "text": [
        "\n",
        "Goal Reached\n",
        "Goal Reached\n",
        "Goal Reached\n",
        "Goal Reached\n",
        "Goal Reached\n",
        "Goal Reached\n",
        "Goal Reached\n",
        "Goal Reached\n",
        "Goal Reached\n",
        "Goal Reached\n",
        "Goal Reached"
       ]
      },
      {
       "output_type": "stream",
       "stream": "stdout",
       "text": [
        "\n",
        "Goal Reached\n",
        "Goal Reached\n",
        "Goal Reached\n",
        "Goal Reached\n",
        "Goal Reached\n",
        "Goal Reached\n",
        "Goal Reached\n",
        "Goal Reached"
       ]
      },
      {
       "output_type": "stream",
       "stream": "stdout",
       "text": [
        "\n",
        "Goal Reached\n",
        "Goal Reached\n",
        "Goal Reached\n",
        "Goal Reached\n",
        "Goal Reached\n",
        "Goal Reached\n",
        "Goal Reached\n",
        "Goal Reached"
       ]
      },
      {
       "output_type": "stream",
       "stream": "stdout",
       "text": [
        "\n",
        "Goal Reached\n",
        "Goal Reached\n",
        "Goal Reached\n",
        "Goal Reached\n",
        "Goal Reached\n",
        "Goal Reached\n",
        "Goal Reached\n",
        "Goal Reached\n",
        "Goal Reached\n",
        "Goal Reached"
       ]
      },
      {
       "output_type": "stream",
       "stream": "stdout",
       "text": [
        "\n",
        "Goal Reached\n",
        "Goal Reached\n",
        "Goal Reached\n",
        "Goal Reached\n",
        "Goal Reached\n",
        "Goal Reached\n",
        "Goal Reached\n",
        "Goal Reached\n",
        "Goal Reached\n",
        "Goal Reached\n",
        "Goal Reached"
       ]
      },
      {
       "output_type": "stream",
       "stream": "stdout",
       "text": [
        "\n",
        "Goal Reached\n",
        "Goal Reached\n",
        "Goal Reached\n",
        "Goal Reached\n",
        "Goal Reached\n",
        "Goal Reached\n",
        "Goal Reached\n",
        "Goal Reached\n",
        "Goal Reached\n",
        "Goal Reached\n",
        "Goal Reached"
       ]
      },
      {
       "output_type": "stream",
       "stream": "stdout",
       "text": [
        "\n",
        "Goal Reached\n",
        "Goal Reached\n",
        "Goal Reached\n",
        "Goal Reached\n",
        "Goal Reached\n",
        "Goal Reached\n",
        "Goal Reached\n",
        "Goal Reached"
       ]
      },
      {
       "output_type": "stream",
       "stream": "stdout",
       "text": [
        "\n",
        "Goal Reached\n",
        "Goal Reached\n",
        "Goal Reached\n",
        "Goal Reached\n",
        "Goal Reached\n",
        "Goal Reached\n",
        "Goal Reached\n",
        "Goal Reached\n",
        "Goal Reached\n",
        "Goal Reached"
       ]
      },
      {
       "output_type": "stream",
       "stream": "stdout",
       "text": [
        "\n",
        "Goal Reached\n",
        "Goal Reached\n",
        "Goal Reached\n",
        "Goal Reached\n",
        "Goal Reached\n",
        "Goal Reached\n",
        "Goal Reached\n",
        "Goal Reached\n",
        "Goal Reached\n",
        "Goal Reached"
       ]
      },
      {
       "output_type": "stream",
       "stream": "stdout",
       "text": [
        "\n",
        "Goal Reached\n",
        "Goal Reached\n",
        "Goal Reached\n",
        "Goal Reached\n",
        "Goal Reached\n",
        "Goal Reached\n",
        "Goal Reached\n",
        "Goal Reached\n",
        "Goal Reached\n",
        "Goal Reached\n",
        "Goal Reached\n",
        "Goal Reached"
       ]
      },
      {
       "output_type": "stream",
       "stream": "stdout",
       "text": [
        "\n",
        "Goal Reached\n",
        "Goal Reached\n",
        "Goal Reached\n",
        "Goal Reached\n",
        "Goal Reached\n",
        "Goal Reached\n",
        "Goal Reached\n",
        "Goal Reached\n",
        "Goal Reached"
       ]
      },
      {
       "output_type": "stream",
       "stream": "stdout",
       "text": [
        "\n",
        "Goal Reached\n",
        "Goal Reached\n",
        "Goal Reached\n",
        "Goal Reached\n",
        "Goal Reached\n",
        "Goal Reached\n",
        "Goal Reached\n",
        "Goal Reached\n",
        "Goal Reached\n",
        "Goal Reached\n",
        "Goal Reached"
       ]
      },
      {
       "output_type": "stream",
       "stream": "stdout",
       "text": [
        "\n",
        "Goal Reached\n",
        "Goal Reached\n",
        "Goal Reached\n",
        "Goal Reached\n",
        "Goal Reached\n",
        "Goal Reached\n",
        "Goal Reached\n",
        "Goal Reached"
       ]
      },
      {
       "output_type": "stream",
       "stream": "stdout",
       "text": [
        "\n",
        "Goal Reached\n",
        "Goal Reached\n",
        "Goal Reached\n",
        "Goal Reached\n",
        "Goal Reached\n",
        "Goal Reached\n",
        "Goal Reached\n",
        "Goal Reached\n",
        "Goal Reached\n",
        "Goal Reached\n",
        "Goal Reached"
       ]
      },
      {
       "output_type": "stream",
       "stream": "stdout",
       "text": [
        "\n",
        "Goal Reached\n",
        "Goal Reached\n",
        "Goal Reached\n",
        "Goal Reached\n",
        "Goal Reached\n",
        "Goal Reached\n",
        "Goal Reached"
       ]
      },
      {
       "output_type": "stream",
       "stream": "stdout",
       "text": [
        "\n",
        "Goal Reached\n",
        "Goal Reached\n",
        "Goal Reached\n",
        "Goal Reached\n",
        "Goal Reached\n",
        "Goal Reached\n",
        "Goal Reached"
       ]
      },
      {
       "output_type": "stream",
       "stream": "stdout",
       "text": [
        "\n",
        "Goal Reached\n",
        "Goal Reached\n",
        "Goal Reached\n",
        "Goal Reached\n",
        "Goal Reached\n",
        "Goal Reached\n",
        "Goal Reached\n",
        "Goal Reached\n",
        "Goal Reached"
       ]
      },
      {
       "output_type": "stream",
       "stream": "stdout",
       "text": [
        "\n",
        "Goal Reached\n",
        "Goal Reached\n",
        "Goal Reached\n",
        "Goal Reached\n",
        "Goal Reached\n",
        "Goal Reached\n",
        "Goal Reached\n",
        "Goal Reached\n",
        "Goal Reached\n",
        "Goal Reached\n",
        "Goal Reached"
       ]
      },
      {
       "output_type": "stream",
       "stream": "stdout",
       "text": [
        "\n",
        "Goal Reached\n",
        "Goal Reached\n",
        "Goal Reached\n",
        "Goal Reached\n",
        "Goal Reached\n",
        "Goal Reached\n",
        "Goal Reached\n",
        "Goal Reached\n",
        "Goal Reached\n",
        "Goal Reached"
       ]
      },
      {
       "output_type": "stream",
       "stream": "stdout",
       "text": [
        "\n",
        "Goal Reached\n",
        "Goal Reached\n",
        "Goal Reached\n",
        "Goal Reached\n",
        "Goal Reached\n",
        "Goal Reached\n",
        "Goal Reached\n",
        "Goal Reached\n",
        "Goal Reached\n",
        "Goal Reached"
       ]
      },
      {
       "output_type": "stream",
       "stream": "stdout",
       "text": [
        "\n",
        "Goal Reached\n",
        "Goal Reached\n",
        "Goal Reached\n",
        "Goal Reached\n",
        "Goal Reached\n",
        "Goal Reached\n",
        "Goal Reached\n",
        "Goal Reached\n",
        "Goal Reached\n",
        "Goal Reached"
       ]
      },
      {
       "output_type": "stream",
       "stream": "stdout",
       "text": [
        "\n",
        "Goal Reached\n",
        "Goal Reached\n",
        "Goal Reached\n",
        "Goal Reached\n",
        "Goal Reached\n",
        "Goal Reached\n",
        "Goal Reached\n",
        "Goal Reached\n",
        "Goal Reached\n",
        "Goal Reached\n",
        "Goal Reached"
       ]
      },
      {
       "output_type": "stream",
       "stream": "stdout",
       "text": [
        "\n",
        "Goal Reached\n",
        "Goal Reached\n",
        "Goal Reached\n",
        "Goal Reached\n",
        "Goal Reached\n",
        "Goal Reached\n",
        "Goal Reached\n",
        "Goal Reached\n",
        "Goal Reached\n",
        "Goal Reached\n",
        "Goal Reached"
       ]
      },
      {
       "output_type": "stream",
       "stream": "stdout",
       "text": [
        "\n",
        "Goal Reached\n",
        "Goal Reached\n",
        "Goal Reached\n",
        "Goal Reached\n",
        "Goal Reached\n",
        "Goal Reached\n",
        "Goal Reached\n",
        "Goal Reached\n",
        "Goal Reached"
       ]
      },
      {
       "output_type": "stream",
       "stream": "stdout",
       "text": [
        "\n",
        "Goal Reached\n",
        "Goal Reached\n",
        "Goal Reached\n",
        "Goal Reached\n",
        "Goal Reached\n",
        "Goal Reached\n",
        "Goal Reached\n",
        "Goal Reached\n",
        "Goal Reached"
       ]
      },
      {
       "output_type": "stream",
       "stream": "stdout",
       "text": [
        "\n",
        "Goal Reached\n",
        "Goal Reached\n",
        "Goal Reached\n",
        "Goal Reached\n",
        "Goal Reached\n",
        "Goal Reached\n",
        "Goal Reached\n",
        "Goal Reached"
       ]
      },
      {
       "output_type": "stream",
       "stream": "stdout",
       "text": [
        "\n",
        "Goal Reached\n",
        "Goal Reached\n",
        "Goal Reached\n",
        "Goal Reached\n",
        "Goal Reached\n",
        "Goal Reached\n",
        "Goal Reached\n",
        "Goal Reached\n",
        "Goal Reached\n",
        "Goal Reached"
       ]
      },
      {
       "output_type": "stream",
       "stream": "stdout",
       "text": [
        "\n",
        "Goal Reached\n",
        "Goal Reached\n",
        "Goal Reached\n",
        "Goal Reached\n",
        "Goal Reached\n",
        "Goal Reached\n",
        "Goal Reached\n",
        "Goal Reached\n",
        "Goal Reached\n",
        "Goal Reached"
       ]
      },
      {
       "output_type": "stream",
       "stream": "stdout",
       "text": [
        "\n",
        "Goal Reached\n",
        "Goal Reached\n",
        "Goal Reached\n",
        "Goal Reached\n",
        "Goal Reached\n",
        "Goal Reached\n",
        "Goal Reached\n",
        "Goal Reached\n",
        "Goal Reached"
       ]
      },
      {
       "output_type": "stream",
       "stream": "stdout",
       "text": [
        "\n",
        "Goal Reached\n",
        "Goal Reached\n",
        "Goal Reached\n",
        "Goal Reached\n",
        "Goal Reached\n",
        "Goal Reached\n",
        "Goal Reached\n",
        "Goal Reached\n",
        "Goal Reached\n",
        "Goal Reached"
       ]
      },
      {
       "output_type": "stream",
       "stream": "stdout",
       "text": [
        "\n",
        "Goal Reached\n",
        "Goal Reached\n",
        "Goal Reached\n",
        "Goal Reached\n",
        "Goal Reached\n",
        "Goal Reached\n",
        "Goal Reached\n",
        "Goal Reached\n",
        "Goal Reached\n",
        "Goal Reached\n",
        "Goal Reached"
       ]
      },
      {
       "output_type": "stream",
       "stream": "stdout",
       "text": [
        "\n",
        "Goal Reached\n",
        "Goal Reached\n",
        "Goal Reached\n",
        "Goal Reached\n",
        "Goal Reached\n",
        "Goal Reached\n",
        "Goal Reached\n",
        "Goal Reached\n",
        "Goal Reached"
       ]
      },
      {
       "output_type": "stream",
       "stream": "stdout",
       "text": [
        "\n",
        "Goal Reached\n",
        "Goal Reached\n",
        "Goal Reached\n",
        "Goal Reached\n",
        "Goal Reached\n",
        "Goal Reached\n",
        "Goal Reached\n",
        "Goal Reached\n",
        "Goal Reached"
       ]
      },
      {
       "output_type": "stream",
       "stream": "stdout",
       "text": [
        "\n",
        "Goal Reached\n",
        "Goal Reached\n",
        "Goal Reached\n",
        "Goal Reached\n",
        "Goal Reached\n",
        "Goal Reached\n",
        "Goal Reached\n",
        "Goal Reached\n",
        "Goal Reached\n",
        "Goal Reached"
       ]
      },
      {
       "output_type": "stream",
       "stream": "stdout",
       "text": [
        "\n",
        "Goal Reached\n",
        "Goal Reached\n",
        "Goal Reached\n",
        "Goal Reached\n",
        "Goal Reached\n",
        "Goal Reached\n",
        "Goal Reached\n",
        "Goal Reached\n",
        "Goal Reached\n",
        "Goal Reached\n",
        "Goal Reached"
       ]
      },
      {
       "output_type": "stream",
       "stream": "stdout",
       "text": [
        "\n",
        "Goal Reached\n",
        "Goal Reached\n",
        "Goal Reached\n",
        "Goal Reached\n",
        "Goal Reached\n",
        "Goal Reached\n",
        "Goal Reached\n",
        "Goal Reached\n",
        "Goal Reached\n",
        "Goal Reached"
       ]
      },
      {
       "output_type": "stream",
       "stream": "stdout",
       "text": [
        "\n",
        "Goal Reached\n",
        "Goal Reached\n",
        "Goal Reached\n",
        "Goal Reached\n",
        "Goal Reached\n",
        "Goal Reached\n",
        "Goal Reached\n",
        "Goal Reached\n",
        "Goal Reached"
       ]
      },
      {
       "output_type": "stream",
       "stream": "stdout",
       "text": [
        "\n",
        "Goal Reached\n",
        "Goal Reached\n",
        "Goal Reached\n",
        "Goal Reached\n",
        "Goal Reached\n",
        "Goal Reached\n",
        "Goal Reached\n",
        "Goal Reached"
       ]
      },
      {
       "output_type": "stream",
       "stream": "stdout",
       "text": [
        "\n",
        "Goal Reached\n",
        "Goal Reached\n",
        "Goal Reached\n",
        "Goal Reached\n",
        "Goal Reached\n",
        "Goal Reached\n",
        "Goal Reached\n",
        "Goal Reached\n",
        "Goal Reached\n",
        "Goal Reached\n",
        "Goal Reached"
       ]
      },
      {
       "output_type": "stream",
       "stream": "stdout",
       "text": [
        "\n",
        "Goal Reached\n",
        "Goal Reached\n",
        "Goal Reached\n",
        "Goal Reached\n",
        "Goal Reached\n",
        "Goal Reached\n",
        "Goal Reached\n",
        "Goal Reached\n",
        "Goal Reached"
       ]
      },
      {
       "output_type": "stream",
       "stream": "stdout",
       "text": [
        "\n",
        "Goal Reached\n",
        "Goal Reached\n",
        "Goal Reached\n",
        "Goal Reached\n",
        "Goal Reached\n",
        "Goal Reached\n",
        "Goal Reached\n",
        "Goal Reached\n",
        "Goal Reached"
       ]
      },
      {
       "output_type": "stream",
       "stream": "stdout",
       "text": [
        "\n",
        "Goal Reached\n",
        "Goal Reached\n",
        "Goal Reached\n",
        "Goal Reached\n",
        "Goal Reached\n",
        "Goal Reached\n",
        "Goal Reached\n",
        "Goal Reached\n",
        "Goal Reached\n",
        "Goal Reached"
       ]
      },
      {
       "output_type": "stream",
       "stream": "stdout",
       "text": [
        "\n",
        "Goal Reached\n",
        "Goal Reached\n",
        "Goal Reached\n",
        "Goal Reached\n",
        "Goal Reached\n",
        "Goal Reached\n",
        "Goal Reached\n",
        "Goal Reached\n",
        "Goal Reached\n",
        "Goal Reached\n"
       ]
      },
      {
       "output_type": "stream",
       "stream": "stdout",
       "text": [
        "Goal Reached\n",
        "Goal Reached\n",
        "Goal Reached\n",
        "Goal Reached\n",
        "Goal Reached\n",
        "Goal Reached\n",
        "Goal Reached\n",
        "Goal Reached\n",
        "Goal Reached\n",
        "Goal Reached\n",
        "Goal Reached\n",
        "Goal Reached\n",
        "Goal Reached\n",
        "Goal Reached"
       ]
      },
      {
       "output_type": "stream",
       "stream": "stdout",
       "text": [
        "\n",
        "Goal Reached\n",
        "Goal Reached\n",
        "Goal Reached\n",
        "Goal Reached\n",
        "Goal Reached\n",
        "Goal Reached\n",
        "Goal Reached\n",
        "Goal Reached"
       ]
      },
      {
       "output_type": "stream",
       "stream": "stdout",
       "text": [
        "\n",
        "Goal Reached\n",
        "Goal Reached\n",
        "Goal Reached\n",
        "Goal Reached\n",
        "Goal Reached\n",
        "Goal Reached\n",
        "Goal Reached\n",
        "Goal Reached\n",
        "Goal Reached"
       ]
      },
      {
       "output_type": "stream",
       "stream": "stdout",
       "text": [
        "\n",
        "Goal Reached\n",
        "Goal Reached\n",
        "Goal Reached\n",
        "Goal Reached\n",
        "Goal Reached\n",
        "Goal Reached\n",
        "Goal Reached\n",
        "Goal Reached\n",
        "Goal Reached"
       ]
      },
      {
       "output_type": "stream",
       "stream": "stdout",
       "text": [
        "\n",
        "Goal Reached\n",
        "Goal Reached\n",
        "Goal Reached\n",
        "Goal Reached\n",
        "Goal Reached\n",
        "Goal Reached\n",
        "Goal Reached\n",
        "Goal Reached\n",
        "Goal Reached\n",
        "Goal Reached"
       ]
      },
      {
       "output_type": "stream",
       "stream": "stdout",
       "text": [
        "\n",
        "Goal Reached\n",
        "Goal Reached\n",
        "Goal Reached\n",
        "Goal Reached\n",
        "Goal Reached\n",
        "Goal Reached\n",
        "Goal Reached\n",
        "Goal Reached\n",
        "Goal Reached\n",
        "Goal Reached"
       ]
      },
      {
       "output_type": "stream",
       "stream": "stdout",
       "text": [
        "\n",
        "Goal Reached\n",
        "Goal Reached\n",
        "Goal Reached\n",
        "Goal Reached\n",
        "Goal Reached\n",
        "Goal Reached\n",
        "Goal Reached\n",
        "Goal Reached\n",
        "Goal Reached"
       ]
      },
      {
       "output_type": "stream",
       "stream": "stdout",
       "text": [
        "\n",
        "Goal Reached\n",
        "Goal Reached\n",
        "Goal Reached\n",
        "Goal Reached\n",
        "Goal Reached\n",
        "Goal Reached\n",
        "Goal Reached\n",
        "Goal Reached\n",
        "Goal Reached\n",
        "Goal Reached\n",
        "Goal Reached"
       ]
      },
      {
       "output_type": "stream",
       "stream": "stdout",
       "text": [
        "\n",
        "Goal Reached\n",
        "Goal Reached\n",
        "Goal Reached\n",
        "Goal Reached\n",
        "Goal Reached\n",
        "Goal Reached\n",
        "Goal Reached\n",
        "Goal Reached\n",
        "Goal Reached\n",
        "Goal Reached"
       ]
      },
      {
       "output_type": "stream",
       "stream": "stdout",
       "text": [
        "\n",
        "Goal Reached\n",
        "Goal Reached\n",
        "Goal Reached\n",
        "Goal Reached\n",
        "Goal Reached\n",
        "Goal Reached\n",
        "Goal Reached\n",
        "Goal Reached\n",
        "Goal Reached\n",
        "Goal Reached"
       ]
      },
      {
       "output_type": "stream",
       "stream": "stdout",
       "text": [
        "\n",
        "Goal Reached\n",
        "Goal Reached\n",
        "Goal Reached\n",
        "Goal Reached\n",
        "Goal Reached\n",
        "Goal Reached\n",
        "Goal Reached\n",
        "Goal Reached\n",
        "Goal Reached"
       ]
      },
      {
       "output_type": "stream",
       "stream": "stdout",
       "text": [
        "\n",
        "Goal Reached\n",
        "Goal Reached\n",
        "Goal Reached\n",
        "Goal Reached\n",
        "Goal Reached\n",
        "Goal Reached\n",
        "Goal Reached\n",
        "Goal Reached\n",
        "Goal Reached\n",
        "Goal Reached"
       ]
      },
      {
       "output_type": "stream",
       "stream": "stdout",
       "text": [
        "\n",
        "Goal Reached\n",
        "Goal Reached\n",
        "Goal Reached\n",
        "Goal Reached\n",
        "Goal Reached\n",
        "Goal Reached\n",
        "Goal Reached\n",
        "Goal Reached\n",
        "Goal Reached"
       ]
      },
      {
       "output_type": "stream",
       "stream": "stdout",
       "text": [
        "\n",
        "Goal Reached\n",
        "Goal Reached\n",
        "Goal Reached\n",
        "Goal Reached\n",
        "Goal Reached\n",
        "Goal Reached\n",
        "Goal Reached\n",
        "Goal Reached\n",
        "Goal Reached\n",
        "Goal Reached\n",
        "Goal Reached"
       ]
      },
      {
       "output_type": "stream",
       "stream": "stdout",
       "text": [
        "\n",
        "Goal Reached\n",
        "Goal Reached\n",
        "Goal Reached\n",
        "Goal Reached\n",
        "Goal Reached\n",
        "Goal Reached\n",
        "Goal Reached\n",
        "Goal Reached\n",
        "Goal Reached\n",
        "Goal Reached\n",
        "Goal Reached\n",
        "Goal Reached"
       ]
      },
      {
       "output_type": "stream",
       "stream": "stdout",
       "text": [
        "\n",
        "Goal Reached\n",
        "Goal Reached\n",
        "Goal Reached\n",
        "Goal Reached\n",
        "Goal Reached\n",
        "Goal Reached\n",
        "Goal Reached\n",
        "Goal Reached\n",
        "Goal Reached"
       ]
      },
      {
       "output_type": "stream",
       "stream": "stdout",
       "text": [
        "\n",
        "Goal Reached\n",
        "Goal Reached\n",
        "Goal Reached\n",
        "Goal Reached\n",
        "Goal Reached\n",
        "Goal Reached\n",
        "Goal Reached\n",
        "Goal Reached\n",
        "Goal Reached"
       ]
      },
      {
       "output_type": "stream",
       "stream": "stdout",
       "text": [
        "\n",
        "Goal Reached\n",
        "Goal Reached\n",
        "Goal Reached\n",
        "Goal Reached\n",
        "Goal Reached\n",
        "Goal Reached\n",
        "Goal Reached\n",
        "Goal Reached\n",
        "Goal Reached\n",
        "Goal Reached"
       ]
      },
      {
       "output_type": "stream",
       "stream": "stdout",
       "text": [
        "\n",
        "Goal Reached\n",
        "Goal Reached\n",
        "Goal Reached\n",
        "Goal Reached\n",
        "Goal Reached\n",
        "Goal Reached\n",
        "Goal Reached\n",
        "Goal Reached\n",
        "Goal Reached"
       ]
      },
      {
       "output_type": "stream",
       "stream": "stdout",
       "text": [
        "\n",
        "Goal Reached\n",
        "Goal Reached\n",
        "Goal Reached\n",
        "Goal Reached\n",
        "Goal Reached\n",
        "Goal Reached\n",
        "Goal Reached\n",
        "Goal Reached\n",
        "Goal Reached\n",
        "Goal Reached\n",
        "Goal Reached"
       ]
      },
      {
       "output_type": "stream",
       "stream": "stdout",
       "text": [
        "\n",
        "Goal Reached\n",
        "Goal Reached\n",
        "Goal Reached\n",
        "Goal Reached\n",
        "Goal Reached\n",
        "Goal Reached\n",
        "Goal Reached\n",
        "Goal Reached\n",
        "Goal Reached"
       ]
      },
      {
       "output_type": "stream",
       "stream": "stdout",
       "text": [
        "\n",
        "Goal Reached\n",
        "Goal Reached\n",
        "Goal Reached\n",
        "Goal Reached\n",
        "Goal Reached\n",
        "Goal Reached\n",
        "Goal Reached\n",
        "Goal Reached"
       ]
      },
      {
       "output_type": "stream",
       "stream": "stdout",
       "text": [
        "\n",
        "Goal Reached\n",
        "Goal Reached\n",
        "Goal Reached\n",
        "Goal Reached\n",
        "Goal Reached\n",
        "Goal Reached\n",
        "Goal Reached\n",
        "Goal Reached\n",
        "Goal Reached\n",
        "Goal Reached"
       ]
      },
      {
       "output_type": "stream",
       "stream": "stdout",
       "text": [
        "\n",
        "Goal Reached\n",
        "Goal Reached\n",
        "Goal Reached\n",
        "Goal Reached\n",
        "Goal Reached\n",
        "Goal Reached\n",
        "Goal Reached\n",
        "Goal Reached\n",
        "Goal Reached"
       ]
      },
      {
       "output_type": "stream",
       "stream": "stdout",
       "text": [
        "\n",
        "Goal Reached\n",
        "Goal Reached\n",
        "Goal Reached\n",
        "Goal Reached\n",
        "Goal Reached\n",
        "Goal Reached\n",
        "Goal Reached"
       ]
      },
      {
       "output_type": "stream",
       "stream": "stdout",
       "text": [
        "\n",
        "Goal Reached\n",
        "Goal Reached\n",
        "Goal Reached\n",
        "Goal Reached\n",
        "Goal Reached\n",
        "Goal Reached\n",
        "Goal Reached\n",
        "Goal Reached\n",
        "Goal Reached"
       ]
      },
      {
       "output_type": "stream",
       "stream": "stdout",
       "text": [
        "\n",
        "Goal Reached\n",
        "Goal Reached\n",
        "Goal Reached\n",
        "Goal Reached\n",
        "Goal Reached\n",
        "Goal Reached\n",
        "Goal Reached\n",
        "Goal Reached\n",
        "Goal Reached\n",
        "Goal Reached"
       ]
      },
      {
       "output_type": "stream",
       "stream": "stdout",
       "text": [
        "\n",
        "Goal Reached\n",
        "Goal Reached\n",
        "Goal Reached\n",
        "Goal Reached\n",
        "Goal Reached\n",
        "Goal Reached\n",
        "Goal Reached\n",
        "Goal Reached\n",
        "Goal Reached\n",
        "Goal Reached"
       ]
      },
      {
       "output_type": "stream",
       "stream": "stdout",
       "text": [
        "\n",
        "Goal Reached\n",
        "Goal Reached\n",
        "Goal Reached\n",
        "Goal Reached\n",
        "Goal Reached\n",
        "Goal Reached\n",
        "Goal Reached\n",
        "Goal Reached\n",
        "Goal Reached\n",
        "Goal Reached"
       ]
      },
      {
       "output_type": "stream",
       "stream": "stdout",
       "text": [
        "\n",
        "Goal Reached\n",
        "Goal Reached\n",
        "Goal Reached\n",
        "Goal Reached\n",
        "Goal Reached\n",
        "Goal Reached\n",
        "Goal Reached\n",
        "Goal Reached\n",
        "Goal Reached\n",
        "Goal Reached\n",
        "Goal Reached"
       ]
      },
      {
       "output_type": "stream",
       "stream": "stdout",
       "text": [
        "\n",
        "Goal Reached\n",
        "Goal Reached\n",
        "Goal Reached\n",
        "Goal Reached\n",
        "Goal Reached\n",
        "Goal Reached\n",
        "Goal Reached\n",
        "Goal Reached\n",
        "Goal Reached\n",
        "Goal Reached"
       ]
      },
      {
       "output_type": "stream",
       "stream": "stdout",
       "text": [
        "\n",
        "Goal Reached\n",
        "Goal Reached\n",
        "Goal Reached\n",
        "Goal Reached\n",
        "Goal Reached\n",
        "Goal Reached\n",
        "Goal Reached\n",
        "Goal Reached\n",
        "Goal Reached"
       ]
      },
      {
       "output_type": "stream",
       "stream": "stdout",
       "text": [
        "\n",
        "Goal Reached\n",
        "Goal Reached\n",
        "Goal Reached\n",
        "Goal Reached\n",
        "Goal Reached\n",
        "Goal Reached\n",
        "Goal Reached\n",
        "Goal Reached\n",
        "Goal Reached\n",
        "Goal Reached\n",
        "Goal Reached"
       ]
      },
      {
       "output_type": "stream",
       "stream": "stdout",
       "text": [
        "\n",
        "Goal Reached\n",
        "Goal Reached\n",
        "Goal Reached\n",
        "Goal Reached\n",
        "Goal Reached\n",
        "Goal Reached\n",
        "Goal Reached\n",
        "Goal Reached\n",
        "Goal Reached\n",
        "Goal Reached"
       ]
      },
      {
       "output_type": "stream",
       "stream": "stdout",
       "text": [
        "\n",
        "Goal Reached\n",
        "Goal Reached\n",
        "Goal Reached\n",
        "Goal Reached\n",
        "Goal Reached\n",
        "Goal Reached\n",
        "Goal Reached\n",
        "Goal Reached\n",
        "Goal Reached"
       ]
      },
      {
       "output_type": "stream",
       "stream": "stdout",
       "text": [
        "\n",
        "Goal Reached\n",
        "Goal Reached\n",
        "Goal Reached\n",
        "Goal Reached\n",
        "Goal Reached\n",
        "Goal Reached\n",
        "Goal Reached\n",
        "Goal Reached\n",
        "Goal Reached"
       ]
      },
      {
       "output_type": "stream",
       "stream": "stdout",
       "text": [
        "\n",
        "Goal Reached\n",
        "Goal Reached\n",
        "Goal Reached\n",
        "Goal Reached\n",
        "Goal Reached\n",
        "Goal Reached\n",
        "Goal Reached\n",
        "Goal Reached\n",
        "Goal Reached"
       ]
      },
      {
       "output_type": "stream",
       "stream": "stdout",
       "text": [
        "\n",
        "Goal Reached\n",
        "Goal Reached\n",
        "Goal Reached\n",
        "Goal Reached\n",
        "Goal Reached\n",
        "Goal Reached\n",
        "Goal Reached\n",
        "Goal Reached\n",
        "Goal Reached\n",
        "Goal Reached"
       ]
      },
      {
       "output_type": "stream",
       "stream": "stdout",
       "text": [
        "\n",
        "Goal Reached\n",
        "Goal Reached\n",
        "Goal Reached\n",
        "Goal Reached\n",
        "Goal Reached\n",
        "Goal Reached\n",
        "Goal Reached\n",
        "Goal Reached\n",
        "Goal Reached"
       ]
      },
      {
       "output_type": "stream",
       "stream": "stdout",
       "text": [
        "\n",
        "Goal Reached\n",
        "Goal Reached\n",
        "Goal Reached\n",
        "Goal Reached\n",
        "Goal Reached\n",
        "Goal Reached\n",
        "Goal Reached\n",
        "Goal Reached\n",
        "Goal Reached\n",
        "Goal Reached"
       ]
      },
      {
       "output_type": "stream",
       "stream": "stdout",
       "text": [
        "\n",
        "Goal Reached\n",
        "Goal Reached\n",
        "Goal Reached\n",
        "Goal Reached\n",
        "Goal Reached\n",
        "Goal Reached\n",
        "Goal Reached\n",
        "Goal Reached\n",
        "Goal Reached\n",
        "Goal Reached\n",
        "Goal Reached"
       ]
      },
      {
       "output_type": "stream",
       "stream": "stdout",
       "text": [
        "\n",
        "Goal Reached\n",
        "Goal Reached\n",
        "Goal Reached\n",
        "Goal Reached\n",
        "Goal Reached\n",
        "Goal Reached\n",
        "Goal Reached\n",
        "Goal Reached\n",
        "Goal Reached"
       ]
      },
      {
       "output_type": "stream",
       "stream": "stdout",
       "text": [
        "\n",
        "Goal Reached\n",
        "Goal Reached\n",
        "Goal Reached\n",
        "Goal Reached\n",
        "Goal Reached\n",
        "Goal Reached\n",
        "Goal Reached\n",
        "Goal Reached"
       ]
      },
      {
       "output_type": "stream",
       "stream": "stdout",
       "text": [
        "\n",
        "Goal Reached\n",
        "Goal Reached\n",
        "Goal Reached\n",
        "Goal Reached\n",
        "Goal Reached\n",
        "Goal Reached\n",
        "Goal Reached\n",
        "Goal Reached\n",
        "Goal Reached\n",
        "Goal Reached"
       ]
      },
      {
       "output_type": "stream",
       "stream": "stdout",
       "text": [
        "\n",
        "Goal Reached\n",
        "Goal Reached\n",
        "Goal Reached\n",
        "Goal Reached\n",
        "Goal Reached\n",
        "Goal Reached\n",
        "Goal Reached\n",
        "Goal Reached\n",
        "Goal Reached"
       ]
      },
      {
       "output_type": "stream",
       "stream": "stdout",
       "text": [
        "\n",
        "Goal Reached\n",
        "Goal Reached\n",
        "Goal Reached\n",
        "Goal Reached\n",
        "Goal Reached\n",
        "Goal Reached\n",
        "Goal Reached\n",
        "Goal Reached"
       ]
      },
      {
       "output_type": "stream",
       "stream": "stdout",
       "text": [
        "\n",
        "Goal Reached\n",
        "Goal Reached\n",
        "Goal Reached\n",
        "Goal Reached\n",
        "Goal Reached\n",
        "Goal Reached\n",
        "Goal Reached\n",
        "Goal Reached\n",
        "Goal Reached\n",
        "Goal Reached\n",
        "Goal Reached"
       ]
      },
      {
       "output_type": "stream",
       "stream": "stdout",
       "text": [
        "\n",
        "Goal Reached\n",
        "Goal Reached\n",
        "Goal Reached\n",
        "Goal Reached\n",
        "Goal Reached\n",
        "Goal Reached\n",
        "Goal Reached\n",
        "Goal Reached\n",
        "Goal Reached"
       ]
      },
      {
       "output_type": "stream",
       "stream": "stdout",
       "text": [
        "\n",
        "Goal Reached\n",
        "Goal Reached\n",
        "Goal Reached\n",
        "Goal Reached\n",
        "Goal Reached\n",
        "Goal Reached\n",
        "Goal Reached\n",
        "Goal Reached\n",
        "Goal Reached"
       ]
      },
      {
       "output_type": "stream",
       "stream": "stdout",
       "text": [
        "\n",
        "Goal Reached\n",
        "Goal Reached\n",
        "Goal Reached\n",
        "Goal Reached\n",
        "Goal Reached\n",
        "Goal Reached\n",
        "Goal Reached\n",
        "Goal Reached\n",
        "Goal Reached"
       ]
      },
      {
       "output_type": "stream",
       "stream": "stdout",
       "text": [
        "\n",
        "Goal Reached\n",
        "Goal Reached\n",
        "Goal Reached\n",
        "Goal Reached\n",
        "Goal Reached\n",
        "Goal Reached\n",
        "Goal Reached\n",
        "Goal Reached\n",
        "Goal Reached"
       ]
      },
      {
       "output_type": "stream",
       "stream": "stdout",
       "text": [
        "\n",
        "Goal Reached\n",
        "Goal Reached\n",
        "Goal Reached\n",
        "Goal Reached\n",
        "Goal Reached\n",
        "Goal Reached\n",
        "Goal Reached\n",
        "Goal Reached\n",
        "Goal Reached\n",
        "Goal Reached\n",
        "Goal Reached"
       ]
      },
      {
       "output_type": "stream",
       "stream": "stdout",
       "text": [
        "\n",
        "Goal Reached\n",
        "Goal Reached\n",
        "Goal Reached\n",
        "Goal Reached\n",
        "Goal Reached\n",
        "Goal Reached\n",
        "Goal Reached\n",
        "Goal Reached\n",
        "Goal Reached"
       ]
      },
      {
       "output_type": "stream",
       "stream": "stdout",
       "text": [
        "\n",
        "Goal Reached\n",
        "Goal Reached\n",
        "Goal Reached\n",
        "Goal Reached\n",
        "Goal Reached\n",
        "Goal Reached\n",
        "Goal Reached\n",
        "Goal Reached\n",
        "Goal Reached"
       ]
      },
      {
       "output_type": "stream",
       "stream": "stdout",
       "text": [
        "\n",
        "Goal Reached\n",
        "Goal Reached\n",
        "Goal Reached\n",
        "Goal Reached\n",
        "Goal Reached\n",
        "Goal Reached\n",
        "Goal Reached\n",
        "Goal Reached\n",
        "Goal Reached\n",
        "Goal Reached"
       ]
      },
      {
       "output_type": "stream",
       "stream": "stdout",
       "text": [
        "\n",
        "Goal Reached\n",
        "Goal Reached\n",
        "Goal Reached\n",
        "Goal Reached\n",
        "Goal Reached\n",
        "Goal Reached\n",
        "Goal Reached\n",
        "Goal Reached\n",
        "Goal Reached"
       ]
      },
      {
       "output_type": "stream",
       "stream": "stdout",
       "text": [
        "\n",
        "Goal Reached\n",
        "Goal Reached\n",
        "Goal Reached\n",
        "Goal Reached\n",
        "Goal Reached\n",
        "Goal Reached\n",
        "Goal Reached\n",
        "Goal Reached\n",
        "Goal Reached\n",
        "Goal Reached\n",
        "Goal Reached"
       ]
      },
      {
       "output_type": "stream",
       "stream": "stdout",
       "text": [
        "\n",
        "Goal Reached\n",
        "Goal Reached\n",
        "Goal Reached\n",
        "Goal Reached\n",
        "Goal Reached\n",
        "Goal Reached\n",
        "Goal Reached\n",
        "Goal Reached\n",
        "Goal Reached\n",
        "Goal Reached"
       ]
      },
      {
       "output_type": "stream",
       "stream": "stdout",
       "text": [
        "\n",
        "Goal Reached\n",
        "Goal Reached\n",
        "Goal Reached\n",
        "Goal Reached\n",
        "Goal Reached\n",
        "Goal Reached\n",
        "Goal Reached\n",
        "Goal Reached\n",
        "Goal Reached\n",
        "Goal Reached"
       ]
      },
      {
       "output_type": "stream",
       "stream": "stdout",
       "text": [
        "\n",
        "Goal Reached\n",
        "Goal Reached\n",
        "Goal Reached\n",
        "Goal Reached\n",
        "Goal Reached\n",
        "Goal Reached\n",
        "Goal Reached\n",
        "Goal Reached\n",
        "Goal Reached\n",
        "Goal Reached\n",
        "Goal Reached"
       ]
      },
      {
       "output_type": "stream",
       "stream": "stdout",
       "text": [
        "\n",
        "Goal Reached\n",
        "Goal Reached\n",
        "Goal Reached\n",
        "Goal Reached\n",
        "Goal Reached\n",
        "Goal Reached\n",
        "Goal Reached\n",
        "Goal Reached\n",
        "Goal Reached\n",
        "Goal Reached"
       ]
      },
      {
       "output_type": "stream",
       "stream": "stdout",
       "text": [
        "\n",
        "Goal Reached\n",
        "Goal Reached\n",
        "Goal Reached\n",
        "Goal Reached\n",
        "Goal Reached\n",
        "Goal Reached\n",
        "Goal Reached\n",
        "Goal Reached\n",
        "Goal Reached\n",
        "Goal Reached\n",
        "Goal Reached"
       ]
      },
      {
       "output_type": "stream",
       "stream": "stdout",
       "text": [
        "\n",
        "Goal Reached\n",
        "Goal Reached\n",
        "Goal Reached\n",
        "Goal Reached\n",
        "Goal Reached\n",
        "Goal Reached\n",
        "Goal Reached\n",
        "Goal Reached\n",
        "Goal Reached"
       ]
      },
      {
       "output_type": "stream",
       "stream": "stdout",
       "text": [
        "\n",
        "Goal Reached\n",
        "Goal Reached\n",
        "Goal Reached\n",
        "Goal Reached\n",
        "Goal Reached\n",
        "Goal Reached\n",
        "Goal Reached\n",
        "Goal Reached"
       ]
      },
      {
       "output_type": "stream",
       "stream": "stdout",
       "text": [
        "\n",
        "Goal Reached\n",
        "Goal Reached\n",
        "Goal Reached\n",
        "Goal Reached\n",
        "Goal Reached\n",
        "Goal Reached\n",
        "Goal Reached\n",
        "Goal Reached\n",
        "Goal Reached\n",
        "Goal Reached"
       ]
      },
      {
       "output_type": "stream",
       "stream": "stdout",
       "text": [
        "\n",
        "Goal Reached\n",
        "Goal Reached\n",
        "Goal Reached\n",
        "Goal Reached\n",
        "Goal Reached\n",
        "Goal Reached\n",
        "Goal Reached\n",
        "Goal Reached\n",
        "Goal Reached\n",
        "Goal Reached"
       ]
      },
      {
       "output_type": "stream",
       "stream": "stdout",
       "text": [
        "\n",
        "Goal Reached\n",
        "Goal Reached\n",
        "Goal Reached\n",
        "Goal Reached\n",
        "Goal Reached\n",
        "Goal Reached\n",
        "Goal Reached\n",
        "Goal Reached\n",
        "Goal Reached\n",
        "Goal Reached\n",
        "Goal Reached\n",
        "Goal Reached"
       ]
      },
      {
       "output_type": "stream",
       "stream": "stdout",
       "text": [
        "\n",
        "Goal Reached\n",
        "Goal Reached\n",
        "Goal Reached\n",
        "Goal Reached\n",
        "Goal Reached\n",
        "Goal Reached\n",
        "Goal Reached\n",
        "Goal Reached\n",
        "Goal Reached"
       ]
      },
      {
       "output_type": "stream",
       "stream": "stdout",
       "text": [
        "\n",
        "Goal Reached\n",
        "Goal Reached\n",
        "Goal Reached\n",
        "Goal Reached\n",
        "Goal Reached\n",
        "Goal Reached\n",
        "Goal Reached\n",
        "Goal Reached"
       ]
      },
      {
       "output_type": "stream",
       "stream": "stdout",
       "text": [
        "\n",
        "Goal Reached\n",
        "Goal Reached\n",
        "Goal Reached\n",
        "Goal Reached\n",
        "Goal Reached\n",
        "Goal Reached\n",
        "Goal Reached\n",
        "Goal Reached\n",
        "Goal Reached\n",
        "Goal Reached\n",
        "Goal Reached"
       ]
      },
      {
       "output_type": "stream",
       "stream": "stdout",
       "text": [
        "\n",
        "Goal Reached\n",
        "Goal Reached\n",
        "Goal Reached\n",
        "Goal Reached\n",
        "Goal Reached\n",
        "Goal Reached\n",
        "Goal Reached\n",
        "Goal Reached\n",
        "Goal Reached\n",
        "Goal Reached\n",
        "Goal Reached\n",
        "Goal Reached"
       ]
      },
      {
       "output_type": "stream",
       "stream": "stdout",
       "text": [
        "\n",
        "Goal Reached\n",
        "Goal Reached\n",
        "Goal Reached\n",
        "Goal Reached\n",
        "Goal Reached\n",
        "Goal Reached\n",
        "Goal Reached\n",
        "Goal Reached\n",
        "Goal Reached\n",
        "Goal Reached"
       ]
      },
      {
       "output_type": "stream",
       "stream": "stdout",
       "text": [
        "\n",
        "Goal Reached\n",
        "Goal Reached\n",
        "Goal Reached\n",
        "Goal Reached\n",
        "Goal Reached\n",
        "Goal Reached\n",
        "Goal Reached\n",
        "Goal Reached\n",
        "Goal Reached\n",
        "Goal Reached"
       ]
      },
      {
       "output_type": "stream",
       "stream": "stdout",
       "text": [
        "\n",
        "Goal Reached\n",
        "Goal Reached\n",
        "Goal Reached\n",
        "Goal Reached\n",
        "Goal Reached\n",
        "Goal Reached\n",
        "Goal Reached\n",
        "Goal Reached"
       ]
      },
      {
       "output_type": "stream",
       "stream": "stdout",
       "text": [
        "\n",
        "Goal Reached\n",
        "Goal Reached\n",
        "Goal Reached\n",
        "Goal Reached\n",
        "Goal Reached\n",
        "Goal Reached\n",
        "Goal Reached\n",
        "Goal Reached\n",
        "Goal Reached\n",
        "Goal Reached\n",
        "Goal Reached\n",
        "Goal Reached"
       ]
      },
      {
       "output_type": "stream",
       "stream": "stdout",
       "text": [
        "\n",
        "Goal Reached\n",
        "Goal Reached\n",
        "Goal Reached\n",
        "Goal Reached\n",
        "Goal Reached\n",
        "Goal Reached\n",
        "Goal Reached\n",
        "Goal Reached"
       ]
      },
      {
       "output_type": "stream",
       "stream": "stdout",
       "text": [
        "\n",
        "Goal Reached\n",
        "Goal Reached\n",
        "Goal Reached\n",
        "Goal Reached\n",
        "Goal Reached\n",
        "Goal Reached\n",
        "Goal Reached\n",
        "Goal Reached\n",
        "Goal Reached\n",
        "Goal Reached"
       ]
      },
      {
       "output_type": "stream",
       "stream": "stdout",
       "text": [
        "\n",
        "Goal Reached\n",
        "Goal Reached\n",
        "Goal Reached\n",
        "Goal Reached\n",
        "Goal Reached\n",
        "Goal Reached\n",
        "Goal Reached\n",
        "Goal Reached\n",
        "Goal Reached\n",
        "Goal Reached\n",
        "Goal Reached"
       ]
      },
      {
       "output_type": "stream",
       "stream": "stdout",
       "text": [
        "\n",
        "Goal Reached\n",
        "Goal Reached\n",
        "Goal Reached\n",
        "Goal Reached\n",
        "Goal Reached\n",
        "Goal Reached\n",
        "Goal Reached\n",
        "Goal Reached\n",
        "Goal Reached\n",
        "Goal Reached"
       ]
      },
      {
       "output_type": "stream",
       "stream": "stdout",
       "text": [
        "\n",
        "Goal Reached\n",
        "Goal Reached\n",
        "Goal Reached\n",
        "Goal Reached\n",
        "Goal Reached\n",
        "Goal Reached\n",
        "Goal Reached\n",
        "Goal Reached\n",
        "Goal Reached\n",
        "Goal Reached"
       ]
      },
      {
       "output_type": "stream",
       "stream": "stdout",
       "text": [
        "\n",
        "Goal Reached\n",
        "Goal Reached\n",
        "Goal Reached\n",
        "Goal Reached\n",
        "Goal Reached\n",
        "Goal Reached\n",
        "Goal Reached\n",
        "Goal Reached\n",
        "Goal Reached\n",
        "Goal Reached"
       ]
      },
      {
       "output_type": "stream",
       "stream": "stdout",
       "text": [
        "\n",
        "Goal Reached\n",
        "Goal Reached\n",
        "Goal Reached\n",
        "Goal Reached\n",
        "Goal Reached\n",
        "Goal Reached\n",
        "Goal Reached\n",
        "Goal Reached\n",
        "Goal Reached\n",
        "Goal Reached"
       ]
      },
      {
       "output_type": "stream",
       "stream": "stdout",
       "text": [
        "\n",
        "Goal Reached\n",
        "Goal Reached\n",
        "Goal Reached\n",
        "Goal Reached\n",
        "Goal Reached\n",
        "Goal Reached\n",
        "Goal Reached\n",
        "Goal Reached\n",
        "Goal Reached\n",
        "Goal Reached\n",
        "Goal Reached\n",
        "Goal Reached"
       ]
      },
      {
       "output_type": "stream",
       "stream": "stdout",
       "text": [
        "\n",
        "Goal Reached\n",
        "Goal Reached\n",
        "Goal Reached\n",
        "Goal Reached\n",
        "Goal Reached\n",
        "Goal Reached\n",
        "Goal Reached\n",
        "Goal Reached\n",
        "Goal Reached\n",
        "Goal Reached"
       ]
      },
      {
       "output_type": "stream",
       "stream": "stdout",
       "text": [
        "\n",
        "Goal Reached\n",
        "Goal Reached\n",
        "Goal Reached\n",
        "Goal Reached\n",
        "Goal Reached\n",
        "Goal Reached\n",
        "Goal Reached\n",
        "Goal Reached\n",
        "Goal Reached"
       ]
      },
      {
       "output_type": "stream",
       "stream": "stdout",
       "text": [
        "\n",
        "Goal Reached\n",
        "Goal Reached\n",
        "Goal Reached\n",
        "Goal Reached\n",
        "Goal Reached\n",
        "Goal Reached\n",
        "Goal Reached"
       ]
      },
      {
       "output_type": "stream",
       "stream": "stdout",
       "text": [
        "\n",
        "Goal Reached\n",
        "Goal Reached\n",
        "Goal Reached\n",
        "Goal Reached\n",
        "Goal Reached\n",
        "Goal Reached\n",
        "Goal Reached\n",
        "Goal Reached"
       ]
      },
      {
       "output_type": "stream",
       "stream": "stdout",
       "text": [
        "\n",
        "Goal Reached\n",
        "Goal Reached\n",
        "Goal Reached\n",
        "Goal Reached\n",
        "Goal Reached\n",
        "Goal Reached\n",
        "Goal Reached\n",
        "Goal Reached\n",
        "Goal Reached\n",
        "Goal Reached"
       ]
      },
      {
       "output_type": "stream",
       "stream": "stdout",
       "text": [
        "\n",
        "Goal Reached\n",
        "Goal Reached\n",
        "Goal Reached\n",
        "Goal Reached\n",
        "Goal Reached\n",
        "Goal Reached\n",
        "Goal Reached\n",
        "Goal Reached\n",
        "Goal Reached\n",
        "Goal Reached\n",
        "Goal Reached\n",
        "Goal Reached"
       ]
      },
      {
       "output_type": "stream",
       "stream": "stdout",
       "text": [
        "\n",
        "Goal Reached\n",
        "Goal Reached\n",
        "Goal Reached\n",
        "Goal Reached\n",
        "Goal Reached\n",
        "Goal Reached\n",
        "Goal Reached\n",
        "Goal Reached\n",
        "Goal Reached\n",
        "Goal Reached\n",
        "Goal Reached"
       ]
      },
      {
       "output_type": "stream",
       "stream": "stdout",
       "text": [
        "\n",
        "Goal Reached\n",
        "Goal Reached\n",
        "Goal Reached\n",
        "Goal Reached\n",
        "Goal Reached\n",
        "Goal Reached\n",
        "Goal Reached\n",
        "Goal Reached\n",
        "Goal Reached\n",
        "Goal Reached"
       ]
      },
      {
       "output_type": "stream",
       "stream": "stdout",
       "text": [
        "\n",
        "Goal Reached\n",
        "Goal Reached\n",
        "Goal Reached\n",
        "Goal Reached\n",
        "Goal Reached\n",
        "Goal Reached\n",
        "Goal Reached\n",
        "Goal Reached\n",
        "Goal Reached\n",
        "Goal Reached"
       ]
      },
      {
       "output_type": "stream",
       "stream": "stdout",
       "text": [
        "\n",
        "Goal Reached\n",
        "Goal Reached\n",
        "Goal Reached\n",
        "Goal Reached\n",
        "Goal Reached\n",
        "Goal Reached\n",
        "Goal Reached\n",
        "Goal Reached\n",
        "Goal Reached"
       ]
      },
      {
       "output_type": "stream",
       "stream": "stdout",
       "text": [
        "\n",
        "Goal Reached\n",
        "Goal Reached\n",
        "Goal Reached\n",
        "Goal Reached\n",
        "Goal Reached\n",
        "Goal Reached\n",
        "Goal Reached\n",
        "Goal Reached\n",
        "Goal Reached\n",
        "Goal Reached\n",
        "Goal Reached"
       ]
      },
      {
       "output_type": "stream",
       "stream": "stdout",
       "text": [
        "\n",
        "Goal Reached\n",
        "Goal Reached\n",
        "Goal Reached\n",
        "Goal Reached\n",
        "Goal Reached\n",
        "Goal Reached\n",
        "Goal Reached\n",
        "Goal Reached\n",
        "Goal Reached"
       ]
      },
      {
       "output_type": "stream",
       "stream": "stdout",
       "text": [
        "\n",
        "Goal Reached\n",
        "Goal Reached\n",
        "Goal Reached\n",
        "Goal Reached\n",
        "Goal Reached\n",
        "Goal Reached\n",
        "Goal Reached\n",
        "Goal Reached\n",
        "Goal Reached\n",
        "Goal Reached"
       ]
      },
      {
       "output_type": "stream",
       "stream": "stdout",
       "text": [
        "\n",
        "Goal Reached\n",
        "Goal Reached\n",
        "Goal Reached\n",
        "Goal Reached\n",
        "Goal Reached\n",
        "Goal Reached\n",
        "Goal Reached\n",
        "Goal Reached\n",
        "Goal Reached\n",
        "Goal Reached\n",
        "Goal Reached"
       ]
      },
      {
       "output_type": "stream",
       "stream": "stdout",
       "text": [
        "\n",
        "Goal Reached\n",
        "Goal Reached\n",
        "Goal Reached\n",
        "Goal Reached\n",
        "Goal Reached\n",
        "Goal Reached\n",
        "Goal Reached\n",
        "Goal Reached\n",
        "Goal Reached"
       ]
      },
      {
       "output_type": "stream",
       "stream": "stdout",
       "text": [
        "\n",
        "Goal Reached\n",
        "Goal Reached\n",
        "Goal Reached\n",
        "Goal Reached\n",
        "Goal Reached\n",
        "Goal Reached\n",
        "Goal Reached\n",
        "Goal Reached\n",
        "Goal Reached\n",
        "Goal Reached"
       ]
      },
      {
       "output_type": "stream",
       "stream": "stdout",
       "text": [
        "\n",
        "Goal Reached\n",
        "Goal Reached\n",
        "Goal Reached\n",
        "Goal Reached\n",
        "Goal Reached\n",
        "Goal Reached\n",
        "Goal Reached\n",
        "Goal Reached"
       ]
      },
      {
       "output_type": "stream",
       "stream": "stdout",
       "text": [
        "\n",
        "Goal Reached\n",
        "Goal Reached\n",
        "Goal Reached\n",
        "Goal Reached\n",
        "Goal Reached\n",
        "Goal Reached\n",
        "Goal Reached\n",
        "Goal Reached\n",
        "Goal Reached\n",
        "Goal Reached"
       ]
      },
      {
       "output_type": "stream",
       "stream": "stdout",
       "text": [
        "\n",
        "Goal Reached\n",
        "Goal Reached\n",
        "Goal Reached\n",
        "Goal Reached\n",
        "Goal Reached\n",
        "Goal Reached\n",
        "Goal Reached\n",
        "Goal Reached\n",
        "Goal Reached"
       ]
      },
      {
       "output_type": "stream",
       "stream": "stdout",
       "text": [
        "\n",
        "Goal Reached\n",
        "Goal Reached\n",
        "Goal Reached\n",
        "Goal Reached\n",
        "Goal Reached\n",
        "Goal Reached\n",
        "Goal Reached\n",
        "Goal Reached\n",
        "Goal Reached\n",
        "Goal Reached"
       ]
      },
      {
       "output_type": "stream",
       "stream": "stdout",
       "text": [
        "\n",
        "Goal Reached\n",
        "Goal Reached\n",
        "Goal Reached\n",
        "Goal Reached\n",
        "Goal Reached\n",
        "Goal Reached\n",
        "Goal Reached\n",
        "Goal Reached\n",
        "Goal Reached"
       ]
      },
      {
       "output_type": "stream",
       "stream": "stdout",
       "text": [
        "\n",
        "Goal Reached\n",
        "Goal Reached\n",
        "Goal Reached\n",
        "Goal Reached\n",
        "Goal Reached\n",
        "Goal Reached\n",
        "Goal Reached\n",
        "Goal Reached"
       ]
      },
      {
       "output_type": "stream",
       "stream": "stdout",
       "text": [
        "\n",
        "Goal Reached\n",
        "Goal Reached\n",
        "Goal Reached\n",
        "Goal Reached\n",
        "Goal Reached\n",
        "Goal Reached\n",
        "Goal Reached\n",
        "Goal Reached\n",
        "Goal Reached\n",
        "Goal Reached"
       ]
      },
      {
       "output_type": "stream",
       "stream": "stdout",
       "text": [
        "\n",
        "Goal Reached\n",
        "Goal Reached\n",
        "Goal Reached\n",
        "Goal Reached\n",
        "Goal Reached\n",
        "Goal Reached\n",
        "Goal Reached\n",
        "Goal Reached\n",
        "Goal Reached"
       ]
      },
      {
       "output_type": "stream",
       "stream": "stdout",
       "text": [
        "\n",
        "Goal Reached\n",
        "Goal Reached\n",
        "Goal Reached\n",
        "Goal Reached\n",
        "Goal Reached\n",
        "Goal Reached\n",
        "Goal Reached"
       ]
      },
      {
       "output_type": "stream",
       "stream": "stdout",
       "text": [
        "\n",
        "Goal Reached\n",
        "Goal Reached\n",
        "Goal Reached\n",
        "Goal Reached\n",
        "Goal Reached\n",
        "Goal Reached\n",
        "Goal Reached\n",
        "Goal Reached\n",
        "Goal Reached\n",
        "Goal Reached"
       ]
      },
      {
       "output_type": "stream",
       "stream": "stdout",
       "text": [
        "\n",
        "Goal Reached\n",
        "Goal Reached\n",
        "Goal Reached\n",
        "Goal Reached\n",
        "Goal Reached\n",
        "Goal Reached\n",
        "Goal Reached\n",
        "Goal Reached\n",
        "Goal Reached\n",
        "Goal Reached\n",
        "Goal Reached\n",
        "Goal Reached"
       ]
      },
      {
       "output_type": "stream",
       "stream": "stdout",
       "text": [
        "\n",
        "Goal Reached\n",
        "Goal Reached\n",
        "Goal Reached\n",
        "Goal Reached\n",
        "Goal Reached\n",
        "Goal Reached\n",
        "Goal Reached\n",
        "Goal Reached\n",
        "Goal Reached"
       ]
      },
      {
       "output_type": "stream",
       "stream": "stdout",
       "text": [
        "\n",
        "Goal Reached\n",
        "Goal Reached\n",
        "Goal Reached\n",
        "Goal Reached\n",
        "Goal Reached\n",
        "Goal Reached\n",
        "Goal Reached\n",
        "Goal Reached"
       ]
      },
      {
       "output_type": "stream",
       "stream": "stdout",
       "text": [
        "\n",
        "Goal Reached\n",
        "Goal Reached\n",
        "Goal Reached\n",
        "Goal Reached\n",
        "Goal Reached\n",
        "Goal Reached\n",
        "Goal Reached\n",
        "Goal Reached\n",
        "Goal Reached\n",
        "Goal Reached\n",
        "Goal Reached"
       ]
      },
      {
       "output_type": "stream",
       "stream": "stdout",
       "text": [
        "\n",
        "Goal Reached\n",
        "Goal Reached\n",
        "Goal Reached\n",
        "Goal Reached\n",
        "Goal Reached\n",
        "Goal Reached\n",
        "Goal Reached\n",
        "Goal Reached\n",
        "Goal Reached\n",
        "Goal Reached\n",
        "Goal Reached"
       ]
      },
      {
       "output_type": "stream",
       "stream": "stdout",
       "text": [
        "\n",
        "Goal Reached\n",
        "Goal Reached\n",
        "Goal Reached\n",
        "Goal Reached\n",
        "Goal Reached\n",
        "Goal Reached\n",
        "Goal Reached\n",
        "Goal Reached"
       ]
      },
      {
       "output_type": "stream",
       "stream": "stdout",
       "text": [
        "\n",
        "Goal Reached\n",
        "Goal Reached\n",
        "Goal Reached\n",
        "Goal Reached\n",
        "Goal Reached\n",
        "Goal Reached\n",
        "Goal Reached\n",
        "Goal Reached"
       ]
      },
      {
       "output_type": "stream",
       "stream": "stdout",
       "text": [
        "\n",
        "Goal Reached\n",
        "Goal Reached\n",
        "Goal Reached\n",
        "Goal Reached\n",
        "Goal Reached\n",
        "Goal Reached\n",
        "Goal Reached\n",
        "Goal Reached\n",
        "Goal Reached"
       ]
      },
      {
       "output_type": "stream",
       "stream": "stdout",
       "text": [
        "\n",
        "Goal Reached\n",
        "Goal Reached\n",
        "Goal Reached\n",
        "Goal Reached\n",
        "Goal Reached\n",
        "Goal Reached\n",
        "Goal Reached\n",
        "Goal Reached\n",
        "Goal Reached"
       ]
      },
      {
       "output_type": "stream",
       "stream": "stdout",
       "text": [
        "\n",
        "Goal Reached\n",
        "Goal Reached\n",
        "Goal Reached\n",
        "Goal Reached\n",
        "Goal Reached\n",
        "Goal Reached\n",
        "Goal Reached\n",
        "Goal Reached\n",
        "Goal Reached\n",
        "Goal Reached"
       ]
      },
      {
       "output_type": "stream",
       "stream": "stdout",
       "text": [
        "\n",
        "Goal Reached\n",
        "Goal Reached\n",
        "Goal Reached\n",
        "Goal Reached\n",
        "Goal Reached\n",
        "Goal Reached\n",
        "Goal Reached\n",
        "Goal Reached\n",
        "Goal Reached\n",
        "Goal Reached\n",
        "Goal Reached"
       ]
      },
      {
       "output_type": "stream",
       "stream": "stdout",
       "text": [
        "\n",
        "Goal Reached\n",
        "Goal Reached\n",
        "Goal Reached\n",
        "Goal Reached\n",
        "Goal Reached\n",
        "Goal Reached\n",
        "Goal Reached\n",
        "Goal Reached\n",
        "Goal Reached\n",
        "Goal Reached\n",
        "Goal Reached"
       ]
      },
      {
       "output_type": "stream",
       "stream": "stdout",
       "text": [
        "\n",
        "Goal Reached\n",
        "Goal Reached\n",
        "Goal Reached\n",
        "Goal Reached\n",
        "Goal Reached\n",
        "Goal Reached\n",
        "Goal Reached\n",
        "Goal Reached\n",
        "Goal Reached"
       ]
      },
      {
       "output_type": "stream",
       "stream": "stdout",
       "text": [
        "\n",
        "Goal Reached\n",
        "Goal Reached\n",
        "Goal Reached\n",
        "Goal Reached\n",
        "Goal Reached\n",
        "Goal Reached\n",
        "Goal Reached\n",
        "Goal Reached"
       ]
      },
      {
       "output_type": "stream",
       "stream": "stdout",
       "text": [
        "\n",
        "Goal Reached\n",
        "Goal Reached\n",
        "Goal Reached\n",
        "Goal Reached\n",
        "Goal Reached\n",
        "Goal Reached\n",
        "Goal Reached\n",
        "Goal Reached\n",
        "Goal Reached\n",
        "Goal Reached"
       ]
      },
      {
       "output_type": "stream",
       "stream": "stdout",
       "text": [
        "\n",
        "Goal Reached\n",
        "Goal Reached\n",
        "Goal Reached\n",
        "Goal Reached\n",
        "Goal Reached\n",
        "Goal Reached\n",
        "Goal Reached\n",
        "Goal Reached\n",
        "Goal Reached"
       ]
      },
      {
       "output_type": "stream",
       "stream": "stdout",
       "text": [
        "\n",
        "Goal Reached\n",
        "Goal Reached\n",
        "Goal Reached\n",
        "Goal Reached\n",
        "Goal Reached\n",
        "Goal Reached\n",
        "Goal Reached\n",
        "Goal Reached\n",
        "Goal Reached"
       ]
      },
      {
       "output_type": "stream",
       "stream": "stdout",
       "text": [
        "\n",
        "Goal Reached\n",
        "Goal Reached\n",
        "Goal Reached\n",
        "Goal Reached\n",
        "Goal Reached\n",
        "Goal Reached\n",
        "Goal Reached\n",
        "Goal Reached\n",
        "Goal Reached\n",
        "Goal Reached"
       ]
      },
      {
       "output_type": "stream",
       "stream": "stdout",
       "text": [
        "\n",
        "Goal Reached\n",
        "Goal Reached\n",
        "Goal Reached\n",
        "Goal Reached\n",
        "Goal Reached\n",
        "Goal Reached\n",
        "Goal Reached\n",
        "Goal Reached\n",
        "Goal Reached\n",
        "Goal Reached\n",
        "Goal Reached"
       ]
      },
      {
       "output_type": "stream",
       "stream": "stdout",
       "text": [
        "\n",
        "Goal Reached\n",
        "Goal Reached\n",
        "Goal Reached\n",
        "Goal Reached\n",
        "Goal Reached\n",
        "Goal Reached\n",
        "Goal Reached\n",
        "Goal Reached\n",
        "Goal Reached\n",
        "Goal Reached"
       ]
      },
      {
       "output_type": "stream",
       "stream": "stdout",
       "text": [
        "\n",
        "Goal Reached\n",
        "Goal Reached\n",
        "Goal Reached\n",
        "Goal Reached\n",
        "Goal Reached\n",
        "Goal Reached\n",
        "Goal Reached\n",
        "Goal Reached\n",
        "Goal Reached"
       ]
      },
      {
       "output_type": "stream",
       "stream": "stdout",
       "text": [
        "\n",
        "Goal Reached\n",
        "Goal Reached\n",
        "Goal Reached\n",
        "Goal Reached\n",
        "Goal Reached\n",
        "Goal Reached\n",
        "Goal Reached\n",
        "Goal Reached\n",
        "Goal Reached\n",
        "Goal Reached"
       ]
      },
      {
       "output_type": "stream",
       "stream": "stdout",
       "text": [
        "\n",
        "Goal Reached\n",
        "Goal Reached\n",
        "Goal Reached\n",
        "Goal Reached\n",
        "Goal Reached\n",
        "Goal Reached\n",
        "Goal Reached\n",
        "Goal Reached\n",
        "Goal Reached\n",
        "Goal Reached"
       ]
      },
      {
       "output_type": "stream",
       "stream": "stdout",
       "text": [
        "\n",
        "Goal Reached\n",
        "Goal Reached\n",
        "Goal Reached\n",
        "Goal Reached\n",
        "Goal Reached\n",
        "Goal Reached\n",
        "Goal Reached\n",
        "Goal Reached\n",
        "Goal Reached"
       ]
      },
      {
       "output_type": "stream",
       "stream": "stdout",
       "text": [
        "\n",
        "Goal Reached\n",
        "Goal Reached\n",
        "Goal Reached\n",
        "Goal Reached\n",
        "Goal Reached\n",
        "Goal Reached\n",
        "Goal Reached\n",
        "Goal Reached\n",
        "Goal Reached\n",
        "Goal Reached\n",
        "Goal Reached"
       ]
      },
      {
       "output_type": "stream",
       "stream": "stdout",
       "text": [
        "\n",
        "Goal Reached\n",
        "Goal Reached\n",
        "Goal Reached\n",
        "Goal Reached\n",
        "Goal Reached\n",
        "Goal Reached\n",
        "Goal Reached\n",
        "Goal Reached\n",
        "Goal Reached\n",
        "Goal Reached\n",
        "Goal Reached\n",
        "Goal Reached"
       ]
      },
      {
       "output_type": "stream",
       "stream": "stdout",
       "text": [
        "\n",
        "Goal Reached\n",
        "Goal Reached\n",
        "Goal Reached\n",
        "Goal Reached\n",
        "Goal Reached\n",
        "Goal Reached\n",
        "Goal Reached\n",
        "Goal Reached\n",
        "Goal Reached"
       ]
      },
      {
       "output_type": "stream",
       "stream": "stdout",
       "text": [
        "\n",
        "Goal Reached\n",
        "Goal Reached\n",
        "Goal Reached\n",
        "Goal Reached\n",
        "Goal Reached\n",
        "Goal Reached\n",
        "Goal Reached\n",
        "Goal Reached\n",
        "Goal Reached\n",
        "Goal Reached\n",
        "Goal Reached"
       ]
      },
      {
       "output_type": "stream",
       "stream": "stdout",
       "text": [
        "\n",
        "Goal Reached\n",
        "Goal Reached\n",
        "Goal Reached\n",
        "Goal Reached\n",
        "Goal Reached\n",
        "Goal Reached\n",
        "Goal Reached\n",
        "Goal Reached"
       ]
      },
      {
       "output_type": "stream",
       "stream": "stdout",
       "text": [
        "\n",
        "Goal Reached\n",
        "Goal Reached\n",
        "Goal Reached\n",
        "Goal Reached\n",
        "Goal Reached\n",
        "Goal Reached\n",
        "Goal Reached"
       ]
      },
      {
       "output_type": "stream",
       "stream": "stdout",
       "text": [
        "\n",
        "Goal Reached\n",
        "Goal Reached\n",
        "Goal Reached\n",
        "Goal Reached\n",
        "Goal Reached\n",
        "Goal Reached\n",
        "Goal Reached\n",
        "Goal Reached\n",
        "Goal Reached\n",
        "Goal Reached\n",
        "Goal Reached\n",
        "Goal Reached"
       ]
      },
      {
       "output_type": "stream",
       "stream": "stdout",
       "text": [
        "\n",
        "Goal Reached\n",
        "Goal Reached\n",
        "Goal Reached\n",
        "Goal Reached\n",
        "Goal Reached\n",
        "Goal Reached\n",
        "Goal Reached\n",
        "Goal Reached\n",
        "Goal Reached\n",
        "Goal Reached"
       ]
      },
      {
       "output_type": "stream",
       "stream": "stdout",
       "text": [
        "\n",
        "Goal Reached\n",
        "Goal Reached\n",
        "Goal Reached\n",
        "Goal Reached\n",
        "Goal Reached\n",
        "Goal Reached\n",
        "Goal Reached\n",
        "Goal Reached\n",
        "Goal Reached\n",
        "Goal Reached"
       ]
      },
      {
       "output_type": "stream",
       "stream": "stdout",
       "text": [
        "\n",
        "Goal Reached\n",
        "Goal Reached\n",
        "Goal Reached\n",
        "Goal Reached\n",
        "Goal Reached\n",
        "Goal Reached\n",
        "Goal Reached\n",
        "Goal Reached"
       ]
      },
      {
       "output_type": "stream",
       "stream": "stdout",
       "text": [
        "\n",
        "Goal Reached\n",
        "Goal Reached\n",
        "Goal Reached\n",
        "Goal Reached\n",
        "Goal Reached\n",
        "Goal Reached\n",
        "Goal Reached\n",
        "Goal Reached\n",
        "Goal Reached"
       ]
      },
      {
       "output_type": "stream",
       "stream": "stdout",
       "text": [
        "\n",
        "Goal Reached\n",
        "Goal Reached\n",
        "Goal Reached\n",
        "Goal Reached\n",
        "Goal Reached\n",
        "Goal Reached\n",
        "Goal Reached\n",
        "Goal Reached\n",
        "Goal Reached\n",
        "Goal Reached"
       ]
      },
      {
       "output_type": "stream",
       "stream": "stdout",
       "text": [
        "\n",
        "Goal Reached\n",
        "Goal Reached\n",
        "Goal Reached\n",
        "Goal Reached\n",
        "Goal Reached\n",
        "Goal Reached\n",
        "Goal Reached\n",
        "Goal Reached\n",
        "Goal Reached\n",
        "Goal Reached\n",
        "Goal Reached"
       ]
      },
      {
       "output_type": "stream",
       "stream": "stdout",
       "text": [
        "\n",
        "Goal Reached\n",
        "Goal Reached\n",
        "Goal Reached\n",
        "Goal Reached\n",
        "Goal Reached\n",
        "Goal Reached\n",
        "Goal Reached\n",
        "Goal Reached\n",
        "Goal Reached"
       ]
      },
      {
       "output_type": "stream",
       "stream": "stdout",
       "text": [
        "\n",
        "Goal Reached\n",
        "Goal Reached\n",
        "Goal Reached\n",
        "Goal Reached\n",
        "Goal Reached\n",
        "Goal Reached\n",
        "Goal Reached\n",
        "Goal Reached\n",
        "Goal Reached"
       ]
      },
      {
       "output_type": "stream",
       "stream": "stdout",
       "text": [
        "\n",
        "Goal Reached\n",
        "Goal Reached\n",
        "Goal Reached\n",
        "Goal Reached\n",
        "Goal Reached\n",
        "Goal Reached\n",
        "Goal Reached\n",
        "Goal Reached\n",
        "Goal Reached\n",
        "Goal Reached\n",
        "Goal Reached"
       ]
      },
      {
       "output_type": "stream",
       "stream": "stdout",
       "text": [
        "\n",
        "Goal Reached\n",
        "Goal Reached\n",
        "Goal Reached\n",
        "Goal Reached\n",
        "Goal Reached\n",
        "Goal Reached\n",
        "Goal Reached\n",
        "Goal Reached\n",
        "Goal Reached\n",
        "Goal Reached"
       ]
      },
      {
       "output_type": "stream",
       "stream": "stdout",
       "text": [
        "\n",
        "Goal Reached\n",
        "Goal Reached\n",
        "Goal Reached\n",
        "Goal Reached\n",
        "Goal Reached\n",
        "Goal Reached\n",
        "Goal Reached\n",
        "Goal Reached\n",
        "Goal Reached"
       ]
      },
      {
       "output_type": "stream",
       "stream": "stdout",
       "text": [
        "\n",
        "Goal Reached\n",
        "Goal Reached\n",
        "Goal Reached\n",
        "Goal Reached\n",
        "Goal Reached\n",
        "Goal Reached\n",
        "Goal Reached\n",
        "Goal Reached\n",
        "Goal Reached\n",
        "Goal Reached\n",
        "Goal Reached"
       ]
      },
      {
       "output_type": "stream",
       "stream": "stdout",
       "text": [
        "\n",
        "Goal Reached\n",
        "Goal Reached\n",
        "Goal Reached\n",
        "Goal Reached\n",
        "Goal Reached\n",
        "Goal Reached\n",
        "Goal Reached\n",
        "Goal Reached"
       ]
      },
      {
       "output_type": "stream",
       "stream": "stdout",
       "text": [
        "\n",
        "Goal Reached\n",
        "Goal Reached\n",
        "Goal Reached\n",
        "Goal Reached\n",
        "Goal Reached\n",
        "Goal Reached\n",
        "Goal Reached\n",
        "Goal Reached\n",
        "Goal Reached\n",
        "Goal Reached\n",
        "Goal Reached"
       ]
      },
      {
       "output_type": "stream",
       "stream": "stdout",
       "text": [
        "\n",
        "Goal Reached\n",
        "Goal Reached\n",
        "Goal Reached\n",
        "Goal Reached\n",
        "Goal Reached\n",
        "Goal Reached\n",
        "Goal Reached\n",
        "Goal Reached\n",
        "Goal Reached"
       ]
      },
      {
       "output_type": "stream",
       "stream": "stdout",
       "text": [
        "\n",
        "Goal Reached\n",
        "Goal Reached\n",
        "Goal Reached\n",
        "Goal Reached\n",
        "Goal Reached\n",
        "Goal Reached\n",
        "Goal Reached\n",
        "Goal Reached\n",
        "Goal Reached"
       ]
      },
      {
       "output_type": "stream",
       "stream": "stdout",
       "text": [
        "\n",
        "Goal Reached\n",
        "Goal Reached\n",
        "Goal Reached\n",
        "Goal Reached\n",
        "Goal Reached\n",
        "Goal Reached\n",
        "Goal Reached\n",
        "Goal Reached\n",
        "Goal Reached\n",
        "Goal Reached"
       ]
      },
      {
       "output_type": "stream",
       "stream": "stdout",
       "text": [
        "\n",
        "Goal Reached\n",
        "Goal Reached\n",
        "Goal Reached\n",
        "Goal Reached\n",
        "Goal Reached\n",
        "Goal Reached\n",
        "Goal Reached\n",
        "Goal Reached\n",
        "Goal Reached\n",
        "Goal Reached\n",
        "Goal Reached\n",
        "Goal Reached"
       ]
      },
      {
       "output_type": "stream",
       "stream": "stdout",
       "text": [
        "\n",
        "Goal Reached\n",
        "Goal Reached\n",
        "Goal Reached\n",
        "Goal Reached\n",
        "Goal Reached\n",
        "Goal Reached\n",
        "Goal Reached\n",
        "Goal Reached\n",
        "Goal Reached"
       ]
      },
      {
       "output_type": "stream",
       "stream": "stdout",
       "text": [
        "\n",
        "Goal Reached\n",
        "Goal Reached\n",
        "Goal Reached\n",
        "Goal Reached\n",
        "Goal Reached\n",
        "Goal Reached\n",
        "Goal Reached\n",
        "Goal Reached\n",
        "Goal Reached\n",
        "Goal Reached\n",
        "Goal Reached"
       ]
      },
      {
       "output_type": "stream",
       "stream": "stdout",
       "text": [
        "\n",
        "Goal Reached\n",
        "Goal Reached\n",
        "Goal Reached\n",
        "Goal Reached\n",
        "Goal Reached\n",
        "Goal Reached\n",
        "Goal Reached\n",
        "Goal Reached\n",
        "Goal Reached\n",
        "Goal Reached\n",
        "Goal Reached\n",
        "Goal Reached"
       ]
      },
      {
       "output_type": "stream",
       "stream": "stdout",
       "text": [
        "\n",
        "Goal Reached\n",
        "Goal Reached\n",
        "Goal Reached\n",
        "Goal Reached\n",
        "Goal Reached\n",
        "Goal Reached\n",
        "Goal Reached\n",
        "Goal Reached\n",
        "Goal Reached\n",
        "Goal Reached"
       ]
      },
      {
       "output_type": "stream",
       "stream": "stdout",
       "text": [
        "\n",
        "Goal Reached\n",
        "Goal Reached\n",
        "Goal Reached\n",
        "Goal Reached\n",
        "Goal Reached\n",
        "Goal Reached\n",
        "Goal Reached\n",
        "Goal Reached\n",
        "Goal Reached\n",
        "Goal Reached"
       ]
      },
      {
       "output_type": "stream",
       "stream": "stdout",
       "text": [
        "\n",
        "Goal Reached\n",
        "Goal Reached\n",
        "Goal Reached\n",
        "Goal Reached\n",
        "Goal Reached\n",
        "Goal Reached\n",
        "Goal Reached\n",
        "Goal Reached\n",
        "Goal Reached"
       ]
      },
      {
       "output_type": "stream",
       "stream": "stdout",
       "text": [
        "\n",
        "Goal Reached\n",
        "Goal Reached\n",
        "Goal Reached\n",
        "Goal Reached\n",
        "Goal Reached\n",
        "Goal Reached\n",
        "Goal Reached\n",
        "Goal Reached\n",
        "Goal Reached\n",
        "Goal Reached"
       ]
      },
      {
       "output_type": "stream",
       "stream": "stdout",
       "text": [
        "\n",
        "Goal Reached\n",
        "Goal Reached\n",
        "Goal Reached\n",
        "Goal Reached\n",
        "Goal Reached\n",
        "Goal Reached\n",
        "Goal Reached\n",
        "Goal Reached\n",
        "Goal Reached"
       ]
      },
      {
       "output_type": "stream",
       "stream": "stdout",
       "text": [
        "\n",
        "Goal Reached\n",
        "Goal Reached\n",
        "Goal Reached\n",
        "Goal Reached\n",
        "Goal Reached\n",
        "Goal Reached\n",
        "Goal Reached\n",
        "Goal Reached\n",
        "Goal Reached\n",
        "Goal Reached"
       ]
      },
      {
       "output_type": "stream",
       "stream": "stdout",
       "text": [
        "\n",
        "Goal Reached\n",
        "Goal Reached\n",
        "Goal Reached\n",
        "Goal Reached\n",
        "Goal Reached\n",
        "Goal Reached\n",
        "Goal Reached\n",
        "Goal Reached"
       ]
      },
      {
       "output_type": "stream",
       "stream": "stdout",
       "text": [
        "\n",
        "Goal Reached\n",
        "Goal Reached\n",
        "Goal Reached\n",
        "Goal Reached\n",
        "Goal Reached\n",
        "Goal Reached\n",
        "Goal Reached\n",
        "Goal Reached\n",
        "Goal Reached\n",
        "Goal Reached"
       ]
      },
      {
       "output_type": "stream",
       "stream": "stdout",
       "text": [
        "\n",
        "Goal Reached\n",
        "Goal Reached\n",
        "Goal Reached\n",
        "Goal Reached\n",
        "Goal Reached\n",
        "Goal Reached\n",
        "Goal Reached\n",
        "Goal Reached\n",
        "Goal Reached"
       ]
      },
      {
       "output_type": "stream",
       "stream": "stdout",
       "text": [
        "\n",
        "Goal Reached\n",
        "Goal Reached\n",
        "Goal Reached\n",
        "Goal Reached\n",
        "Goal Reached\n",
        "Goal Reached\n",
        "Goal Reached\n",
        "Goal Reached\n",
        "Goal Reached\n",
        "Goal Reached"
       ]
      },
      {
       "output_type": "stream",
       "stream": "stdout",
       "text": [
        "\n",
        "Goal Reached\n",
        "Goal Reached\n",
        "Goal Reached\n",
        "Goal Reached\n",
        "Goal Reached\n",
        "Goal Reached\n",
        "Goal Reached\n",
        "Goal Reached\n",
        "Goal Reached"
       ]
      },
      {
       "output_type": "stream",
       "stream": "stdout",
       "text": [
        "\n",
        "Goal Reached\n",
        "Goal Reached\n",
        "Goal Reached\n",
        "Goal Reached\n",
        "Goal Reached\n",
        "Goal Reached\n",
        "Goal Reached\n",
        "Goal Reached\n",
        "Goal Reached\n",
        "Goal Reached"
       ]
      },
      {
       "output_type": "stream",
       "stream": "stdout",
       "text": [
        "\n",
        "Goal Reached\n",
        "Goal Reached\n",
        "Goal Reached\n",
        "Goal Reached\n",
        "Goal Reached\n",
        "Goal Reached\n",
        "Goal Reached\n",
        "Goal Reached\n",
        "Goal Reached\n",
        "Goal Reached"
       ]
      },
      {
       "output_type": "stream",
       "stream": "stdout",
       "text": [
        "\n",
        "Goal Reached\n",
        "Goal Reached\n",
        "Goal Reached\n",
        "Goal Reached\n",
        "Goal Reached\n",
        "Goal Reached\n",
        "Goal Reached\n",
        "Goal Reached\n",
        "Goal Reached\n",
        "Goal Reached\n",
        "Goal Reached"
       ]
      },
      {
       "output_type": "stream",
       "stream": "stdout",
       "text": [
        "\n",
        "Goal Reached\n",
        "Goal Reached\n",
        "Goal Reached\n",
        "Goal Reached\n",
        "Goal Reached\n",
        "Goal Reached\n",
        "Goal Reached\n",
        "Goal Reached\n",
        "Goal Reached\n",
        "Goal Reached\n",
        "Goal Reached"
       ]
      },
      {
       "output_type": "stream",
       "stream": "stdout",
       "text": [
        "\n",
        "Goal Reached\n",
        "Goal Reached\n",
        "Goal Reached\n",
        "Goal Reached\n",
        "Goal Reached\n",
        "Goal Reached\n",
        "Goal Reached"
       ]
      },
      {
       "output_type": "stream",
       "stream": "stdout",
       "text": [
        "\n",
        "Goal Reached\n",
        "Goal Reached\n",
        "Goal Reached\n",
        "Goal Reached\n",
        "Goal Reached\n",
        "Goal Reached\n",
        "Goal Reached\n",
        "Goal Reached\n",
        "Goal Reached\n",
        "Goal Reached"
       ]
      },
      {
       "output_type": "stream",
       "stream": "stdout",
       "text": [
        "\n",
        "Goal Reached\n",
        "Goal Reached\n",
        "Goal Reached\n",
        "Goal Reached\n",
        "Goal Reached\n",
        "Goal Reached\n",
        "Goal Reached\n",
        "Goal Reached\n",
        "Goal Reached\n",
        "Goal Reached\n",
        "Goal Reached"
       ]
      },
      {
       "output_type": "stream",
       "stream": "stdout",
       "text": [
        "\n",
        "Goal Reached\n",
        "Goal Reached\n",
        "Goal Reached\n",
        "Goal Reached\n",
        "Goal Reached\n",
        "Goal Reached\n",
        "Goal Reached\n",
        "Goal Reached\n",
        "Goal Reached\n",
        "Goal Reached\n",
        "Goal Reached"
       ]
      },
      {
       "output_type": "stream",
       "stream": "stdout",
       "text": [
        "\n",
        "Goal Reached\n",
        "Goal Reached\n",
        "Goal Reached\n",
        "Goal Reached\n",
        "Goal Reached\n",
        "Goal Reached\n",
        "Goal Reached\n",
        "Goal Reached\n",
        "Goal Reached\n",
        "Goal Reached"
       ]
      },
      {
       "output_type": "stream",
       "stream": "stdout",
       "text": [
        "\n",
        "Goal Reached\n",
        "Goal Reached\n",
        "Goal Reached\n",
        "Goal Reached\n",
        "Goal Reached\n",
        "Goal Reached\n",
        "Goal Reached\n",
        "Goal Reached\n",
        "Goal Reached\n",
        "Goal Reached"
       ]
      },
      {
       "output_type": "stream",
       "stream": "stdout",
       "text": [
        "\n",
        "Goal Reached\n",
        "Goal Reached\n",
        "Goal Reached\n",
        "Goal Reached\n",
        "Goal Reached\n",
        "Goal Reached\n",
        "Goal Reached\n",
        "Goal Reached\n",
        "Goal Reached\n",
        "Goal Reached\n",
        "Goal Reached"
       ]
      },
      {
       "output_type": "stream",
       "stream": "stdout",
       "text": [
        "\n",
        "Goal Reached\n",
        "Goal Reached\n",
        "Goal Reached\n",
        "Goal Reached\n",
        "Goal Reached\n",
        "Goal Reached\n",
        "Goal Reached\n",
        "Goal Reached\n",
        "Goal Reached\n",
        "Goal Reached\n",
        "Goal Reached"
       ]
      },
      {
       "output_type": "stream",
       "stream": "stdout",
       "text": [
        "\n",
        "Goal Reached\n",
        "Goal Reached\n",
        "Goal Reached\n",
        "Goal Reached\n",
        "Goal Reached\n",
        "Goal Reached\n",
        "Goal Reached\n",
        "Goal Reached\n"
       ]
      },
      {
       "output_type": "stream",
       "stream": "stdout",
       "text": [
        "Goal Reached\n",
        "Goal Reached\n",
        "Goal Reached\n",
        "Goal Reached\n",
        "Goal Reached\n",
        "Goal Reached\n",
        "Goal Reached\n",
        "Goal Reached\n",
        "Goal Reached\n",
        "Goal Reached"
       ]
      },
      {
       "output_type": "stream",
       "stream": "stdout",
       "text": [
        "\n",
        "Goal Reached\n",
        "Goal Reached\n",
        "Goal Reached\n",
        "Goal Reached\n",
        "Goal Reached\n",
        "Goal Reached\n",
        "Goal Reached\n",
        "Goal Reached"
       ]
      },
      {
       "output_type": "stream",
       "stream": "stdout",
       "text": [
        "\n",
        "Goal Reached\n",
        "Goal Reached\n",
        "Goal Reached\n",
        "Goal Reached\n",
        "Goal Reached\n",
        "Goal Reached\n",
        "Goal Reached\n",
        "Goal Reached"
       ]
      },
      {
       "output_type": "stream",
       "stream": "stdout",
       "text": [
        "\n",
        "Goal Reached\n",
        "Goal Reached\n",
        "Goal Reached\n",
        "Goal Reached\n",
        "Goal Reached\n",
        "Goal Reached\n",
        "Goal Reached"
       ]
      },
      {
       "output_type": "stream",
       "stream": "stdout",
       "text": [
        "\n",
        "Goal Reached\n",
        "Goal Reached\n",
        "Goal Reached\n",
        "Goal Reached\n",
        "Goal Reached\n",
        "Goal Reached\n",
        "Goal Reached\n",
        "Goal Reached"
       ]
      },
      {
       "output_type": "stream",
       "stream": "stdout",
       "text": [
        "\n",
        "Goal Reached\n",
        "Goal Reached\n",
        "Goal Reached\n",
        "Goal Reached\n",
        "Goal Reached\n",
        "Goal Reached\n",
        "Goal Reached\n",
        "Goal Reached\n",
        "Goal Reached"
       ]
      },
      {
       "output_type": "stream",
       "stream": "stdout",
       "text": [
        "\n",
        "Goal Reached\n",
        "Goal Reached\n",
        "Goal Reached\n",
        "Goal Reached\n",
        "Goal Reached\n",
        "Goal Reached\n",
        "Goal Reached\n",
        "Goal Reached"
       ]
      },
      {
       "output_type": "stream",
       "stream": "stdout",
       "text": [
        "\n",
        "Goal Reached\n",
        "Goal Reached\n",
        "Goal Reached\n",
        "Goal Reached\n",
        "Goal Reached\n",
        "Goal Reached\n",
        "Goal Reached\n",
        "Goal Reached\n",
        "Goal Reached"
       ]
      },
      {
       "output_type": "stream",
       "stream": "stdout",
       "text": [
        "\n",
        "Goal Reached\n",
        "Goal Reached\n",
        "Goal Reached\n",
        "Goal Reached\n",
        "Goal Reached\n",
        "Goal Reached\n",
        "Goal Reached\n",
        "Goal Reached\n",
        "Goal Reached\n",
        "Goal Reached\n",
        "Goal Reached"
       ]
      },
      {
       "output_type": "stream",
       "stream": "stdout",
       "text": [
        "\n",
        "Goal Reached\n",
        "Goal Reached\n",
        "Goal Reached\n",
        "Goal Reached\n",
        "Goal Reached\n",
        "Goal Reached\n",
        "Goal Reached\n",
        "Goal Reached\n",
        "Goal Reached\n",
        "Goal Reached"
       ]
      },
      {
       "output_type": "stream",
       "stream": "stdout",
       "text": [
        "\n",
        "Goal Reached\n",
        "Goal Reached\n",
        "Goal Reached\n",
        "Goal Reached\n",
        "Goal Reached\n",
        "Goal Reached\n",
        "Goal Reached\n",
        "Goal Reached\n",
        "Goal Reached\n",
        "Goal Reached"
       ]
      },
      {
       "output_type": "stream",
       "stream": "stdout",
       "text": [
        "\n",
        "Goal Reached\n",
        "Goal Reached\n",
        "Goal Reached\n",
        "Goal Reached\n",
        "Goal Reached\n",
        "Goal Reached\n",
        "Goal Reached\n",
        "Goal Reached\n",
        "Goal Reached\n",
        "Goal Reached"
       ]
      },
      {
       "output_type": "stream",
       "stream": "stdout",
       "text": [
        "\n",
        "Goal Reached\n",
        "Goal Reached\n",
        "Goal Reached\n",
        "Goal Reached\n",
        "Goal Reached\n",
        "Goal Reached\n",
        "Goal Reached\n",
        "Goal Reached\n",
        "Goal Reached\n",
        "Goal Reached"
       ]
      },
      {
       "output_type": "stream",
       "stream": "stdout",
       "text": [
        "\n",
        "Goal Reached\n",
        "Goal Reached\n",
        "Goal Reached\n",
        "Goal Reached\n",
        "Goal Reached\n",
        "Goal Reached\n",
        "Goal Reached\n",
        "Goal Reached\n",
        "Goal Reached"
       ]
      },
      {
       "output_type": "stream",
       "stream": "stdout",
       "text": [
        "\n",
        "Goal Reached\n",
        "Goal Reached\n",
        "Goal Reached\n",
        "Goal Reached\n",
        "Goal Reached\n",
        "Goal Reached\n",
        "Goal Reached"
       ]
      },
      {
       "output_type": "stream",
       "stream": "stdout",
       "text": [
        "\n",
        "Goal Reached\n",
        "Goal Reached\n",
        "Goal Reached\n",
        "Goal Reached\n",
        "Goal Reached\n",
        "Goal Reached\n",
        "Goal Reached\n",
        "Goal Reached\n",
        "Goal Reached"
       ]
      },
      {
       "output_type": "stream",
       "stream": "stdout",
       "text": [
        "\n",
        "Goal Reached\n",
        "Goal Reached\n",
        "Goal Reached\n",
        "Goal Reached\n",
        "Goal Reached\n",
        "Goal Reached\n",
        "Goal Reached\n",
        "Goal Reached\n",
        "Goal Reached\n",
        "Goal Reached"
       ]
      },
      {
       "output_type": "stream",
       "stream": "stdout",
       "text": [
        "\n",
        "Goal Reached\n",
        "Goal Reached\n",
        "Goal Reached\n",
        "Goal Reached\n",
        "Goal Reached\n",
        "Goal Reached\n",
        "Goal Reached\n",
        "Goal Reached\n",
        "Goal Reached\n",
        "Goal Reached"
       ]
      },
      {
       "output_type": "stream",
       "stream": "stdout",
       "text": [
        "\n",
        "Goal Reached\n",
        "Goal Reached\n",
        "Goal Reached\n",
        "Goal Reached\n",
        "Goal Reached\n",
        "Goal Reached\n",
        "Goal Reached\n",
        "Goal Reached\n",
        "Goal Reached\n",
        "Goal Reached"
       ]
      },
      {
       "output_type": "stream",
       "stream": "stdout",
       "text": [
        "\n",
        "Goal Reached\n",
        "Goal Reached\n",
        "Goal Reached\n",
        "Goal Reached\n",
        "Goal Reached\n",
        "Goal Reached\n",
        "Goal Reached\n",
        "Goal Reached\n",
        "Goal Reached\n",
        "Goal Reached\n",
        "Goal Reached"
       ]
      },
      {
       "output_type": "stream",
       "stream": "stdout",
       "text": [
        "\n",
        "Goal Reached\n",
        "Goal Reached\n",
        "Goal Reached\n",
        "Goal Reached\n",
        "Goal Reached\n",
        "Goal Reached\n",
        "Goal Reached\n",
        "Goal Reached\n",
        "Goal Reached"
       ]
      },
      {
       "output_type": "stream",
       "stream": "stdout",
       "text": [
        "\n",
        "Goal Reached\n",
        "Goal Reached\n",
        "Goal Reached\n",
        "Goal Reached\n",
        "Goal Reached\n",
        "Goal Reached\n",
        "Goal Reached\n",
        "Goal Reached\n",
        "Goal Reached\n",
        "Goal Reached"
       ]
      },
      {
       "output_type": "stream",
       "stream": "stdout",
       "text": [
        "\n",
        "Goal Reached\n",
        "Goal Reached\n",
        "Goal Reached\n",
        "Goal Reached\n",
        "Goal Reached\n",
        "Goal Reached\n",
        "Goal Reached\n",
        "Goal Reached\n",
        "Goal Reached"
       ]
      },
      {
       "output_type": "stream",
       "stream": "stdout",
       "text": [
        "\n",
        "Goal Reached\n",
        "Goal Reached\n",
        "Goal Reached\n",
        "Goal Reached\n",
        "Goal Reached\n",
        "Goal Reached\n",
        "Goal Reached\n",
        "Goal Reached\n",
        "Goal Reached"
       ]
      },
      {
       "output_type": "stream",
       "stream": "stdout",
       "text": [
        "\n",
        "Goal Reached\n",
        "Goal Reached\n",
        "Goal Reached\n",
        "Goal Reached\n",
        "Goal Reached\n",
        "Goal Reached\n",
        "Goal Reached\n",
        "Goal Reached\n",
        "Goal Reached\n",
        "Goal Reached"
       ]
      },
      {
       "output_type": "stream",
       "stream": "stdout",
       "text": [
        "\n",
        "Goal Reached\n",
        "Goal Reached\n",
        "Goal Reached\n",
        "Goal Reached\n",
        "Goal Reached\n",
        "Goal Reached\n",
        "Goal Reached\n",
        "Goal Reached\n",
        "Goal Reached\n",
        "Goal Reached"
       ]
      },
      {
       "output_type": "stream",
       "stream": "stdout",
       "text": [
        "\n",
        "Goal Reached\n",
        "Goal Reached\n",
        "Goal Reached\n",
        "Goal Reached\n",
        "Goal Reached\n",
        "Goal Reached\n",
        "Goal Reached\n",
        "Goal Reached\n",
        "Goal Reached\n",
        "Goal Reached"
       ]
      },
      {
       "output_type": "stream",
       "stream": "stdout",
       "text": [
        "\n",
        "Goal Reached\n",
        "Goal Reached\n",
        "Goal Reached\n",
        "Goal Reached\n",
        "Goal Reached\n",
        "Goal Reached\n",
        "Goal Reached\n",
        "Goal Reached\n",
        "Goal Reached"
       ]
      },
      {
       "output_type": "stream",
       "stream": "stdout",
       "text": [
        "\n",
        "Goal Reached\n",
        "Goal Reached\n",
        "Goal Reached\n",
        "Goal Reached\n",
        "Goal Reached\n",
        "Goal Reached\n",
        "Goal Reached\n",
        "Goal Reached\n",
        "Goal Reached"
       ]
      },
      {
       "output_type": "stream",
       "stream": "stdout",
       "text": [
        "\n",
        "Goal Reached\n",
        "Goal Reached\n",
        "Goal Reached\n",
        "Goal Reached\n",
        "Goal Reached\n",
        "Goal Reached\n",
        "Goal Reached\n",
        "Goal Reached\n",
        "Goal Reached\n",
        "Goal Reached\n",
        "Goal Reached\n",
        "Goal Reached"
       ]
      },
      {
       "output_type": "stream",
       "stream": "stdout",
       "text": [
        "\n",
        "Goal Reached\n",
        "Goal Reached\n",
        "Goal Reached\n",
        "Goal Reached\n",
        "Goal Reached\n",
        "Goal Reached\n",
        "Goal Reached\n",
        "Goal Reached\n",
        "Goal Reached\n",
        "Goal Reached"
       ]
      },
      {
       "output_type": "stream",
       "stream": "stdout",
       "text": [
        "\n",
        "Goal Reached\n",
        "Goal Reached\n",
        "Goal Reached\n",
        "Goal Reached\n",
        "Goal Reached\n",
        "Goal Reached\n",
        "Goal Reached\n",
        "Goal Reached\n",
        "Goal Reached\n",
        "Goal Reached\n",
        "Goal Reached"
       ]
      },
      {
       "output_type": "stream",
       "stream": "stdout",
       "text": [
        "\n",
        "Goal Reached\n",
        "Goal Reached\n",
        "Goal Reached\n",
        "Goal Reached\n",
        "Goal Reached\n",
        "Goal Reached\n",
        "Goal Reached\n",
        "Goal Reached\n",
        "Goal Reached\n",
        "Goal Reached\n",
        "Goal Reached"
       ]
      },
      {
       "output_type": "stream",
       "stream": "stdout",
       "text": [
        "\n",
        "Goal Reached\n",
        "Goal Reached\n",
        "Goal Reached\n",
        "Goal Reached\n",
        "Goal Reached\n",
        "Goal Reached\n",
        "Goal Reached\n",
        "Goal Reached\n",
        "Goal Reached\n",
        "Goal Reached"
       ]
      },
      {
       "output_type": "stream",
       "stream": "stdout",
       "text": [
        "\n",
        "Goal Reached\n",
        "Goal Reached\n",
        "Goal Reached\n",
        "Goal Reached\n",
        "Goal Reached\n",
        "Goal Reached\n",
        "Goal Reached\n",
        "Goal Reached\n",
        "Goal Reached\n",
        "Goal Reached"
       ]
      },
      {
       "output_type": "stream",
       "stream": "stdout",
       "text": [
        "\n",
        "Goal Reached\n",
        "Goal Reached\n",
        "Goal Reached\n",
        "Goal Reached\n",
        "Goal Reached\n",
        "Goal Reached\n",
        "Goal Reached\n",
        "Goal Reached\n",
        "Goal Reached\n",
        "Goal Reached"
       ]
      },
      {
       "output_type": "stream",
       "stream": "stdout",
       "text": [
        "\n",
        "Goal Reached\n",
        "Goal Reached\n",
        "Goal Reached\n",
        "Goal Reached\n",
        "Goal Reached\n",
        "Goal Reached\n",
        "Goal Reached\n",
        "Goal Reached"
       ]
      },
      {
       "output_type": "stream",
       "stream": "stdout",
       "text": [
        "\n",
        "Goal Reached\n",
        "Goal Reached\n",
        "Goal Reached\n",
        "Goal Reached\n",
        "Goal Reached\n",
        "Goal Reached\n",
        "Goal Reached\n",
        "Goal Reached"
       ]
      },
      {
       "output_type": "stream",
       "stream": "stdout",
       "text": [
        "\n",
        "Goal Reached\n",
        "Goal Reached\n",
        "Goal Reached\n",
        "Goal Reached\n",
        "Goal Reached\n",
        "Goal Reached"
       ]
      },
      {
       "output_type": "stream",
       "stream": "stdout",
       "text": [
        "\n",
        "Goal Reached\n",
        "Goal Reached\n",
        "Goal Reached\n",
        "Goal Reached\n",
        "Goal Reached\n",
        "Goal Reached\n",
        "Goal Reached"
       ]
      },
      {
       "output_type": "stream",
       "stream": "stdout",
       "text": [
        "\n",
        "Goal Reached\n",
        "Goal Reached\n",
        "Goal Reached\n",
        "Goal Reached\n",
        "Goal Reached\n",
        "Goal Reached\n",
        "Goal Reached\n",
        "Goal Reached\n",
        "Goal Reached"
       ]
      },
      {
       "output_type": "stream",
       "stream": "stdout",
       "text": [
        "\n",
        "Goal Reached\n",
        "Goal Reached\n",
        "Goal Reached\n",
        "Goal Reached\n",
        "Goal Reached\n",
        "Goal Reached\n",
        "Goal Reached\n",
        "Goal Reached\n",
        "Goal Reached"
       ]
      },
      {
       "output_type": "stream",
       "stream": "stdout",
       "text": [
        "\n",
        "Goal Reached\n",
        "Goal Reached\n",
        "Goal Reached\n",
        "Goal Reached\n",
        "Goal Reached\n",
        "Goal Reached\n",
        "Goal Reached\n",
        "Goal Reached"
       ]
      },
      {
       "output_type": "stream",
       "stream": "stdout",
       "text": [
        "\n",
        "Goal Reached\n",
        "Goal Reached\n",
        "Goal Reached\n",
        "Goal Reached\n",
        "Goal Reached\n",
        "Goal Reached\n",
        "Goal Reached\n",
        "Goal Reached"
       ]
      },
      {
       "output_type": "stream",
       "stream": "stdout",
       "text": [
        "\n",
        "Goal Reached\n",
        "Goal Reached\n",
        "Goal Reached\n",
        "Goal Reached\n",
        "Goal Reached\n",
        "Goal Reached\n",
        "Goal Reached\n",
        "Goal Reached\n",
        "Goal Reached"
       ]
      },
      {
       "output_type": "stream",
       "stream": "stdout",
       "text": [
        "\n",
        "Goal Reached\n",
        "Goal Reached\n",
        "Goal Reached\n",
        "Goal Reached\n",
        "Goal Reached\n",
        "Goal Reached\n",
        "Goal Reached\n",
        "Goal Reached\n",
        "Goal Reached\n",
        "Goal Reached"
       ]
      },
      {
       "output_type": "stream",
       "stream": "stdout",
       "text": [
        "\n",
        "Goal Reached\n",
        "Goal Reached\n",
        "Goal Reached\n",
        "Goal Reached\n",
        "Goal Reached\n",
        "Goal Reached\n",
        "Goal Reached\n",
        "Goal Reached\n",
        "Goal Reached\n",
        "Goal Reached"
       ]
      },
      {
       "output_type": "stream",
       "stream": "stdout",
       "text": [
        "\n",
        "Goal Reached\n",
        "Goal Reached\n",
        "Goal Reached\n",
        "Goal Reached\n",
        "Goal Reached\n",
        "Goal Reached\n",
        "Goal Reached\n",
        "Goal Reached"
       ]
      },
      {
       "output_type": "stream",
       "stream": "stdout",
       "text": [
        "\n",
        "Goal Reached\n",
        "Goal Reached\n",
        "Goal Reached\n",
        "Goal Reached\n",
        "Goal Reached\n",
        "Goal Reached"
       ]
      },
      {
       "output_type": "stream",
       "stream": "stdout",
       "text": [
        "\n",
        "Goal Reached\n",
        "Goal Reached\n",
        "Goal Reached\n",
        "Goal Reached\n",
        "Goal Reached\n",
        "Goal Reached\n",
        "Goal Reached\n",
        "Goal Reached"
       ]
      },
      {
       "output_type": "stream",
       "stream": "stdout",
       "text": [
        "\n",
        "Goal Reached\n",
        "Goal Reached\n",
        "Goal Reached\n",
        "Goal Reached\n",
        "Goal Reached\n",
        "Goal Reached\n",
        "Goal Reached\n",
        "Goal Reached"
       ]
      },
      {
       "output_type": "stream",
       "stream": "stdout",
       "text": [
        "\n",
        "Goal Reached\n",
        "Goal Reached\n",
        "Goal Reached\n",
        "Goal Reached\n",
        "Goal Reached\n",
        "Goal Reached\n",
        "Goal Reached\n",
        "Goal Reached\n",
        "Goal Reached"
       ]
      },
      {
       "output_type": "stream",
       "stream": "stdout",
       "text": [
        "\n",
        "Goal Reached\n",
        "Goal Reached\n",
        "Goal Reached\n",
        "Goal Reached\n",
        "Goal Reached\n",
        "Goal Reached\n",
        "Goal Reached\n",
        "Goal Reached\n",
        "Goal Reached\n",
        "Goal Reached\n",
        "Goal Reached"
       ]
      },
      {
       "output_type": "stream",
       "stream": "stdout",
       "text": [
        "\n",
        "Goal Reached\n",
        "Goal Reached\n",
        "Goal Reached\n",
        "Goal Reached\n",
        "Goal Reached\n",
        "Goal Reached\n",
        "Goal Reached\n",
        "Goal Reached"
       ]
      },
      {
       "output_type": "stream",
       "stream": "stdout",
       "text": [
        "\n",
        "Goal Reached\n",
        "Goal Reached\n",
        "Goal Reached\n",
        "Goal Reached\n",
        "Goal Reached\n",
        "Goal Reached\n",
        "Goal Reached"
       ]
      },
      {
       "output_type": "stream",
       "stream": "stdout",
       "text": [
        "\n",
        "Goal Reached\n",
        "Goal Reached\n",
        "Goal Reached\n",
        "Goal Reached\n",
        "Goal Reached\n",
        "Goal Reached\n",
        "Goal Reached"
       ]
      },
      {
       "output_type": "stream",
       "stream": "stdout",
       "text": [
        "\n",
        "Goal Reached\n",
        "Goal Reached\n",
        "Goal Reached\n",
        "Goal Reached\n",
        "Goal Reached\n",
        "Goal Reached\n",
        "Goal Reached\n",
        "Goal Reached\n",
        "Goal Reached\n",
        "Goal Reached"
       ]
      },
      {
       "output_type": "stream",
       "stream": "stdout",
       "text": [
        "\n",
        "Goal Reached\n",
        "Goal Reached\n",
        "Goal Reached\n",
        "Goal Reached\n",
        "Goal Reached\n",
        "Goal Reached\n",
        "Goal Reached\n",
        "Goal Reached\n",
        "Goal Reached"
       ]
      },
      {
       "output_type": "stream",
       "stream": "stdout",
       "text": [
        "\n",
        "Goal Reached\n",
        "Goal Reached\n",
        "Goal Reached\n",
        "Goal Reached\n",
        "Goal Reached\n",
        "Goal Reached\n",
        "Goal Reached\n",
        "Goal Reached\n",
        "Goal Reached"
       ]
      },
      {
       "output_type": "stream",
       "stream": "stdout",
       "text": [
        "\n",
        "Goal Reached\n",
        "Goal Reached\n",
        "Goal Reached\n",
        "Goal Reached\n",
        "Goal Reached\n",
        "Goal Reached\n",
        "Goal Reached\n",
        "Goal Reached\n",
        "Goal Reached\n",
        "Goal Reached"
       ]
      },
      {
       "output_type": "stream",
       "stream": "stdout",
       "text": [
        "\n",
        "Goal Reached\n",
        "Goal Reached\n",
        "Goal Reached\n",
        "Goal Reached\n",
        "Goal Reached\n",
        "Goal Reached\n",
        "Goal Reached\n",
        "Goal Reached\n",
        "Goal Reached"
       ]
      },
      {
       "output_type": "stream",
       "stream": "stdout",
       "text": [
        "\n",
        "Goal Reached\n",
        "Goal Reached\n",
        "Goal Reached\n",
        "Goal Reached\n",
        "Goal Reached\n",
        "Goal Reached\n",
        "Goal Reached\n",
        "Goal Reached\n",
        "Goal Reached\n",
        "Goal Reached"
       ]
      },
      {
       "output_type": "stream",
       "stream": "stdout",
       "text": [
        "\n",
        "Goal Reached\n",
        "Goal Reached\n",
        "Goal Reached\n",
        "Goal Reached\n",
        "Goal Reached\n",
        "Goal Reached\n",
        "Goal Reached\n",
        "Goal Reached\n",
        "Goal Reached"
       ]
      },
      {
       "output_type": "stream",
       "stream": "stdout",
       "text": [
        "\n",
        "Goal Reached\n",
        "Goal Reached\n",
        "Goal Reached\n",
        "Goal Reached\n",
        "Goal Reached\n",
        "Goal Reached\n",
        "Goal Reached"
       ]
      },
      {
       "output_type": "stream",
       "stream": "stdout",
       "text": [
        "\n",
        "Goal Reached\n",
        "Goal Reached\n",
        "Goal Reached\n",
        "Goal Reached\n",
        "Goal Reached\n",
        "Goal Reached\n",
        "Goal Reached\n",
        "Goal Reached\n",
        "Goal Reached"
       ]
      },
      {
       "output_type": "stream",
       "stream": "stdout",
       "text": [
        "\n",
        "Goal Reached\n",
        "Goal Reached\n",
        "Goal Reached\n",
        "Goal Reached\n",
        "Goal Reached\n",
        "Goal Reached\n",
        "Goal Reached\n",
        "Goal Reached\n",
        "Goal Reached\n",
        "Goal Reached"
       ]
      },
      {
       "output_type": "stream",
       "stream": "stdout",
       "text": [
        "\n",
        "Goal Reached\n",
        "Goal Reached\n",
        "Goal Reached\n",
        "Goal Reached\n",
        "Goal Reached\n",
        "Goal Reached\n",
        "Goal Reached\n",
        "Goal Reached\n",
        "Goal Reached"
       ]
      },
      {
       "output_type": "stream",
       "stream": "stdout",
       "text": [
        "\n",
        "Goal Reached\n",
        "Goal Reached\n",
        "Goal Reached\n",
        "Goal Reached\n",
        "Goal Reached\n",
        "Goal Reached\n",
        "Goal Reached\n",
        "Goal Reached\n",
        "Goal Reached"
       ]
      },
      {
       "output_type": "stream",
       "stream": "stdout",
       "text": [
        "\n",
        "Goal Reached\n",
        "Goal Reached\n",
        "Goal Reached\n",
        "Goal Reached\n",
        "Goal Reached\n",
        "Goal Reached\n",
        "Goal Reached\n",
        "Goal Reached\n",
        "Goal Reached"
       ]
      },
      {
       "output_type": "stream",
       "stream": "stdout",
       "text": [
        "\n",
        "Goal Reached\n",
        "Goal Reached\n",
        "Goal Reached\n",
        "Goal Reached\n",
        "Goal Reached\n",
        "Goal Reached\n",
        "Goal Reached\n",
        "Goal Reached"
       ]
      },
      {
       "output_type": "stream",
       "stream": "stdout",
       "text": [
        "\n",
        "Goal Reached\n",
        "Goal Reached\n",
        "Goal Reached\n",
        "Goal Reached\n",
        "Goal Reached\n",
        "Goal Reached\n",
        "Goal Reached\n",
        "Goal Reached\n",
        "Goal Reached\n",
        "Goal Reached"
       ]
      },
      {
       "output_type": "stream",
       "stream": "stdout",
       "text": [
        "\n",
        "Goal Reached\n",
        "Goal Reached\n",
        "Goal Reached\n",
        "Goal Reached\n",
        "Goal Reached\n",
        "Goal Reached\n",
        "Goal Reached\n",
        "Goal Reached"
       ]
      },
      {
       "output_type": "stream",
       "stream": "stdout",
       "text": [
        "\n",
        "Goal Reached\n",
        "Goal Reached\n",
        "Goal Reached\n",
        "Goal Reached\n",
        "Goal Reached\n",
        "Goal Reached\n",
        "Goal Reached\n",
        "Goal Reached\n",
        "Goal Reached"
       ]
      },
      {
       "output_type": "stream",
       "stream": "stdout",
       "text": [
        "\n",
        "Goal Reached\n",
        "Goal Reached\n",
        "Goal Reached\n",
        "Goal Reached\n",
        "Goal Reached\n",
        "Goal Reached\n",
        "Goal Reached\n",
        "Goal Reached\n",
        "Goal Reached"
       ]
      },
      {
       "output_type": "stream",
       "stream": "stdout",
       "text": [
        "\n",
        "Goal Reached\n",
        "Goal Reached\n",
        "Goal Reached\n",
        "Goal Reached\n",
        "Goal Reached\n",
        "Goal Reached\n",
        "Goal Reached\n",
        "Goal Reached\n",
        "Goal Reached\n",
        "Goal Reached\n",
        "Goal Reached"
       ]
      },
      {
       "output_type": "stream",
       "stream": "stdout",
       "text": [
        "\n",
        "Goal Reached\n",
        "Goal Reached\n",
        "Goal Reached\n",
        "Goal Reached\n",
        "Goal Reached\n",
        "Goal Reached\n",
        "Goal Reached\n",
        "Goal Reached\n",
        "Goal Reached"
       ]
      },
      {
       "output_type": "stream",
       "stream": "stdout",
       "text": [
        "\n",
        "Goal Reached\n",
        "Goal Reached\n",
        "Goal Reached\n",
        "Goal Reached\n",
        "Goal Reached\n",
        "Goal Reached\n",
        "Goal Reached\n",
        "Goal Reached\n",
        "Goal Reached"
       ]
      },
      {
       "output_type": "stream",
       "stream": "stdout",
       "text": [
        "\n",
        "Goal Reached\n",
        "Goal Reached\n",
        "Goal Reached\n",
        "Goal Reached\n",
        "Goal Reached\n",
        "Goal Reached\n",
        "Goal Reached\n",
        "Goal Reached\n",
        "Goal Reached"
       ]
      },
      {
       "output_type": "stream",
       "stream": "stdout",
       "text": [
        "\n",
        "Goal Reached\n",
        "Goal Reached\n",
        "Goal Reached\n",
        "Goal Reached\n",
        "Goal Reached\n",
        "Goal Reached\n",
        "Goal Reached\n",
        "Goal Reached\n",
        "Goal Reached"
       ]
      },
      {
       "output_type": "stream",
       "stream": "stdout",
       "text": [
        "\n",
        "Goal Reached\n",
        "Goal Reached\n",
        "Goal Reached\n",
        "Goal Reached\n",
        "Goal Reached\n",
        "Goal Reached\n",
        "Goal Reached"
       ]
      },
      {
       "output_type": "stream",
       "stream": "stdout",
       "text": [
        "\n",
        "Goal Reached\n",
        "Goal Reached\n",
        "Goal Reached\n",
        "Goal Reached\n",
        "Goal Reached\n",
        "Goal Reached\n",
        "Goal Reached\n",
        "Goal Reached\n",
        "Goal Reached"
       ]
      },
      {
       "output_type": "stream",
       "stream": "stdout",
       "text": [
        "\n",
        "Goal Reached\n",
        "Goal Reached\n",
        "Goal Reached\n",
        "Goal Reached\n",
        "Goal Reached\n",
        "Goal Reached\n",
        "Goal Reached\n",
        "Goal Reached\n",
        "Goal Reached"
       ]
      },
      {
       "output_type": "stream",
       "stream": "stdout",
       "text": [
        "\n",
        "Goal Reached\n",
        "Goal Reached\n",
        "Goal Reached\n",
        "Goal Reached\n",
        "Goal Reached\n",
        "Goal Reached\n",
        "Goal Reached\n",
        "Goal Reached\n",
        "Goal Reached\n",
        "Goal Reached"
       ]
      },
      {
       "output_type": "stream",
       "stream": "stdout",
       "text": [
        "\n",
        "Goal Reached\n",
        "Goal Reached\n",
        "Goal Reached\n",
        "Goal Reached\n",
        "Goal Reached\n",
        "Goal Reached\n",
        "Goal Reached\n",
        "Goal Reached"
       ]
      },
      {
       "output_type": "stream",
       "stream": "stdout",
       "text": [
        "\n",
        "Goal Reached\n",
        "Goal Reached\n",
        "Goal Reached\n",
        "Goal Reached\n",
        "Goal Reached\n",
        "Goal Reached\n",
        "Goal Reached\n",
        "Goal Reached\n",
        "Goal Reached"
       ]
      },
      {
       "output_type": "stream",
       "stream": "stdout",
       "text": [
        "\n",
        "Goal Reached\n",
        "Goal Reached\n",
        "Goal Reached\n",
        "Goal Reached\n",
        "Goal Reached\n",
        "Goal Reached\n",
        "Goal Reached\n",
        "Goal Reached"
       ]
      },
      {
       "output_type": "stream",
       "stream": "stdout",
       "text": [
        "\n",
        "Goal Reached\n",
        "Goal Reached\n",
        "Goal Reached\n",
        "Goal Reached\n",
        "Goal Reached\n",
        "Goal Reached\n",
        "Goal Reached\n",
        "Goal Reached\n",
        "Goal Reached"
       ]
      },
      {
       "output_type": "stream",
       "stream": "stdout",
       "text": [
        "\n",
        "Goal Reached\n",
        "Goal Reached\n",
        "Goal Reached\n",
        "Goal Reached\n",
        "Goal Reached\n",
        "Goal Reached\n",
        "Goal Reached\n",
        "Goal Reached\n",
        "Goal Reached"
       ]
      },
      {
       "output_type": "stream",
       "stream": "stdout",
       "text": [
        "\n",
        "Goal Reached\n",
        "Goal Reached\n",
        "Goal Reached\n",
        "Goal Reached\n",
        "Goal Reached\n",
        "Goal Reached\n",
        "Goal Reached\n",
        "Goal Reached\n",
        "Goal Reached"
       ]
      },
      {
       "output_type": "stream",
       "stream": "stdout",
       "text": [
        "\n",
        "Goal Reached\n",
        "Goal Reached\n",
        "Goal Reached\n",
        "Goal Reached\n",
        "Goal Reached\n",
        "Goal Reached\n",
        "Goal Reached\n",
        "Goal Reached"
       ]
      },
      {
       "output_type": "stream",
       "stream": "stdout",
       "text": [
        "\n",
        "Goal Reached\n",
        "Goal Reached\n",
        "Goal Reached\n",
        "Goal Reached\n",
        "Goal Reached\n",
        "Goal Reached\n",
        "Goal Reached\n",
        "Goal Reached"
       ]
      },
      {
       "output_type": "stream",
       "stream": "stdout",
       "text": [
        "\n",
        "Goal Reached\n",
        "Goal Reached\n",
        "Goal Reached\n",
        "Goal Reached\n",
        "Goal Reached\n",
        "Goal Reached\n",
        "Goal Reached\n",
        "Goal Reached\n",
        "Goal Reached\n",
        "Goal Reached\n",
        "Goal Reached"
       ]
      },
      {
       "output_type": "stream",
       "stream": "stdout",
       "text": [
        "\n",
        "Goal Reached\n",
        "Goal Reached\n",
        "Goal Reached\n",
        "Goal Reached\n",
        "Goal Reached\n",
        "Goal Reached\n",
        "Goal Reached"
       ]
      },
      {
       "output_type": "stream",
       "stream": "stdout",
       "text": [
        "\n",
        "Goal Reached\n",
        "Goal Reached\n",
        "Goal Reached\n",
        "Goal Reached\n",
        "Goal Reached\n",
        "Goal Reached\n",
        "Goal Reached\n",
        "Goal Reached\n",
        "Goal Reached"
       ]
      },
      {
       "output_type": "stream",
       "stream": "stdout",
       "text": [
        "\n",
        "Goal Reached\n",
        "Goal Reached\n",
        "Goal Reached\n",
        "Goal Reached\n",
        "Goal Reached\n",
        "Goal Reached\n",
        "Goal Reached\n",
        "Goal Reached\n",
        "Goal Reached\n",
        "Goal Reached\n",
        "Goal Reached"
       ]
      },
      {
       "output_type": "stream",
       "stream": "stdout",
       "text": [
        "\n",
        "Goal Reached\n",
        "Goal Reached\n",
        "Goal Reached\n",
        "Goal Reached\n",
        "Goal Reached\n",
        "Goal Reached\n",
        "Goal Reached\n",
        "Goal Reached\n",
        "Goal Reached\n",
        "Goal Reached\n",
        "Goal Reached"
       ]
      },
      {
       "output_type": "stream",
       "stream": "stdout",
       "text": [
        "\n",
        "Goal Reached\n",
        "Goal Reached\n",
        "Goal Reached\n",
        "Goal Reached\n",
        "Goal Reached\n",
        "Goal Reached\n",
        "Goal Reached\n",
        "Goal Reached\n",
        "Goal Reached"
       ]
      },
      {
       "output_type": "stream",
       "stream": "stdout",
       "text": [
        "\n",
        "Goal Reached\n",
        "Goal Reached\n",
        "Goal Reached\n",
        "Goal Reached\n",
        "Goal Reached\n",
        "Goal Reached\n",
        "Goal Reached\n",
        "Goal Reached"
       ]
      },
      {
       "output_type": "stream",
       "stream": "stdout",
       "text": [
        "\n",
        "Goal Reached\n",
        "Goal Reached\n",
        "Goal Reached\n",
        "Goal Reached\n",
        "Goal Reached\n",
        "Goal Reached\n",
        "Goal Reached\n",
        "Goal Reached\n",
        "Goal Reached\n",
        "Goal Reached\n",
        "Goal Reached"
       ]
      },
      {
       "output_type": "stream",
       "stream": "stdout",
       "text": [
        "\n",
        "Goal Reached\n",
        "Goal Reached\n",
        "Goal Reached\n",
        "Goal Reached\n",
        "Goal Reached\n",
        "Goal Reached\n",
        "Goal Reached\n",
        "Goal Reached\n",
        "Goal Reached\n",
        "Goal Reached\n",
        "Goal Reached"
       ]
      },
      {
       "output_type": "stream",
       "stream": "stdout",
       "text": [
        "\n",
        "Goal Reached\n",
        "Goal Reached\n",
        "Goal Reached\n",
        "Goal Reached\n",
        "Goal Reached\n",
        "Goal Reached\n",
        "Goal Reached\n",
        "Goal Reached\n",
        "Goal Reached"
       ]
      },
      {
       "output_type": "stream",
       "stream": "stdout",
       "text": [
        "\n",
        "Goal Reached\n",
        "Goal Reached\n",
        "Goal Reached\n",
        "Goal Reached\n",
        "Goal Reached\n",
        "Goal Reached\n",
        "Goal Reached\n",
        "Goal Reached\n",
        "Goal Reached"
       ]
      },
      {
       "output_type": "stream",
       "stream": "stdout",
       "text": [
        "\n",
        "Goal Reached\n",
        "Goal Reached\n",
        "Goal Reached\n",
        "Goal Reached\n",
        "Goal Reached\n",
        "Goal Reached\n",
        "Goal Reached\n",
        "Goal Reached"
       ]
      },
      {
       "output_type": "stream",
       "stream": "stdout",
       "text": [
        "\n",
        "Goal Reached\n",
        "Goal Reached\n",
        "Goal Reached\n",
        "Goal Reached\n",
        "Goal Reached\n",
        "Goal Reached\n",
        "Goal Reached\n",
        "Goal Reached"
       ]
      },
      {
       "output_type": "stream",
       "stream": "stdout",
       "text": [
        "\n",
        "Goal Reached\n",
        "Goal Reached\n",
        "Goal Reached\n",
        "Goal Reached\n",
        "Goal Reached\n",
        "Goal Reached\n",
        "Goal Reached\n",
        "Goal Reached"
       ]
      },
      {
       "output_type": "stream",
       "stream": "stdout",
       "text": [
        "\n",
        "Goal Reached\n",
        "Goal Reached\n",
        "Goal Reached\n",
        "Goal Reached\n",
        "Goal Reached\n",
        "Goal Reached\n",
        "Goal Reached\n",
        "Goal Reached"
       ]
      },
      {
       "output_type": "stream",
       "stream": "stdout",
       "text": [
        "\n",
        "Goal Reached\n",
        "Goal Reached\n",
        "Goal Reached\n",
        "Goal Reached\n",
        "Goal Reached\n",
        "Goal Reached\n",
        "Goal Reached\n",
        "Goal Reached\n",
        "Goal Reached"
       ]
      },
      {
       "output_type": "stream",
       "stream": "stdout",
       "text": [
        "\n",
        "Goal Reached\n",
        "Goal Reached\n",
        "Goal Reached\n",
        "Goal Reached\n",
        "Goal Reached\n",
        "Goal Reached\n",
        "Goal Reached\n",
        "Goal Reached\n",
        "Goal Reached\n",
        "Goal Reached"
       ]
      },
      {
       "output_type": "stream",
       "stream": "stdout",
       "text": [
        "\n",
        "Goal Reached\n",
        "Goal Reached\n",
        "Goal Reached\n",
        "Goal Reached\n",
        "Goal Reached\n",
        "Goal Reached\n",
        "Goal Reached"
       ]
      },
      {
       "output_type": "stream",
       "stream": "stdout",
       "text": [
        "\n",
        "Goal Reached\n",
        "Goal Reached\n",
        "Goal Reached\n",
        "Goal Reached\n",
        "Goal Reached\n",
        "Goal Reached\n",
        "Goal Reached\n",
        "Goal Reached"
       ]
      },
      {
       "output_type": "stream",
       "stream": "stdout",
       "text": [
        "\n",
        "Goal Reached\n",
        "Goal Reached\n",
        "Goal Reached\n",
        "Goal Reached\n",
        "Goal Reached\n",
        "Goal Reached"
       ]
      },
      {
       "output_type": "stream",
       "stream": "stdout",
       "text": [
        "\n",
        "Goal Reached\n",
        "Goal Reached\n",
        "Goal Reached\n",
        "Goal Reached\n",
        "Goal Reached\n",
        "Goal Reached\n",
        "Goal Reached"
       ]
      },
      {
       "output_type": "stream",
       "stream": "stdout",
       "text": [
        "\n",
        "Goal Reached\n",
        "Goal Reached\n",
        "Goal Reached\n",
        "Goal Reached\n",
        "Goal Reached"
       ]
      },
      {
       "output_type": "stream",
       "stream": "stdout",
       "text": [
        "\n",
        "Goal Reached\n",
        "Goal Reached\n",
        "Goal Reached\n",
        "Goal Reached\n",
        "Goal Reached\n",
        "Goal Reached\n",
        "Goal Reached\n",
        "Goal Reached"
       ]
      },
      {
       "output_type": "stream",
       "stream": "stdout",
       "text": [
        "\n",
        "Goal Reached\n",
        "Goal Reached\n",
        "Goal Reached\n",
        "Goal Reached\n",
        "Goal Reached\n",
        "Goal Reached\n",
        "Goal Reached"
       ]
      },
      {
       "output_type": "stream",
       "stream": "stdout",
       "text": [
        "\n",
        "Goal Reached\n",
        "Goal Reached\n",
        "Goal Reached\n",
        "Goal Reached\n",
        "Goal Reached\n",
        "Goal Reached\n",
        "Goal Reached\n",
        "Goal Reached"
       ]
      },
      {
       "output_type": "stream",
       "stream": "stdout",
       "text": [
        "\n",
        "Goal Reached\n",
        "Goal Reached\n",
        "Goal Reached\n",
        "Goal Reached\n",
        "Goal Reached\n",
        "Goal Reached\n",
        "Goal Reached\n",
        "Goal Reached\n",
        "Goal Reached"
       ]
      },
      {
       "output_type": "stream",
       "stream": "stdout",
       "text": [
        "\n",
        "Goal Reached\n",
        "Goal Reached\n",
        "Goal Reached\n",
        "Goal Reached\n",
        "Goal Reached\n",
        "Goal Reached\n",
        "Goal Reached\n",
        "Goal Reached"
       ]
      },
      {
       "output_type": "stream",
       "stream": "stdout",
       "text": [
        "\n",
        "Goal Reached\n",
        "Goal Reached\n",
        "Goal Reached\n",
        "Goal Reached\n",
        "Goal Reached\n",
        "Goal Reached\n",
        "Goal Reached"
       ]
      },
      {
       "output_type": "stream",
       "stream": "stdout",
       "text": [
        "\n",
        "Goal Reached\n",
        "Goal Reached\n",
        "Goal Reached\n",
        "Goal Reached\n",
        "Goal Reached"
       ]
      },
      {
       "output_type": "stream",
       "stream": "stdout",
       "text": [
        "\n",
        "Goal Reached\n",
        "Goal Reached\n",
        "Goal Reached\n",
        "Goal Reached\n",
        "Goal Reached\n",
        "Goal Reached\n",
        "Goal Reached"
       ]
      },
      {
       "output_type": "stream",
       "stream": "stdout",
       "text": [
        "\n",
        "Goal Reached\n",
        "Goal Reached\n",
        "Goal Reached\n",
        "Goal Reached\n",
        "Goal Reached\n",
        "Goal Reached\n",
        "Goal Reached"
       ]
      },
      {
       "output_type": "stream",
       "stream": "stdout",
       "text": [
        "\n",
        "Goal Reached\n",
        "Goal Reached\n",
        "Goal Reached\n",
        "Goal Reached\n",
        "Goal Reached\n",
        "Goal Reached\n",
        "Goal Reached\n",
        "Goal Reached"
       ]
      },
      {
       "output_type": "stream",
       "stream": "stdout",
       "text": [
        "\n",
        "Goal Reached\n",
        "Goal Reached\n",
        "Goal Reached\n",
        "Goal Reached\n",
        "Goal Reached\n",
        "Goal Reached"
       ]
      },
      {
       "output_type": "stream",
       "stream": "stdout",
       "text": [
        "\n",
        "Goal Reached\n",
        "Goal Reached\n",
        "Goal Reached\n",
        "Goal Reached\n",
        "Goal Reached\n",
        "Goal Reached\n",
        "Goal Reached\n",
        "Goal Reached"
       ]
      },
      {
       "output_type": "stream",
       "stream": "stdout",
       "text": [
        "\n",
        "Goal Reached\n",
        "Goal Reached\n",
        "Goal Reached\n",
        "Goal Reached\n",
        "Goal Reached\n",
        "Goal Reached\n",
        "Goal Reached"
       ]
      },
      {
       "output_type": "stream",
       "stream": "stdout",
       "text": [
        "\n",
        "Goal Reached\n",
        "Goal Reached\n",
        "Goal Reached\n",
        "Goal Reached\n",
        "Goal Reached\n",
        "Goal Reached\n",
        "Goal Reached\n",
        "Goal Reached"
       ]
      },
      {
       "output_type": "stream",
       "stream": "stdout",
       "text": [
        "\n",
        "Goal Reached\n",
        "Goal Reached\n",
        "Goal Reached\n",
        "Goal Reached\n",
        "Goal Reached\n",
        "Goal Reached\n",
        "Goal Reached"
       ]
      },
      {
       "output_type": "stream",
       "stream": "stdout",
       "text": [
        "\n",
        "Goal Reached\n",
        "Goal Reached\n",
        "Goal Reached\n",
        "Goal Reached\n",
        "Goal Reached\n",
        "Goal Reached\n",
        "Goal Reached\n",
        "Goal Reached"
       ]
      },
      {
       "output_type": "stream",
       "stream": "stdout",
       "text": [
        "\n",
        "Goal Reached\n",
        "Goal Reached\n",
        "Goal Reached\n",
        "Goal Reached\n",
        "Goal Reached\n",
        "Goal Reached"
       ]
      },
      {
       "output_type": "stream",
       "stream": "stdout",
       "text": [
        "\n",
        "Goal Reached\n",
        "Goal Reached\n",
        "Goal Reached\n",
        "Goal Reached\n",
        "Goal Reached\n",
        "Goal Reached\n",
        "Goal Reached\n",
        "Goal Reached"
       ]
      },
      {
       "output_type": "stream",
       "stream": "stdout",
       "text": [
        "\n",
        "Goal Reached\n",
        "Goal Reached\n",
        "Goal Reached\n",
        "Goal Reached\n",
        "Goal Reached\n",
        "Goal Reached\n",
        "Goal Reached\n",
        "Goal Reached\n",
        "Goal Reached\n",
        "Goal Reached"
       ]
      },
      {
       "output_type": "stream",
       "stream": "stdout",
       "text": [
        "\n",
        "Goal Reached\n",
        "Goal Reached\n",
        "Goal Reached\n",
        "Goal Reached\n",
        "Goal Reached\n",
        "Goal Reached\n",
        "Goal Reached\n",
        "Goal Reached\n",
        "Goal Reached\n",
        "Goal Reached"
       ]
      },
      {
       "output_type": "stream",
       "stream": "stdout",
       "text": [
        "\n",
        "Goal Reached\n",
        "Goal Reached\n",
        "Goal Reached\n",
        "Goal Reached\n",
        "mouse down\n",
        "config 1\n",
        "goal point not yet set\n",
        "goal point not yet set"
       ]
      },
      {
       "output_type": "stream",
       "stream": "stdout",
       "text": [
        "\n",
        "goal point not yet set"
       ]
      },
      {
       "output_type": "stream",
       "stream": "stdout",
       "text": [
        "\n",
        "goal point not yet set"
       ]
      },
      {
       "output_type": "stream",
       "stream": "stdout",
       "text": [
        "\n",
        "goal point not yet set"
       ]
      },
      {
       "output_type": "stream",
       "stream": "stdout",
       "text": [
        "\n",
        "goal point not yet set"
       ]
      },
      {
       "output_type": "stream",
       "stream": "stdout",
       "text": [
        "\n",
        "goal point not yet set"
       ]
      },
      {
       "output_type": "stream",
       "stream": "stdout",
       "text": [
        "\n",
        "goal point not yet set"
       ]
      },
      {
       "output_type": "stream",
       "stream": "stdout",
       "text": [
        "\n",
        "goal point not yet set"
       ]
      },
      {
       "output_type": "stream",
       "stream": "stdout",
       "text": [
        "\n",
        "goal point not yet set"
       ]
      },
      {
       "output_type": "stream",
       "stream": "stdout",
       "text": [
        "\n",
        "goal point not yet set"
       ]
      },
      {
       "output_type": "stream",
       "stream": "stdout",
       "text": [
        "\n",
        "goal point not yet set"
       ]
      },
      {
       "output_type": "stream",
       "stream": "stdout",
       "text": [
        "\n",
        "goal point not yet set"
       ]
      },
      {
       "output_type": "stream",
       "stream": "stdout",
       "text": [
        "\n",
        "mouse down"
       ]
      },
      {
       "output_type": "stream",
       "stream": "stdout",
       "text": [
        "\n",
        "initiale point set: (96, 196)\n",
        "goal point not yet set\n",
        "goal point not yet set"
       ]
      },
      {
       "output_type": "stream",
       "stream": "stdout",
       "text": [
        "\n",
        "goal point not yet set"
       ]
      },
      {
       "output_type": "stream",
       "stream": "stdout",
       "text": [
        "\n",
        "goal point not yet set"
       ]
      },
      {
       "output_type": "stream",
       "stream": "stdout",
       "text": [
        "\n",
        "goal point not yet set"
       ]
      },
      {
       "output_type": "stream",
       "stream": "stdout",
       "text": [
        "\n",
        "goal point not yet set"
       ]
      },
      {
       "output_type": "stream",
       "stream": "stdout",
       "text": [
        "\n",
        "goal point not yet set"
       ]
      },
      {
       "output_type": "stream",
       "stream": "stdout",
       "text": [
        "\n",
        "goal point not yet set"
       ]
      },
      {
       "output_type": "stream",
       "stream": "stdout",
       "text": [
        "\n",
        "goal point not yet set"
       ]
      },
      {
       "output_type": "stream",
       "stream": "stdout",
       "text": [
        "\n",
        "goal point not yet set"
       ]
      },
      {
       "output_type": "stream",
       "stream": "stdout",
       "text": [
        "\n",
        "goal point not yet set"
       ]
      },
      {
       "output_type": "stream",
       "stream": "stdout",
       "text": [
        "\n",
        "goal point not yet set"
       ]
      },
      {
       "output_type": "stream",
       "stream": "stdout",
       "text": [
        "\n",
        "goal point not yet set"
       ]
      },
      {
       "output_type": "stream",
       "stream": "stdout",
       "text": [
        "\n",
        "goal point not yet set"
       ]
      },
      {
       "output_type": "stream",
       "stream": "stdout",
       "text": [
        "\n",
        "goal point not yet set"
       ]
      },
      {
       "output_type": "stream",
       "stream": "stdout",
       "text": [
        "\n",
        "goal point not yet set"
       ]
      },
      {
       "output_type": "stream",
       "stream": "stdout",
       "text": [
        "\n",
        "mouse down"
       ]
      },
      {
       "output_type": "stream",
       "stream": "stdout",
       "text": [
        "\n",
        "goal point set: (399, 198)\n",
        "Goal Reached"
       ]
      },
      {
       "output_type": "stream",
       "stream": "stdout",
       "text": [
        "\n",
        "Goal Reached\n",
        "Goal Reached\n",
        "Goal Reached\n",
        "Goal Reached\n",
        "Goal Reached\n",
        "Goal Reached\n",
        "Goal Reached\n",
        "Goal Reached\n",
        "Goal Reached"
       ]
      },
      {
       "output_type": "stream",
       "stream": "stdout",
       "text": [
        "\n",
        "Goal Reached\n",
        "Goal Reached\n",
        "Goal Reached\n",
        "Goal Reached\n",
        "Goal Reached\n",
        "Goal Reached\n",
        "Goal Reached\n",
        "Goal Reached\n",
        "Goal Reached\n",
        "Goal Reached"
       ]
      },
      {
       "output_type": "stream",
       "stream": "stdout",
       "text": [
        "\n",
        "Goal Reached\n",
        "Goal Reached\n",
        "Goal Reached\n",
        "Goal Reached\n",
        "Goal Reached\n",
        "Goal Reached\n",
        "Goal Reached\n",
        "Goal Reached\n",
        "Goal Reached\n",
        "Goal Reached"
       ]
      },
      {
       "output_type": "stream",
       "stream": "stdout",
       "text": [
        "\n",
        "Goal Reached\n",
        "Goal Reached\n",
        "Goal Reached\n",
        "Goal Reached\n",
        "Goal Reached\n",
        "Goal Reached\n",
        "Goal Reached\n",
        "Goal Reached\n",
        "Goal Reached\n",
        "Goal Reached\n",
        "Goal Reached"
       ]
      },
      {
       "output_type": "stream",
       "stream": "stdout",
       "text": [
        "\n",
        "Goal Reached\n",
        "Goal Reached\n",
        "Goal Reached\n",
        "Goal Reached\n",
        "Goal Reached\n",
        "Goal Reached\n",
        "Goal Reached\n",
        "Goal Reached\n",
        "Goal Reached"
       ]
      },
      {
       "output_type": "stream",
       "stream": "stdout",
       "text": [
        "\n",
        "Goal Reached\n",
        "Goal Reached\n",
        "Goal Reached\n",
        "Goal Reached\n",
        "Goal Reached\n",
        "Goal Reached\n",
        "Goal Reached\n",
        "Goal Reached\n",
        "Goal Reached\n",
        "Goal Reached"
       ]
      },
      {
       "output_type": "stream",
       "stream": "stdout",
       "text": [
        "\n",
        "Goal Reached\n",
        "Goal Reached\n",
        "Goal Reached\n",
        "Goal Reached\n",
        "Goal Reached\n",
        "Goal Reached\n",
        "Goal Reached\n",
        "Goal Reached\n",
        "Goal Reached\n",
        "Goal Reached"
       ]
      },
      {
       "output_type": "stream",
       "stream": "stdout",
       "text": [
        "\n",
        "Goal Reached\n",
        "Goal Reached\n",
        "Goal Reached\n",
        "Goal Reached\n",
        "Goal Reached\n",
        "Goal Reached\n",
        "Goal Reached\n",
        "Goal Reached\n",
        "Goal Reached\n",
        "Goal Reached"
       ]
      },
      {
       "output_type": "stream",
       "stream": "stdout",
       "text": [
        "\n",
        "Goal Reached\n",
        "Goal Reached\n",
        "Goal Reached\n",
        "Goal Reached\n",
        "Goal Reached\n",
        "Goal Reached\n",
        "Goal Reached\n",
        "Goal Reached\n",
        "Goal Reached\n",
        "Goal Reached\n",
        "Goal Reached"
       ]
      },
      {
       "output_type": "stream",
       "stream": "stdout",
       "text": [
        "\n",
        "Goal Reached\n",
        "Goal Reached\n",
        "Goal Reached\n",
        "Goal Reached\n",
        "Goal Reached\n",
        "Goal Reached\n",
        "Goal Reached\n",
        "Goal Reached\n",
        "Goal Reached"
       ]
      },
      {
       "output_type": "stream",
       "stream": "stdout",
       "text": [
        "\n",
        "Goal Reached\n",
        "Goal Reached\n",
        "Goal Reached\n",
        "Goal Reached\n",
        "Goal Reached\n",
        "Goal Reached\n",
        "Goal Reached\n",
        "Goal Reached\n",
        "Goal Reached"
       ]
      },
      {
       "output_type": "stream",
       "stream": "stdout",
       "text": [
        "\n",
        "Goal Reached\n",
        "Goal Reached\n",
        "Goal Reached\n",
        "Goal Reached\n",
        "Goal Reached\n",
        "Goal Reached\n",
        "Goal Reached\n",
        "Goal Reached\n",
        "Goal Reached"
       ]
      },
      {
       "output_type": "stream",
       "stream": "stdout",
       "text": [
        "\n",
        "Goal Reached\n",
        "Goal Reached\n",
        "Goal Reached\n",
        "Goal Reached\n",
        "Goal Reached\n",
        "Goal Reached\n",
        "Goal Reached\n",
        "Goal Reached"
       ]
      },
      {
       "output_type": "stream",
       "stream": "stdout",
       "text": [
        "\n",
        "Goal Reached\n",
        "Goal Reached\n",
        "Goal Reached\n",
        "Goal Reached\n",
        "Goal Reached\n",
        "Goal Reached\n",
        "Goal Reached\n",
        "Goal Reached\n",
        "Goal Reached\n",
        "Goal Reached"
       ]
      },
      {
       "output_type": "stream",
       "stream": "stdout",
       "text": [
        "\n",
        "Goal Reached\n",
        "Goal Reached\n",
        "Goal Reached\n",
        "Goal Reached\n",
        "Goal Reached\n",
        "Goal Reached\n",
        "Goal Reached\n",
        "Goal Reached\n",
        "Goal Reached"
       ]
      },
      {
       "output_type": "stream",
       "stream": "stdout",
       "text": [
        "\n",
        "Goal Reached\n",
        "Goal Reached\n",
        "Goal Reached\n",
        "Goal Reached\n",
        "Goal Reached\n",
        "Goal Reached\n",
        "Goal Reached\n",
        "Goal Reached\n",
        "Goal Reached\n",
        "Goal Reached"
       ]
      },
      {
       "output_type": "stream",
       "stream": "stdout",
       "text": [
        "\n",
        "Goal Reached\n",
        "Goal Reached\n",
        "Goal Reached\n",
        "Goal Reached\n",
        "Goal Reached\n",
        "Goal Reached\n",
        "Goal Reached\n",
        "Goal Reached"
       ]
      },
      {
       "output_type": "stream",
       "stream": "stdout",
       "text": [
        "\n",
        "Goal Reached\n",
        "Goal Reached\n",
        "Goal Reached\n",
        "Goal Reached\n",
        "Goal Reached\n",
        "Goal Reached\n",
        "Goal Reached\n",
        "Goal Reached\n",
        "Goal Reached\n",
        "Goal Reached"
       ]
      },
      {
       "output_type": "stream",
       "stream": "stdout",
       "text": [
        "\n",
        "Goal Reached\n",
        "Goal Reached\n",
        "Goal Reached\n",
        "Goal Reached\n",
        "Goal Reached\n",
        "Goal Reached\n",
        "Goal Reached\n",
        "Goal Reached\n",
        "Goal Reached"
       ]
      },
      {
       "output_type": "stream",
       "stream": "stdout",
       "text": [
        "\n",
        "Goal Reached\n",
        "Goal Reached\n",
        "Goal Reached\n",
        "Goal Reached\n",
        "Goal Reached\n",
        "Goal Reached\n",
        "Goal Reached\n",
        "Goal Reached\n",
        "Goal Reached"
       ]
      },
      {
       "output_type": "stream",
       "stream": "stdout",
       "text": [
        "\n",
        "Goal Reached\n",
        "Goal Reached\n",
        "Goal Reached\n",
        "Goal Reached\n",
        "Goal Reached\n",
        "Goal Reached\n",
        "Goal Reached\n",
        "Goal Reached\n",
        "Goal Reached\n",
        "Goal Reached"
       ]
      },
      {
       "output_type": "stream",
       "stream": "stdout",
       "text": [
        "\n",
        "Goal Reached\n",
        "Goal Reached\n",
        "Goal Reached\n",
        "Goal Reached\n",
        "Goal Reached\n",
        "Goal Reached\n",
        "Goal Reached\n",
        "Goal Reached\n",
        "Goal Reached"
       ]
      },
      {
       "output_type": "stream",
       "stream": "stdout",
       "text": [
        "\n",
        "Goal Reached\n",
        "Goal Reached\n",
        "Goal Reached\n",
        "Goal Reached\n",
        "Goal Reached\n",
        "Goal Reached\n",
        "Goal Reached\n",
        "Goal Reached"
       ]
      },
      {
       "output_type": "stream",
       "stream": "stdout",
       "text": [
        "\n",
        "Goal Reached\n",
        "Goal Reached\n",
        "Goal Reached\n",
        "Goal Reached\n",
        "Goal Reached\n",
        "Goal Reached\n",
        "Goal Reached\n",
        "Goal Reached\n",
        "Goal Reached\n",
        "Goal Reached\n",
        "Goal Reached"
       ]
      },
      {
       "output_type": "stream",
       "stream": "stdout",
       "text": [
        "\n",
        "Goal Reached\n",
        "Goal Reached\n",
        "Goal Reached\n",
        "Goal Reached\n",
        "Goal Reached\n",
        "Goal Reached\n",
        "Goal Reached\n",
        "Goal Reached"
       ]
      },
      {
       "output_type": "stream",
       "stream": "stdout",
       "text": [
        "\n",
        "Goal Reached\n",
        "Goal Reached\n",
        "Goal Reached\n",
        "Goal Reached\n",
        "Goal Reached\n",
        "Goal Reached\n",
        "Goal Reached\n",
        "Goal Reached\n",
        "Goal Reached"
       ]
      },
      {
       "output_type": "stream",
       "stream": "stdout",
       "text": [
        "\n",
        "Goal Reached\n",
        "Goal Reached\n",
        "Goal Reached\n",
        "Goal Reached\n",
        "Goal Reached\n",
        "Goal Reached\n",
        "Goal Reached\n",
        "Goal Reached\n",
        "Goal Reached\n",
        "Goal Reached\n",
        "Goal Reached\n",
        "Goal Reached\n",
        "Goal Reached"
       ]
      },
      {
       "output_type": "stream",
       "stream": "stdout",
       "text": [
        "\n",
        "Goal Reached\n",
        "Goal Reached\n",
        "Goal Reached\n",
        "Goal Reached\n",
        "Goal Reached\n",
        "Goal Reached\n",
        "Goal Reached\n",
        "Goal Reached\n",
        "Goal Reached"
       ]
      },
      {
       "output_type": "stream",
       "stream": "stdout",
       "text": [
        "\n",
        "Goal Reached\n",
        "Goal Reached\n",
        "Goal Reached\n",
        "Goal Reached\n",
        "Goal Reached\n",
        "Goal Reached\n",
        "Goal Reached\n",
        "Goal Reached\n",
        "Goal Reached\n",
        "Goal Reached"
       ]
      },
      {
       "output_type": "stream",
       "stream": "stdout",
       "text": [
        "\n",
        "Goal Reached\n",
        "Goal Reached\n",
        "Goal Reached\n",
        "Goal Reached\n",
        "Goal Reached\n",
        "Goal Reached\n",
        "Goal Reached\n",
        "Goal Reached\n",
        "Goal Reached"
       ]
      },
      {
       "output_type": "stream",
       "stream": "stdout",
       "text": [
        "\n",
        "Goal Reached\n",
        "Goal Reached\n",
        "Goal Reached\n",
        "Goal Reached\n",
        "Goal Reached\n",
        "Goal Reached\n",
        "Goal Reached\n",
        "Goal Reached\n",
        "Goal Reached"
       ]
      },
      {
       "output_type": "stream",
       "stream": "stdout",
       "text": [
        "\n",
        "Goal Reached\n",
        "Goal Reached\n",
        "Goal Reached\n",
        "Goal Reached\n",
        "Goal Reached\n",
        "Goal Reached\n",
        "Goal Reached\n",
        "Goal Reached\n",
        "Goal Reached\n",
        "Goal Reached"
       ]
      },
      {
       "output_type": "stream",
       "stream": "stdout",
       "text": [
        "\n",
        "Goal Reached\n",
        "Goal Reached\n",
        "Goal Reached\n",
        "Goal Reached\n",
        "Goal Reached\n",
        "Goal Reached\n",
        "Goal Reached\n",
        "Goal Reached\n",
        "Goal Reached\n",
        "Goal Reached"
       ]
      },
      {
       "output_type": "stream",
       "stream": "stdout",
       "text": [
        "\n",
        "Goal Reached\n",
        "Goal Reached\n",
        "Goal Reached\n",
        "Goal Reached\n",
        "Goal Reached\n",
        "Goal Reached\n",
        "Goal Reached\n",
        "Goal Reached\n",
        "Goal Reached\n",
        "Goal Reached"
       ]
      },
      {
       "output_type": "stream",
       "stream": "stdout",
       "text": [
        "\n",
        "Goal Reached\n",
        "Goal Reached\n",
        "Goal Reached\n",
        "Goal Reached\n",
        "Goal Reached\n",
        "Goal Reached\n",
        "Goal Reached\n",
        "Goal Reached\n",
        "Goal Reached\n",
        "Goal Reached"
       ]
      },
      {
       "output_type": "stream",
       "stream": "stdout",
       "text": [
        "\n",
        "Goal Reached\n",
        "Goal Reached\n",
        "Goal Reached\n",
        "Goal Reached\n",
        "Goal Reached\n",
        "Goal Reached\n",
        "Goal Reached\n",
        "Goal Reached"
       ]
      },
      {
       "output_type": "stream",
       "stream": "stdout",
       "text": [
        "\n",
        "Goal Reached\n",
        "Goal Reached\n",
        "Goal Reached\n",
        "Goal Reached\n",
        "Goal Reached\n",
        "Goal Reached\n",
        "Goal Reached"
       ]
      },
      {
       "output_type": "stream",
       "stream": "stdout",
       "text": [
        "\n",
        "Goal Reached\n",
        "Goal Reached\n",
        "Goal Reached\n",
        "Goal Reached\n",
        "Goal Reached\n",
        "Goal Reached\n",
        "Goal Reached\n",
        "Goal Reached"
       ]
      },
      {
       "output_type": "stream",
       "stream": "stdout",
       "text": [
        "\n",
        "Goal Reached\n",
        "Goal Reached\n",
        "Goal Reached\n",
        "Goal Reached\n",
        "Goal Reached\n",
        "Goal Reached\n",
        "Goal Reached\n",
        "Goal Reached\n",
        "Goal Reached"
       ]
      },
      {
       "output_type": "stream",
       "stream": "stdout",
       "text": [
        "\n",
        "Goal Reached\n",
        "Goal Reached\n",
        "Goal Reached\n",
        "Goal Reached\n",
        "Goal Reached\n",
        "Goal Reached\n",
        "Goal Reached\n",
        "Goal Reached\n",
        "Goal Reached\n",
        "Goal Reached"
       ]
      },
      {
       "output_type": "stream",
       "stream": "stdout",
       "text": [
        "\n",
        "Goal Reached\n",
        "Goal Reached\n",
        "Goal Reached\n",
        "Goal Reached\n",
        "Goal Reached\n",
        "Goal Reached\n",
        "Goal Reached\n",
        "Goal Reached\n",
        "Goal Reached\n",
        "Goal Reached"
       ]
      },
      {
       "output_type": "stream",
       "stream": "stdout",
       "text": [
        "\n",
        "Goal Reached\n",
        "Goal Reached\n",
        "Goal Reached\n",
        "Goal Reached\n",
        "Goal Reached\n",
        "Goal Reached\n",
        "Goal Reached\n",
        "Goal Reached\n",
        "Goal Reached\n",
        "Goal Reached\n",
        "Goal Reached"
       ]
      },
      {
       "output_type": "stream",
       "stream": "stdout",
       "text": [
        "\n",
        "Goal Reached\n",
        "Goal Reached\n",
        "Goal Reached\n",
        "Goal Reached\n",
        "Goal Reached\n",
        "Goal Reached\n",
        "Goal Reached\n",
        "Goal Reached\n",
        "Goal Reached"
       ]
      },
      {
       "output_type": "stream",
       "stream": "stdout",
       "text": [
        "\n",
        "Goal Reached\n",
        "Goal Reached\n",
        "Goal Reached\n",
        "Goal Reached\n",
        "Goal Reached\n",
        "Goal Reached\n",
        "Goal Reached\n",
        "Goal Reached\n",
        "Goal Reached\n",
        "Goal Reached\n",
        "Goal Reached"
       ]
      },
      {
       "output_type": "stream",
       "stream": "stdout",
       "text": [
        "\n",
        "Goal Reached\n",
        "Goal Reached\n",
        "Goal Reached\n",
        "Goal Reached\n",
        "Goal Reached\n",
        "Goal Reached\n",
        "Goal Reached\n",
        "Goal Reached\n",
        "Goal Reached\n",
        "Goal Reached\n",
        "Goal Reached\n",
        "Goal Reached"
       ]
      },
      {
       "output_type": "stream",
       "stream": "stdout",
       "text": [
        "\n",
        "Goal Reached\n",
        "Goal Reached\n",
        "Goal Reached\n",
        "Goal Reached\n",
        "Goal Reached\n",
        "Goal Reached\n",
        "Goal Reached\n",
        "Goal Reached\n",
        "Goal Reached"
       ]
      },
      {
       "output_type": "stream",
       "stream": "stdout",
       "text": [
        "\n",
        "Goal Reached\n",
        "Goal Reached\n",
        "Goal Reached\n",
        "Goal Reached\n",
        "Goal Reached\n",
        "Goal Reached\n",
        "Goal Reached\n",
        "Goal Reached\n",
        "Goal Reached\n",
        "Goal Reached\n",
        "Goal Reached"
       ]
      },
      {
       "output_type": "stream",
       "stream": "stdout",
       "text": [
        "\n",
        "Goal Reached\n",
        "Goal Reached\n",
        "Goal Reached\n",
        "Goal Reached\n",
        "Goal Reached\n",
        "Goal Reached\n",
        "Goal Reached\n",
        "Goal Reached\n",
        "Goal Reached"
       ]
      },
      {
       "output_type": "stream",
       "stream": "stdout",
       "text": [
        "\n",
        "Goal Reached\n",
        "Goal Reached\n",
        "Goal Reached\n",
        "Goal Reached\n",
        "Goal Reached\n",
        "Goal Reached\n",
        "Goal Reached\n",
        "Goal Reached\n",
        "Goal Reached\n",
        "Goal Reached\n",
        "Goal Reached"
       ]
      },
      {
       "output_type": "stream",
       "stream": "stdout",
       "text": [
        "\n",
        "Goal Reached\n",
        "Goal Reached\n",
        "Goal Reached\n",
        "Goal Reached\n",
        "Goal Reached\n",
        "Goal Reached\n",
        "Goal Reached\n",
        "Goal Reached\n",
        "Goal Reached"
       ]
      },
      {
       "output_type": "stream",
       "stream": "stdout",
       "text": [
        "\n",
        "Goal Reached\n",
        "Goal Reached\n",
        "Goal Reached\n",
        "Goal Reached\n",
        "Goal Reached\n",
        "Goal Reached\n",
        "Goal Reached\n",
        "Goal Reached\n",
        "Goal Reached\n",
        "Goal Reached\n",
        "Goal Reached"
       ]
      },
      {
       "output_type": "stream",
       "stream": "stdout",
       "text": [
        "\n",
        "Goal Reached\n",
        "Goal Reached\n",
        "Goal Reached\n",
        "Goal Reached\n",
        "Goal Reached\n",
        "Goal Reached\n",
        "Goal Reached\n",
        "Goal Reached\n",
        "Goal Reached\n",
        "Goal Reached"
       ]
      },
      {
       "output_type": "stream",
       "stream": "stdout",
       "text": [
        "\n",
        "Goal Reached\n",
        "Goal Reached\n",
        "Goal Reached\n",
        "Goal Reached\n",
        "Goal Reached\n",
        "Goal Reached\n",
        "Goal Reached\n",
        "Goal Reached"
       ]
      },
      {
       "output_type": "stream",
       "stream": "stdout",
       "text": [
        "\n",
        "Goal Reached\n",
        "Goal Reached\n",
        "Goal Reached\n",
        "Goal Reached\n",
        "Goal Reached\n",
        "Goal Reached\n",
        "Goal Reached\n",
        "Goal Reached\n",
        "Goal Reached\n",
        "Goal Reached"
       ]
      },
      {
       "output_type": "stream",
       "stream": "stdout",
       "text": [
        "\n",
        "Goal Reached\n",
        "Goal Reached\n",
        "Goal Reached\n",
        "Goal Reached\n",
        "Goal Reached\n",
        "Goal Reached\n",
        "Goal Reached\n",
        "Goal Reached\n",
        "Goal Reached\n",
        "Goal Reached\n",
        "Goal Reached\n",
        "Goal Reached\n",
        "Goal Reached"
       ]
      },
      {
       "output_type": "stream",
       "stream": "stdout",
       "text": [
        "\n",
        "Goal Reached\n",
        "Goal Reached\n",
        "Goal Reached\n",
        "Goal Reached\n",
        "Goal Reached\n",
        "Goal Reached\n",
        "Goal Reached\n",
        "Goal Reached\n",
        "Goal Reached\n",
        "Goal Reached"
       ]
      },
      {
       "output_type": "stream",
       "stream": "stdout",
       "text": [
        "\n",
        "Goal Reached\n",
        "Goal Reached\n",
        "Goal Reached\n",
        "Goal Reached\n",
        "Goal Reached\n",
        "Goal Reached\n",
        "Goal Reached\n",
        "Goal Reached\n",
        "Goal Reached\n",
        "Goal Reached\n",
        "Goal Reached"
       ]
      },
      {
       "output_type": "stream",
       "stream": "stdout",
       "text": [
        "\n",
        "Goal Reached\n",
        "Goal Reached\n",
        "Goal Reached\n",
        "Goal Reached\n",
        "Goal Reached\n",
        "Goal Reached\n",
        "Goal Reached\n",
        "Goal Reached\n",
        "Goal Reached\n",
        "Goal Reached"
       ]
      },
      {
       "output_type": "stream",
       "stream": "stdout",
       "text": [
        "\n",
        "Goal Reached\n",
        "Goal Reached\n",
        "Goal Reached\n",
        "Goal Reached\n",
        "Goal Reached\n",
        "Goal Reached\n",
        "Goal Reached\n",
        "Goal Reached\n",
        "Goal Reached\n",
        "Goal Reached\n",
        "Goal Reached\n"
       ]
      },
      {
       "output_type": "stream",
       "stream": "stdout",
       "text": [
        "Goal Reached\n",
        "Goal Reached\n",
        "Goal Reached\n",
        "Goal Reached\n",
        "Goal Reached\n",
        "Goal Reached\n",
        "Goal Reached\n",
        "Goal Reached\n",
        "Goal Reached\n",
        "Goal Reached"
       ]
      },
      {
       "output_type": "stream",
       "stream": "stdout",
       "text": [
        "\n",
        "Goal Reached\n",
        "Goal Reached\n",
        "Goal Reached\n",
        "Goal Reached\n",
        "Goal Reached\n",
        "Goal Reached\n",
        "Goal Reached\n",
        "Goal Reached\n",
        "Goal Reached\n",
        "Goal Reached"
       ]
      },
      {
       "output_type": "stream",
       "stream": "stdout",
       "text": [
        "\n",
        "Goal Reached\n",
        "Goal Reached\n",
        "Goal Reached\n",
        "Goal Reached\n",
        "Goal Reached\n",
        "Goal Reached\n",
        "Goal Reached\n",
        "Goal Reached\n",
        "Goal Reached"
       ]
      },
      {
       "output_type": "stream",
       "stream": "stdout",
       "text": [
        "\n",
        "Goal Reached\n",
        "Goal Reached\n",
        "Goal Reached\n",
        "Goal Reached\n",
        "Goal Reached\n",
        "Goal Reached\n",
        "Goal Reached\n",
        "Goal Reached\n",
        "Goal Reached\n",
        "Goal Reached"
       ]
      },
      {
       "output_type": "stream",
       "stream": "stdout",
       "text": [
        "\n",
        "Goal Reached\n",
        "Goal Reached\n",
        "Goal Reached\n",
        "Goal Reached\n",
        "Goal Reached\n",
        "Goal Reached\n",
        "Goal Reached\n",
        "Goal Reached\n",
        "Goal Reached\n",
        "Goal Reached\n",
        "Goal Reached\n",
        "Goal Reached"
       ]
      },
      {
       "output_type": "stream",
       "stream": "stdout",
       "text": [
        "\n",
        "Goal Reached\n",
        "Goal Reached\n",
        "Goal Reached\n",
        "Goal Reached\n",
        "Goal Reached\n",
        "Goal Reached\n",
        "Goal Reached\n",
        "Goal Reached\n",
        "Goal Reached\n",
        "Goal Reached"
       ]
      },
      {
       "output_type": "stream",
       "stream": "stdout",
       "text": [
        "\n",
        "Goal Reached\n",
        "Goal Reached\n",
        "Goal Reached\n",
        "Goal Reached\n",
        "Goal Reached\n",
        "Goal Reached\n",
        "Goal Reached\n",
        "Goal Reached"
       ]
      },
      {
       "output_type": "stream",
       "stream": "stdout",
       "text": [
        "\n",
        "Goal Reached\n",
        "Goal Reached\n",
        "Goal Reached\n",
        "Goal Reached\n",
        "Goal Reached\n",
        "Goal Reached\n",
        "Goal Reached\n",
        "Goal Reached\n",
        "Goal Reached\n",
        "Goal Reached\n",
        "Goal Reached"
       ]
      },
      {
       "output_type": "stream",
       "stream": "stdout",
       "text": [
        "\n",
        "Goal Reached\n",
        "Goal Reached\n",
        "Goal Reached\n",
        "Goal Reached\n",
        "Goal Reached\n",
        "Goal Reached\n",
        "Goal Reached\n",
        "Goal Reached\n",
        "Goal Reached"
       ]
      },
      {
       "output_type": "stream",
       "stream": "stdout",
       "text": [
        "\n",
        "Goal Reached\n",
        "Goal Reached\n",
        "Goal Reached\n",
        "Goal Reached\n",
        "Goal Reached\n",
        "Goal Reached\n",
        "Goal Reached\n",
        "Goal Reached\n",
        "Goal Reached\n",
        "Goal Reached"
       ]
      },
      {
       "output_type": "stream",
       "stream": "stdout",
       "text": [
        "\n",
        "Goal Reached\n",
        "Goal Reached\n",
        "Goal Reached\n",
        "Goal Reached\n",
        "Goal Reached\n",
        "Goal Reached\n",
        "Goal Reached\n",
        "Goal Reached\n",
        "Goal Reached\n",
        "Goal Reached\n",
        "Goal Reached\n",
        "Goal Reached"
       ]
      },
      {
       "output_type": "stream",
       "stream": "stdout",
       "text": [
        "\n",
        "Goal Reached\n",
        "Goal Reached\n",
        "Goal Reached\n",
        "Goal Reached\n",
        "Goal Reached\n",
        "Goal Reached\n",
        "Goal Reached\n",
        "Goal Reached\n",
        "Goal Reached"
       ]
      },
      {
       "output_type": "stream",
       "stream": "stdout",
       "text": [
        "\n",
        "Goal Reached\n",
        "Goal Reached\n",
        "Goal Reached\n",
        "Goal Reached\n",
        "Goal Reached\n",
        "Goal Reached\n",
        "Goal Reached\n",
        "Goal Reached\n",
        "Goal Reached\n",
        "Goal Reached\n",
        "Goal Reached\n",
        "Goal Reached"
       ]
      },
      {
       "output_type": "stream",
       "stream": "stdout",
       "text": [
        "\n",
        "Goal Reached\n",
        "Goal Reached\n",
        "Goal Reached\n",
        "Goal Reached\n",
        "Goal Reached\n",
        "Goal Reached\n",
        "Goal Reached\n",
        "Goal Reached\n",
        "Goal Reached"
       ]
      },
      {
       "output_type": "stream",
       "stream": "stdout",
       "text": [
        "\n",
        "Goal Reached\n",
        "Goal Reached\n",
        "Goal Reached\n",
        "Goal Reached\n",
        "Goal Reached\n",
        "Goal Reached\n",
        "Goal Reached\n",
        "Goal Reached\n",
        "Goal Reached\n",
        "Goal Reached\n",
        "Goal Reached\n",
        "Goal Reached\n",
        "Goal Reached"
       ]
      },
      {
       "output_type": "stream",
       "stream": "stdout",
       "text": [
        "\n",
        "Goal Reached\n",
        "Goal Reached\n",
        "Goal Reached\n",
        "Goal Reached\n",
        "Goal Reached\n",
        "Goal Reached\n",
        "Goal Reached\n",
        "Goal Reached\n",
        "Goal Reached\n",
        "Goal Reached\n",
        "Goal Reached"
       ]
      },
      {
       "output_type": "stream",
       "stream": "stdout",
       "text": [
        "\n",
        "Goal Reached\n",
        "Goal Reached\n",
        "Goal Reached\n",
        "Goal Reached\n",
        "Goal Reached\n",
        "Goal Reached\n",
        "Goal Reached\n",
        "Goal Reached\n",
        "Goal Reached"
       ]
      },
      {
       "output_type": "stream",
       "stream": "stdout",
       "text": [
        "\n",
        "Goal Reached\n",
        "Goal Reached\n",
        "Goal Reached\n",
        "Goal Reached\n",
        "Goal Reached\n",
        "Goal Reached\n",
        "Goal Reached\n",
        "Goal Reached\n",
        "Goal Reached\n",
        "Goal Reached"
       ]
      },
      {
       "output_type": "stream",
       "stream": "stdout",
       "text": [
        "\n",
        "Goal Reached\n",
        "Goal Reached\n",
        "Goal Reached\n",
        "Goal Reached\n",
        "Goal Reached\n",
        "Goal Reached\n",
        "Goal Reached\n",
        "Goal Reached\n",
        "Goal Reached"
       ]
      },
      {
       "output_type": "stream",
       "stream": "stdout",
       "text": [
        "\n",
        "Goal Reached\n",
        "Goal Reached\n",
        "Goal Reached\n",
        "Goal Reached\n",
        "Goal Reached\n",
        "Goal Reached\n",
        "Goal Reached\n",
        "Goal Reached\n",
        "Goal Reached\n",
        "Goal Reached\n",
        "Goal Reached\n",
        "Goal Reached"
       ]
      },
      {
       "output_type": "stream",
       "stream": "stdout",
       "text": [
        "\n",
        "Goal Reached\n",
        "Goal Reached\n",
        "Goal Reached\n",
        "Goal Reached\n",
        "Goal Reached\n",
        "Goal Reached\n",
        "Goal Reached\n",
        "Goal Reached\n",
        "Goal Reached"
       ]
      },
      {
       "output_type": "stream",
       "stream": "stdout",
       "text": [
        "\n",
        "Goal Reached\n",
        "Goal Reached\n",
        "Goal Reached\n",
        "Goal Reached\n",
        "Goal Reached\n",
        "Goal Reached\n",
        "Goal Reached\n",
        "Goal Reached\n",
        "Goal Reached"
       ]
      },
      {
       "output_type": "stream",
       "stream": "stdout",
       "text": [
        "\n",
        "Goal Reached\n",
        "Goal Reached\n",
        "Goal Reached\n",
        "Goal Reached\n",
        "Goal Reached\n",
        "Goal Reached\n",
        "Goal Reached\n",
        "Goal Reached\n",
        "Goal Reached\n",
        "Goal Reached\n",
        "Goal Reached"
       ]
      },
      {
       "output_type": "stream",
       "stream": "stdout",
       "text": [
        "\n",
        "Goal Reached\n",
        "Goal Reached\n",
        "Goal Reached\n",
        "Goal Reached\n",
        "Goal Reached\n",
        "Goal Reached\n",
        "Goal Reached\n",
        "Goal Reached"
       ]
      },
      {
       "output_type": "stream",
       "stream": "stdout",
       "text": [
        "\n",
        "Goal Reached\n",
        "Goal Reached\n",
        "Goal Reached\n",
        "Goal Reached\n",
        "Goal Reached\n",
        "Goal Reached\n",
        "Goal Reached\n",
        "Goal Reached\n"
       ]
      },
      {
       "output_type": "stream",
       "stream": "stdout",
       "text": [
        "Goal Reached\n",
        "Goal Reached\n",
        "Goal Reached\n",
        "Goal Reached\n",
        "Goal Reached\n",
        "Goal Reached\n",
        "Goal Reached\n",
        "Goal Reached\n",
        "Goal Reached\n",
        "Goal Reached\n",
        "Goal Reached\n",
        "Goal Reached"
       ]
      },
      {
       "output_type": "stream",
       "stream": "stdout",
       "text": [
        "\n",
        "Goal Reached\n",
        "Goal Reached\n",
        "Goal Reached\n",
        "Goal Reached\n",
        "Goal Reached\n",
        "Goal Reached\n",
        "Goal Reached\n",
        "Goal Reached\n",
        "Goal Reached\n",
        "Goal Reached"
       ]
      },
      {
       "output_type": "stream",
       "stream": "stdout",
       "text": [
        "\n",
        "Goal Reached\n",
        "Goal Reached\n",
        "Goal Reached\n",
        "Goal Reached\n",
        "Goal Reached\n",
        "Goal Reached\n",
        "Goal Reached\n",
        "Goal Reached"
       ]
      },
      {
       "output_type": "stream",
       "stream": "stdout",
       "text": [
        "\n",
        "Goal Reached\n",
        "Goal Reached\n",
        "Goal Reached\n",
        "Goal Reached\n",
        "Goal Reached\n",
        "Goal Reached\n",
        "Goal Reached\n",
        "Goal Reached\n",
        "Goal Reached\n",
        "Goal Reached\n",
        "Goal Reached"
       ]
      },
      {
       "output_type": "stream",
       "stream": "stdout",
       "text": [
        "\n",
        "Goal Reached\n",
        "Goal Reached\n",
        "Goal Reached\n",
        "Goal Reached\n",
        "Goal Reached\n",
        "Goal Reached\n",
        "Goal Reached\n",
        "Goal Reached\n",
        "Goal Reached"
       ]
      },
      {
       "output_type": "stream",
       "stream": "stdout",
       "text": [
        "\n",
        "Goal Reached\n",
        "Goal Reached\n",
        "Goal Reached\n",
        "Goal Reached\n",
        "Goal Reached\n",
        "Goal Reached\n",
        "Goal Reached\n",
        "Goal Reached\n",
        "Goal Reached\n",
        "Goal Reached"
       ]
      },
      {
       "output_type": "stream",
       "stream": "stdout",
       "text": [
        "\n",
        "Goal Reached\n",
        "Goal Reached\n",
        "Goal Reached\n",
        "Goal Reached\n",
        "Goal Reached\n",
        "Goal Reached\n",
        "Goal Reached\n",
        "Goal Reached\n",
        "Goal Reached"
       ]
      },
      {
       "output_type": "stream",
       "stream": "stdout",
       "text": [
        "\n",
        "Goal Reached\n",
        "Goal Reached\n",
        "Goal Reached\n",
        "Goal Reached\n",
        "Goal Reached\n",
        "Goal Reached\n",
        "Goal Reached\n",
        "Goal Reached\n",
        "Goal Reached"
       ]
      },
      {
       "output_type": "stream",
       "stream": "stdout",
       "text": [
        "\n",
        "Goal Reached\n",
        "Goal Reached\n",
        "Goal Reached\n",
        "Goal Reached\n",
        "Goal Reached\n",
        "Goal Reached\n",
        "Goal Reached\n",
        "Goal Reached\n",
        "Goal Reached\n",
        "Goal Reached\n",
        "Goal Reached"
       ]
      },
      {
       "output_type": "stream",
       "stream": "stdout",
       "text": [
        "\n",
        "Goal Reached\n",
        "Goal Reached\n",
        "Goal Reached\n",
        "Goal Reached\n",
        "Goal Reached\n",
        "Goal Reached\n",
        "Goal Reached\n",
        "Goal Reached\n",
        "Goal Reached\n",
        "Goal Reached\n",
        "Goal Reached"
       ]
      },
      {
       "output_type": "stream",
       "stream": "stdout",
       "text": [
        "\n",
        "Goal Reached\n",
        "Goal Reached\n",
        "Goal Reached\n",
        "Goal Reached\n",
        "Goal Reached\n",
        "Goal Reached\n",
        "Goal Reached\n",
        "Goal Reached\n",
        "Goal Reached\n",
        "Goal Reached"
       ]
      },
      {
       "output_type": "stream",
       "stream": "stdout",
       "text": [
        "\n",
        "Goal Reached\n",
        "Goal Reached\n",
        "Goal Reached\n",
        "Goal Reached\n",
        "Goal Reached\n",
        "Goal Reached\n",
        "Goal Reached\n",
        "Goal Reached\n",
        "Goal Reached\n",
        "Goal Reached"
       ]
      },
      {
       "output_type": "stream",
       "stream": "stdout",
       "text": [
        "\n",
        "Goal Reached\n",
        "Goal Reached\n",
        "Goal Reached\n",
        "Goal Reached\n",
        "Goal Reached\n",
        "Goal Reached\n",
        "Goal Reached\n",
        "Goal Reached\n",
        "Goal Reached"
       ]
      },
      {
       "output_type": "stream",
       "stream": "stdout",
       "text": [
        "\n",
        "Goal Reached\n",
        "Goal Reached\n",
        "Goal Reached\n",
        "Goal Reached\n",
        "Goal Reached\n",
        "Goal Reached\n",
        "Goal Reached\n",
        "Goal Reached\n",
        "Goal Reached\n",
        "Goal Reached\n",
        "Goal Reached"
       ]
      },
      {
       "output_type": "stream",
       "stream": "stdout",
       "text": [
        "\n",
        "Goal Reached\n",
        "Goal Reached\n",
        "Goal Reached\n",
        "Goal Reached\n",
        "Goal Reached\n",
        "Goal Reached\n",
        "Goal Reached\n",
        "Goal Reached\n",
        "Goal Reached\n",
        "Goal Reached"
       ]
      },
      {
       "output_type": "stream",
       "stream": "stdout",
       "text": [
        "\n",
        "Goal Reached\n",
        "Goal Reached\n",
        "Goal Reached\n",
        "Goal Reached\n",
        "Goal Reached\n",
        "Goal Reached\n",
        "Goal Reached\n",
        "Goal Reached\n",
        "Goal Reached"
       ]
      },
      {
       "output_type": "stream",
       "stream": "stdout",
       "text": [
        "\n",
        "Goal Reached\n",
        "Goal Reached\n",
        "Goal Reached\n",
        "Goal Reached\n",
        "Goal Reached\n",
        "Goal Reached\n",
        "Goal Reached\n",
        "Goal Reached\n",
        "Goal Reached\n",
        "Goal Reached"
       ]
      },
      {
       "output_type": "stream",
       "stream": "stdout",
       "text": [
        "\n",
        "Goal Reached\n",
        "Goal Reached\n",
        "Goal Reached\n",
        "Goal Reached\n",
        "Goal Reached\n",
        "Goal Reached\n",
        "Goal Reached\n",
        "Goal Reached\n",
        "Goal Reached\n",
        "Goal Reached"
       ]
      },
      {
       "output_type": "stream",
       "stream": "stdout",
       "text": [
        "\n",
        "Goal Reached\n",
        "Goal Reached\n",
        "Goal Reached\n",
        "Goal Reached\n",
        "Goal Reached\n",
        "Goal Reached\n",
        "Goal Reached\n",
        "Goal Reached\n",
        "Goal Reached\n",
        "Goal Reached"
       ]
      },
      {
       "output_type": "stream",
       "stream": "stdout",
       "text": [
        "\n",
        "Goal Reached\n",
        "Goal Reached\n",
        "Goal Reached\n",
        "Goal Reached\n",
        "Goal Reached\n",
        "Goal Reached\n",
        "Goal Reached\n",
        "Goal Reached\n",
        "Goal Reached\n",
        "Goal Reached"
       ]
      },
      {
       "output_type": "stream",
       "stream": "stdout",
       "text": [
        "\n",
        "Goal Reached\n",
        "Goal Reached\n",
        "Goal Reached\n",
        "Goal Reached\n",
        "Goal Reached\n",
        "Goal Reached\n",
        "Goal Reached\n",
        "Goal Reached\n",
        "Goal Reached"
       ]
      },
      {
       "output_type": "stream",
       "stream": "stdout",
       "text": [
        "\n",
        "Goal Reached\n",
        "Goal Reached\n",
        "Goal Reached\n",
        "Goal Reached\n",
        "Goal Reached\n",
        "Goal Reached\n",
        "Goal Reached\n",
        "Goal Reached\n",
        "Goal Reached\n",
        "Goal Reached\n",
        "Goal Reached"
       ]
      },
      {
       "output_type": "stream",
       "stream": "stdout",
       "text": [
        "\n",
        "Goal Reached\n",
        "Goal Reached\n",
        "Goal Reached\n",
        "Goal Reached\n",
        "Goal Reached\n",
        "Goal Reached\n",
        "Goal Reached\n",
        "Goal Reached\n",
        "Goal Reached"
       ]
      },
      {
       "output_type": "stream",
       "stream": "stdout",
       "text": [
        "\n",
        "Goal Reached\n",
        "Goal Reached\n",
        "Goal Reached\n",
        "Goal Reached\n",
        "Goal Reached\n",
        "Goal Reached\n",
        "Goal Reached\n",
        "Goal Reached\n",
        "Goal Reached\n",
        "Goal Reached\n",
        "Goal Reached\n",
        "Goal Reached"
       ]
      },
      {
       "output_type": "stream",
       "stream": "stdout",
       "text": [
        "\n",
        "Goal Reached\n",
        "Goal Reached\n",
        "Goal Reached\n",
        "Goal Reached\n",
        "Goal Reached\n",
        "Goal Reached\n",
        "Goal Reached\n",
        "Goal Reached\n",
        "Goal Reached"
       ]
      },
      {
       "output_type": "stream",
       "stream": "stdout",
       "text": [
        "\n",
        "Goal Reached\n",
        "Goal Reached\n",
        "Goal Reached\n",
        "Goal Reached\n",
        "Goal Reached\n",
        "Goal Reached\n",
        "Goal Reached"
       ]
      },
      {
       "output_type": "stream",
       "stream": "stdout",
       "text": [
        "\n",
        "Goal Reached\n",
        "Goal Reached\n",
        "Goal Reached\n",
        "Goal Reached\n",
        "Goal Reached\n",
        "Goal Reached\n",
        "Goal Reached\n",
        "Goal Reached\n",
        "Goal Reached"
       ]
      },
      {
       "output_type": "stream",
       "stream": "stdout",
       "text": [
        "\n",
        "Goal Reached\n",
        "Goal Reached\n",
        "Goal Reached\n",
        "Goal Reached\n",
        "Goal Reached\n",
        "Goal Reached\n",
        "Goal Reached\n",
        "Goal Reached\n",
        "Goal Reached\n",
        "Goal Reached"
       ]
      },
      {
       "output_type": "stream",
       "stream": "stdout",
       "text": [
        "\n",
        "Goal Reached\n",
        "Goal Reached\n",
        "Goal Reached\n",
        "Goal Reached\n",
        "Goal Reached\n",
        "Goal Reached\n",
        "Goal Reached\n",
        "Goal Reached\n",
        "Goal Reached\n",
        "Goal Reached\n",
        "Goal Reached"
       ]
      },
      {
       "output_type": "stream",
       "stream": "stdout",
       "text": [
        "\n",
        "Goal Reached\n",
        "Goal Reached\n",
        "Goal Reached\n",
        "Goal Reached\n",
        "Goal Reached\n",
        "Goal Reached\n",
        "Goal Reached\n",
        "Goal Reached\n",
        "Goal Reached"
       ]
      },
      {
       "output_type": "stream",
       "stream": "stdout",
       "text": [
        "\n",
        "Goal Reached\n",
        "Goal Reached\n",
        "Goal Reached\n",
        "Goal Reached\n",
        "Goal Reached\n",
        "Goal Reached\n",
        "Goal Reached\n",
        "Goal Reached\n",
        "Goal Reached\n",
        "Goal Reached\n",
        "Goal Reached"
       ]
      },
      {
       "output_type": "stream",
       "stream": "stdout",
       "text": [
        "\n",
        "Goal Reached\n",
        "Goal Reached\n",
        "Goal Reached\n",
        "Goal Reached\n",
        "Goal Reached\n",
        "Goal Reached\n",
        "Goal Reached\n",
        "Goal Reached\n",
        "Goal Reached\n",
        "Goal Reached\n",
        "Goal Reached"
       ]
      },
      {
       "output_type": "stream",
       "stream": "stdout",
       "text": [
        "\n",
        "Goal Reached\n",
        "Goal Reached\n",
        "Goal Reached\n",
        "Goal Reached\n",
        "Goal Reached\n",
        "Goal Reached\n",
        "Goal Reached\n",
        "Goal Reached"
       ]
      },
      {
       "output_type": "stream",
       "stream": "stdout",
       "text": [
        "\n",
        "Goal Reached\n",
        "Goal Reached\n",
        "Goal Reached\n",
        "Goal Reached\n",
        "Goal Reached\n",
        "Goal Reached\n",
        "Goal Reached\n",
        "Goal Reached\n",
        "Goal Reached"
       ]
      },
      {
       "output_type": "stream",
       "stream": "stdout",
       "text": [
        "\n",
        "Goal Reached\n",
        "Goal Reached\n",
        "Goal Reached\n",
        "Goal Reached\n",
        "Goal Reached\n",
        "Goal Reached\n",
        "Goal Reached\n",
        "Goal Reached\n",
        "Goal Reached\n",
        "Goal Reached"
       ]
      },
      {
       "output_type": "stream",
       "stream": "stdout",
       "text": [
        "\n",
        "Goal Reached\n",
        "Goal Reached\n",
        "Goal Reached\n",
        "Goal Reached\n",
        "Goal Reached\n",
        "Goal Reached\n",
        "Goal Reached\n",
        "Goal Reached\n",
        "Goal Reached\n",
        "Goal Reached\n",
        "Goal Reached"
       ]
      },
      {
       "output_type": "stream",
       "stream": "stdout",
       "text": [
        "\n",
        "Goal Reached\n",
        "Goal Reached\n",
        "Goal Reached\n",
        "Goal Reached\n",
        "Goal Reached\n",
        "Goal Reached\n",
        "Goal Reached\n",
        "Goal Reached\n",
        "Goal Reached\n",
        "Goal Reached"
       ]
      },
      {
       "output_type": "stream",
       "stream": "stdout",
       "text": [
        "\n",
        "Goal Reached\n",
        "Goal Reached\n",
        "Goal Reached\n",
        "Goal Reached\n",
        "Goal Reached\n",
        "Goal Reached\n",
        "Goal Reached\n",
        "Goal Reached"
       ]
      },
      {
       "output_type": "stream",
       "stream": "stdout",
       "text": [
        "\n",
        "Goal Reached\n",
        "Goal Reached\n",
        "Goal Reached\n",
        "Goal Reached\n",
        "Goal Reached\n",
        "Goal Reached\n",
        "Goal Reached\n",
        "Goal Reached\n",
        "Goal Reached"
       ]
      },
      {
       "output_type": "stream",
       "stream": "stdout",
       "text": [
        "\n",
        "Goal Reached\n",
        "Goal Reached\n",
        "Goal Reached\n",
        "Goal Reached\n",
        "Goal Reached\n",
        "Goal Reached\n",
        "Goal Reached\n",
        "Goal Reached"
       ]
      },
      {
       "output_type": "stream",
       "stream": "stdout",
       "text": [
        "\n",
        "Goal Reached\n",
        "Goal Reached\n",
        "Goal Reached\n",
        "Goal Reached\n",
        "Goal Reached\n",
        "Goal Reached\n",
        "Goal Reached"
       ]
      },
      {
       "output_type": "stream",
       "stream": "stdout",
       "text": [
        "\n",
        "Goal Reached\n",
        "Goal Reached\n",
        "Goal Reached\n",
        "Goal Reached\n",
        "Goal Reached\n",
        "Goal Reached"
       ]
      },
      {
       "output_type": "stream",
       "stream": "stdout",
       "text": [
        "\n",
        "Goal Reached\n",
        "Goal Reached\n",
        "Goal Reached\n",
        "Goal Reached\n",
        "Goal Reached\n",
        "Goal Reached\n",
        "Goal Reached"
       ]
      },
      {
       "output_type": "stream",
       "stream": "stdout",
       "text": [
        "\n",
        "Goal Reached\n",
        "Goal Reached\n",
        "Goal Reached\n",
        "Goal Reached\n",
        "Goal Reached\n",
        "Goal Reached\n",
        "Goal Reached\n",
        "Goal Reached"
       ]
      },
      {
       "output_type": "stream",
       "stream": "stdout",
       "text": [
        "\n",
        "Goal Reached\n",
        "Goal Reached\n",
        "Goal Reached\n",
        "Goal Reached\n",
        "Goal Reached\n",
        "Goal Reached\n",
        "Goal Reached\n",
        "Goal Reached"
       ]
      },
      {
       "output_type": "stream",
       "stream": "stdout",
       "text": [
        "\n",
        "Goal Reached\n",
        "Goal Reached\n",
        "Goal Reached\n",
        "Goal Reached\n",
        "Goal Reached\n",
        "Goal Reached"
       ]
      },
      {
       "output_type": "stream",
       "stream": "stdout",
       "text": [
        "\n",
        "Goal Reached\n",
        "Goal Reached\n",
        "Goal Reached\n",
        "Goal Reached\n",
        "Goal Reached\n",
        "Goal Reached\n",
        "Goal Reached\n",
        "Goal Reached"
       ]
      },
      {
       "output_type": "stream",
       "stream": "stdout",
       "text": [
        "\n",
        "Goal Reached\n",
        "Goal Reached\n",
        "Goal Reached\n",
        "Goal Reached\n",
        "Goal Reached\n",
        "Goal Reached\n",
        "Goal Reached\n",
        "Goal Reached"
       ]
      },
      {
       "output_type": "stream",
       "stream": "stdout",
       "text": [
        "\n",
        "Goal Reached\n",
        "Goal Reached\n",
        "Goal Reached\n",
        "Goal Reached\n",
        "Goal Reached\n",
        "Goal Reached"
       ]
      },
      {
       "output_type": "stream",
       "stream": "stdout",
       "text": [
        "\n",
        "Goal Reached\n",
        "Goal Reached\n",
        "Goal Reached\n",
        "Goal Reached\n",
        "Goal Reached\n",
        "Goal Reached\n",
        "Goal Reached\n",
        "Goal Reached\n",
        "Goal Reached"
       ]
      },
      {
       "output_type": "stream",
       "stream": "stdout",
       "text": [
        "\n",
        "Goal Reached\n",
        "Goal Reached\n",
        "Goal Reached\n",
        "Goal Reached\n",
        "Goal Reached\n",
        "Goal Reached\n",
        "Goal Reached"
       ]
      },
      {
       "output_type": "stream",
       "stream": "stdout",
       "text": [
        "\n",
        "Goal Reached\n",
        "Goal Reached\n",
        "Goal Reached\n",
        "Goal Reached\n",
        "Goal Reached\n",
        "Goal Reached\n",
        "Goal Reached\n",
        "Goal Reached"
       ]
      },
      {
       "output_type": "stream",
       "stream": "stdout",
       "text": [
        "\n",
        "Goal Reached\n",
        "Goal Reached\n",
        "Goal Reached\n",
        "Goal Reached\n",
        "Goal Reached\n",
        "Goal Reached"
       ]
      },
      {
       "output_type": "stream",
       "stream": "stdout",
       "text": [
        "\n",
        "Goal Reached\n",
        "Goal Reached\n",
        "Goal Reached\n",
        "Goal Reached\n",
        "Goal Reached\n",
        "Goal Reached\n",
        "Goal Reached\n",
        "Goal Reached\n",
        "Goal Reached"
       ]
      },
      {
       "output_type": "stream",
       "stream": "stdout",
       "text": [
        "\n",
        "Goal Reached\n",
        "Goal Reached\n",
        "Goal Reached\n",
        "Goal Reached\n",
        "Goal Reached\n",
        "Goal Reached\n",
        "Goal Reached\n",
        "Goal Reached\n",
        "Goal Reached\n",
        "Goal Reached"
       ]
      },
      {
       "output_type": "stream",
       "stream": "stdout",
       "text": [
        "\n",
        "Goal Reached\n",
        "Goal Reached\n",
        "Goal Reached\n",
        "Goal Reached\n",
        "Goal Reached\n",
        "Goal Reached\n",
        "Goal Reached\n",
        "Goal Reached\n",
        "Goal Reached"
       ]
      },
      {
       "output_type": "stream",
       "stream": "stdout",
       "text": [
        "\n",
        "Goal Reached\n",
        "Goal Reached\n",
        "Goal Reached\n",
        "Goal Reached\n",
        "Goal Reached\n",
        "Goal Reached\n",
        "Goal Reached\n",
        "Goal Reached\n",
        "Goal Reached"
       ]
      },
      {
       "output_type": "stream",
       "stream": "stdout",
       "text": [
        "\n",
        "Goal Reached\n",
        "Goal Reached\n",
        "Goal Reached\n",
        "Goal Reached\n",
        "Goal Reached\n",
        "Goal Reached\n",
        "Goal Reached\n",
        "Goal Reached\n",
        "Goal Reached\n",
        "Goal Reached"
       ]
      },
      {
       "output_type": "stream",
       "stream": "stdout",
       "text": [
        "\n",
        "Goal Reached\n",
        "Goal Reached\n",
        "Goal Reached\n",
        "Goal Reached\n",
        "Goal Reached\n",
        "Goal Reached\n",
        "Goal Reached\n",
        "Goal Reached\n",
        "Goal Reached"
       ]
      },
      {
       "output_type": "stream",
       "stream": "stdout",
       "text": [
        "\n",
        "Goal Reached\n",
        "Goal Reached\n",
        "Goal Reached\n",
        "Goal Reached\n",
        "Goal Reached\n",
        "Goal Reached\n",
        "Goal Reached\n",
        "Goal Reached\n",
        "Goal Reached"
       ]
      },
      {
       "output_type": "stream",
       "stream": "stdout",
       "text": [
        "\n",
        "Goal Reached\n",
        "Goal Reached\n",
        "Goal Reached\n",
        "Goal Reached\n",
        "Goal Reached\n",
        "Goal Reached\n",
        "Goal Reached\n",
        "Goal Reached\n",
        "Goal Reached"
       ]
      },
      {
       "output_type": "stream",
       "stream": "stdout",
       "text": [
        "\n",
        "Goal Reached\n",
        "Goal Reached\n",
        "Goal Reached\n",
        "Goal Reached\n",
        "Goal Reached\n",
        "Goal Reached\n",
        "Goal Reached\n",
        "Goal Reached\n",
        "Goal Reached"
       ]
      },
      {
       "output_type": "stream",
       "stream": "stdout",
       "text": [
        "\n",
        "Goal Reached\n",
        "Goal Reached\n",
        "Goal Reached\n",
        "Goal Reached\n",
        "Goal Reached\n",
        "Goal Reached\n",
        "Goal Reached\n",
        "Goal Reached"
       ]
      },
      {
       "output_type": "stream",
       "stream": "stdout",
       "text": [
        "\n",
        "Goal Reached\n",
        "Goal Reached\n",
        "Goal Reached\n",
        "Goal Reached\n",
        "Goal Reached\n",
        "Goal Reached\n",
        "Goal Reached\n",
        "Goal Reached\n",
        "Goal Reached\n",
        "Goal Reached\n",
        "Goal Reached"
       ]
      },
      {
       "output_type": "stream",
       "stream": "stdout",
       "text": [
        "\n",
        "Goal Reached\n",
        "Goal Reached\n",
        "Goal Reached\n",
        "Goal Reached\n",
        "Goal Reached\n",
        "Goal Reached\n",
        "Goal Reached\n",
        "Goal Reached\n",
        "Goal Reached\n",
        "Goal Reached\n",
        "Goal Reached\n",
        "Goal Reached"
       ]
      },
      {
       "output_type": "stream",
       "stream": "stdout",
       "text": [
        "\n",
        "Goal Reached\n",
        "Goal Reached\n",
        "Goal Reached\n",
        "Goal Reached\n",
        "Goal Reached\n",
        "Goal Reached\n",
        "Goal Reached\n",
        "Goal Reached\n",
        "Goal Reached"
       ]
      },
      {
       "output_type": "stream",
       "stream": "stdout",
       "text": [
        "\n",
        "Goal Reached\n",
        "Goal Reached\n",
        "Goal Reached\n",
        "Goal Reached\n",
        "Goal Reached\n",
        "Goal Reached\n",
        "Goal Reached\n",
        "Goal Reached\n",
        "Goal Reached"
       ]
      },
      {
       "output_type": "stream",
       "stream": "stdout",
       "text": [
        "\n",
        "Goal Reached\n",
        "Goal Reached\n",
        "Goal Reached\n",
        "Goal Reached\n",
        "Goal Reached\n",
        "Goal Reached\n",
        "Goal Reached\n",
        "Goal Reached\n",
        "Goal Reached\n",
        "Goal Reached"
       ]
      },
      {
       "output_type": "stream",
       "stream": "stdout",
       "text": [
        "\n",
        "Goal Reached\n",
        "Goal Reached\n",
        "Goal Reached\n",
        "Goal Reached\n",
        "Goal Reached\n",
        "Goal Reached\n",
        "Goal Reached\n",
        "Goal Reached\n",
        "Goal Reached\n",
        "Goal Reached"
       ]
      },
      {
       "output_type": "stream",
       "stream": "stdout",
       "text": [
        "\n",
        "Goal Reached\n",
        "Goal Reached\n",
        "Goal Reached\n",
        "Goal Reached\n",
        "Goal Reached\n",
        "Goal Reached\n",
        "Goal Reached\n",
        "Goal Reached\n",
        "Goal Reached\n",
        "Goal Reached"
       ]
      },
      {
       "output_type": "stream",
       "stream": "stdout",
       "text": [
        "\n",
        "Goal Reached\n",
        "Goal Reached\n",
        "Goal Reached\n",
        "Goal Reached\n",
        "Goal Reached\n",
        "Goal Reached\n",
        "Goal Reached\n",
        "Goal Reached\n",
        "Goal Reached\n",
        "Goal Reached"
       ]
      },
      {
       "output_type": "stream",
       "stream": "stdout",
       "text": [
        "\n",
        "Goal Reached\n",
        "Goal Reached\n",
        "Goal Reached\n",
        "Goal Reached\n",
        "Goal Reached\n",
        "Goal Reached\n",
        "Goal Reached\n",
        "Goal Reached"
       ]
      },
      {
       "output_type": "stream",
       "stream": "stdout",
       "text": [
        "\n",
        "Goal Reached\n",
        "Goal Reached\n",
        "Goal Reached\n",
        "Goal Reached\n",
        "Goal Reached\n",
        "Goal Reached\n",
        "Goal Reached\n",
        "Goal Reached\n",
        "Goal Reached\n",
        "Goal Reached\n",
        "Goal Reached"
       ]
      },
      {
       "output_type": "stream",
       "stream": "stdout",
       "text": [
        "\n",
        "Goal Reached\n",
        "Goal Reached\n",
        "Goal Reached\n",
        "Goal Reached\n",
        "Goal Reached\n",
        "Goal Reached\n",
        "Goal Reached\n",
        "Goal Reached\n",
        "Goal Reached\n",
        "Goal Reached\n",
        "Goal Reached"
       ]
      },
      {
       "output_type": "stream",
       "stream": "stdout",
       "text": [
        "\n",
        "Goal Reached\n",
        "Goal Reached\n",
        "Goal Reached\n",
        "Goal Reached\n",
        "Goal Reached\n",
        "Goal Reached\n",
        "Goal Reached\n",
        "Goal Reached"
       ]
      },
      {
       "output_type": "stream",
       "stream": "stdout",
       "text": [
        "\n",
        "Goal Reached\n",
        "Goal Reached\n",
        "Goal Reached\n",
        "Goal Reached\n",
        "Goal Reached\n",
        "Goal Reached\n",
        "Goal Reached\n",
        "Goal Reached\n",
        "Goal Reached\n",
        "Goal Reached"
       ]
      },
      {
       "output_type": "stream",
       "stream": "stdout",
       "text": [
        "\n",
        "Goal Reached\n",
        "Goal Reached\n",
        "Goal Reached\n",
        "Goal Reached\n",
        "Goal Reached\n",
        "Goal Reached\n",
        "Goal Reached\n",
        "Goal Reached"
       ]
      },
      {
       "output_type": "stream",
       "stream": "stdout",
       "text": [
        "\n",
        "Goal Reached\n",
        "Goal Reached\n",
        "Goal Reached\n",
        "Goal Reached\n",
        "Goal Reached\n",
        "Goal Reached\n",
        "Goal Reached\n",
        "Goal Reached\n",
        "Goal Reached\n",
        "Goal Reached\n",
        "Goal Reached"
       ]
      },
      {
       "output_type": "stream",
       "stream": "stdout",
       "text": [
        "\n",
        "Goal Reached\n",
        "Goal Reached\n",
        "Goal Reached\n",
        "Goal Reached\n",
        "Goal Reached\n",
        "Goal Reached\n",
        "Goal Reached\n",
        "Goal Reached\n",
        "Goal Reached"
       ]
      },
      {
       "output_type": "stream",
       "stream": "stdout",
       "text": [
        "\n",
        "Goal Reached\n",
        "Goal Reached\n",
        "Goal Reached\n",
        "Goal Reached\n",
        "Goal Reached\n",
        "Goal Reached\n",
        "Goal Reached\n",
        "Goal Reached\n",
        "Goal Reached\n",
        "Goal Reached\n",
        "Goal Reached"
       ]
      },
      {
       "output_type": "stream",
       "stream": "stdout",
       "text": [
        "\n",
        "Goal Reached\n",
        "Goal Reached\n",
        "Goal Reached\n",
        "Goal Reached\n",
        "Goal Reached\n",
        "Goal Reached\n",
        "Goal Reached\n",
        "Goal Reached\n",
        "Goal Reached"
       ]
      },
      {
       "output_type": "stream",
       "stream": "stdout",
       "text": [
        "\n",
        "Goal Reached\n",
        "Goal Reached\n",
        "Goal Reached\n",
        "Goal Reached\n",
        "Goal Reached\n",
        "Goal Reached\n",
        "Goal Reached\n",
        "Goal Reached"
       ]
      },
      {
       "output_type": "stream",
       "stream": "stdout",
       "text": [
        "\n",
        "Goal Reached\n",
        "Goal Reached\n",
        "Goal Reached\n",
        "Goal Reached\n",
        "Goal Reached\n",
        "Goal Reached\n",
        "Goal Reached\n",
        "Goal Reached\n",
        "Goal Reached\n",
        "Goal Reached\n",
        "Goal Reached\n",
        "Goal Reached"
       ]
      },
      {
       "output_type": "stream",
       "stream": "stdout",
       "text": [
        "\n",
        "Goal Reached\n",
        "Goal Reached\n",
        "Goal Reached\n",
        "Goal Reached\n",
        "Goal Reached\n",
        "Goal Reached\n",
        "Goal Reached\n",
        "Goal Reached\n",
        "Goal Reached"
       ]
      },
      {
       "output_type": "stream",
       "stream": "stdout",
       "text": [
        "\n",
        "Goal Reached\n",
        "Goal Reached\n",
        "Goal Reached\n",
        "Goal Reached\n",
        "Goal Reached\n",
        "Goal Reached\n",
        "Goal Reached\n",
        "Goal Reached\n",
        "Goal Reached\n",
        "Goal Reached"
       ]
      },
      {
       "output_type": "stream",
       "stream": "stdout",
       "text": [
        "\n",
        "Goal Reached\n",
        "Goal Reached\n",
        "Goal Reached\n",
        "Goal Reached\n",
        "Goal Reached\n",
        "Goal Reached\n",
        "Goal Reached"
       ]
      },
      {
       "output_type": "stream",
       "stream": "stdout",
       "text": [
        "\n",
        "Goal Reached\n",
        "Goal Reached\n",
        "Goal Reached\n",
        "Goal Reached\n",
        "Goal Reached\n",
        "Goal Reached\n",
        "Goal Reached\n",
        "Goal Reached\n",
        "Goal Reached\n",
        "Goal Reached"
       ]
      },
      {
       "output_type": "stream",
       "stream": "stdout",
       "text": [
        "\n",
        "Goal Reached\n",
        "Goal Reached\n",
        "Goal Reached\n",
        "Goal Reached\n",
        "Goal Reached\n",
        "Goal Reached\n",
        "Goal Reached\n",
        "Goal Reached\n",
        "Goal Reached\n",
        "Goal Reached\n",
        "Goal Reached"
       ]
      },
      {
       "output_type": "stream",
       "stream": "stdout",
       "text": [
        "\n",
        "Goal Reached\n",
        "Goal Reached\n",
        "Goal Reached\n",
        "Goal Reached\n",
        "Goal Reached\n",
        "Goal Reached\n",
        "Goal Reached\n",
        "Goal Reached\n",
        "Goal Reached"
       ]
      },
      {
       "output_type": "stream",
       "stream": "stdout",
       "text": [
        "\n",
        "Goal Reached\n",
        "Goal Reached\n",
        "Goal Reached\n",
        "Goal Reached\n",
        "Goal Reached\n",
        "Goal Reached\n",
        "Goal Reached\n",
        "Goal Reached\n",
        "Goal Reached"
       ]
      },
      {
       "output_type": "stream",
       "stream": "stdout",
       "text": [
        "\n",
        "Goal Reached\n",
        "Goal Reached\n",
        "Goal Reached\n",
        "Goal Reached\n",
        "Goal Reached\n",
        "Goal Reached\n",
        "Goal Reached\n",
        "Goal Reached\n",
        "Goal Reached"
       ]
      },
      {
       "output_type": "stream",
       "stream": "stdout",
       "text": [
        "\n",
        "Goal Reached\n",
        "Goal Reached\n",
        "Goal Reached\n",
        "Goal Reached\n",
        "Goal Reached\n",
        "Goal Reached\n",
        "Goal Reached\n",
        "Goal Reached\n",
        "Goal Reached\n",
        "Goal Reached"
       ]
      },
      {
       "output_type": "stream",
       "stream": "stdout",
       "text": [
        "\n",
        "Goal Reached\n",
        "Goal Reached\n",
        "Goal Reached\n",
        "Goal Reached\n",
        "Goal Reached\n",
        "Goal Reached\n",
        "Goal Reached\n",
        "Goal Reached\n",
        "Goal Reached"
       ]
      },
      {
       "output_type": "stream",
       "stream": "stdout",
       "text": [
        "\n",
        "Goal Reached\n",
        "Goal Reached\n",
        "Goal Reached\n",
        "Goal Reached\n",
        "Goal Reached\n",
        "Goal Reached\n",
        "Goal Reached\n",
        "Goal Reached\n",
        "Goal Reached\n",
        "Goal Reached"
       ]
      },
      {
       "output_type": "stream",
       "stream": "stdout",
       "text": [
        "\n",
        "Goal Reached\n",
        "Goal Reached\n",
        "Goal Reached\n",
        "Goal Reached\n",
        "Goal Reached\n",
        "Goal Reached\n",
        "Goal Reached\n",
        "Goal Reached\n",
        "Goal Reached\n",
        "Goal Reached"
       ]
      },
      {
       "output_type": "stream",
       "stream": "stdout",
       "text": [
        "\n",
        "Goal Reached\n",
        "Goal Reached\n",
        "Goal Reached\n",
        "Goal Reached\n",
        "Goal Reached\n",
        "Goal Reached\n",
        "Goal Reached\n",
        "Goal Reached"
       ]
      },
      {
       "output_type": "stream",
       "stream": "stdout",
       "text": [
        "\n",
        "Goal Reached\n",
        "Goal Reached\n",
        "Goal Reached\n",
        "Goal Reached\n",
        "Goal Reached\n",
        "Goal Reached\n",
        "Goal Reached\n",
        "Goal Reached\n",
        "Goal Reached"
       ]
      },
      {
       "output_type": "stream",
       "stream": "stdout",
       "text": [
        "\n",
        "Goal Reached\n",
        "Goal Reached\n",
        "Goal Reached\n",
        "Goal Reached\n",
        "Goal Reached\n",
        "Goal Reached\n",
        "Goal Reached\n",
        "Goal Reached\n",
        "Goal Reached\n",
        "Goal Reached\n",
        "Goal Reached"
       ]
      },
      {
       "output_type": "stream",
       "stream": "stdout",
       "text": [
        "\n",
        "Goal Reached\n",
        "Goal Reached\n",
        "Goal Reached\n",
        "Goal Reached\n",
        "Goal Reached\n",
        "Goal Reached\n",
        "Goal Reached\n",
        "Goal Reached\n",
        "Goal Reached\n",
        "Goal Reached\n",
        "Goal Reached"
       ]
      },
      {
       "output_type": "stream",
       "stream": "stdout",
       "text": [
        "\n",
        "Goal Reached\n",
        "Goal Reached\n",
        "Goal Reached\n",
        "Goal Reached\n",
        "Goal Reached\n",
        "Goal Reached\n",
        "Goal Reached\n",
        "Goal Reached"
       ]
      },
      {
       "output_type": "stream",
       "stream": "stdout",
       "text": [
        "\n",
        "Goal Reached\n",
        "Goal Reached\n",
        "Goal Reached\n",
        "Goal Reached\n",
        "Goal Reached\n",
        "Goal Reached\n",
        "Goal Reached\n",
        "Goal Reached"
       ]
      },
      {
       "output_type": "stream",
       "stream": "stdout",
       "text": [
        "\n",
        "Goal Reached\n",
        "Goal Reached\n",
        "Goal Reached\n",
        "Goal Reached\n",
        "Goal Reached\n",
        "Goal Reached\n",
        "Goal Reached\n",
        "Goal Reached\n",
        "Goal Reached\n",
        "Goal Reached\n",
        "Goal Reached"
       ]
      },
      {
       "output_type": "stream",
       "stream": "stdout",
       "text": [
        "\n",
        "Goal Reached\n",
        "Goal Reached\n",
        "Goal Reached\n",
        "Goal Reached\n",
        "Goal Reached\n",
        "Goal Reached\n",
        "Goal Reached\n",
        "Goal Reached\n",
        "Goal Reached\n",
        "Goal Reached"
       ]
      },
      {
       "output_type": "stream",
       "stream": "stdout",
       "text": [
        "\n",
        "Goal Reached\n",
        "Goal Reached\n",
        "Goal Reached\n",
        "Goal Reached\n",
        "Goal Reached\n",
        "Goal Reached\n",
        "Goal Reached\n",
        "Goal Reached\n",
        "Goal Reached\n",
        "Goal Reached"
       ]
      },
      {
       "output_type": "stream",
       "stream": "stdout",
       "text": [
        "\n",
        "Goal Reached\n",
        "Goal Reached\n",
        "Goal Reached\n",
        "Goal Reached\n",
        "Goal Reached\n",
        "Goal Reached\n",
        "Goal Reached\n",
        "Goal Reached\n",
        "Goal Reached\n",
        "Goal Reached"
       ]
      },
      {
       "output_type": "stream",
       "stream": "stdout",
       "text": [
        "\n",
        "Goal Reached\n",
        "Goal Reached\n",
        "Goal Reached\n",
        "Goal Reached\n",
        "Goal Reached\n",
        "Goal Reached\n",
        "Goal Reached\n",
        "Goal Reached"
       ]
      },
      {
       "output_type": "stream",
       "stream": "stdout",
       "text": [
        "\n",
        "Goal Reached\n",
        "Goal Reached\n",
        "Goal Reached\n",
        "Goal Reached\n",
        "Goal Reached\n",
        "Goal Reached\n",
        "Goal Reached\n",
        "Goal Reached\n",
        "Goal Reached\n",
        "Goal Reached\n",
        "Goal Reached"
       ]
      },
      {
       "output_type": "stream",
       "stream": "stdout",
       "text": [
        "\n",
        "Goal Reached\n",
        "Goal Reached\n",
        "Goal Reached\n",
        "Goal Reached\n",
        "Goal Reached\n",
        "Goal Reached\n",
        "Goal Reached\n",
        "Goal Reached\n",
        "Goal Reached\n",
        "Goal Reached"
       ]
      },
      {
       "output_type": "stream",
       "stream": "stdout",
       "text": [
        "\n",
        "Goal Reached\n",
        "Goal Reached\n",
        "Goal Reached\n",
        "Goal Reached\n",
        "Goal Reached\n",
        "Goal Reached\n",
        "Goal Reached\n",
        "Goal Reached\n",
        "Goal Reached\n",
        "Goal Reached\n",
        "Goal Reached\n",
        "Goal Reached"
       ]
      },
      {
       "output_type": "stream",
       "stream": "stdout",
       "text": [
        "\n",
        "Goal Reached\n",
        "Goal Reached\n",
        "Goal Reached\n",
        "Goal Reached\n",
        "Goal Reached\n",
        "Goal Reached\n",
        "Goal Reached\n",
        "Goal Reached\n",
        "Goal Reached\n",
        "Goal Reached\n",
        "Goal Reached"
       ]
      },
      {
       "output_type": "stream",
       "stream": "stdout",
       "text": [
        "\n",
        "Goal Reached\n",
        "Goal Reached\n",
        "Goal Reached\n",
        "Goal Reached\n",
        "Goal Reached\n",
        "Goal Reached\n",
        "Goal Reached\n",
        "Goal Reached\n",
        "Goal Reached"
       ]
      },
      {
       "output_type": "stream",
       "stream": "stdout",
       "text": [
        "\n",
        "Goal Reached\n",
        "Goal Reached\n",
        "Goal Reached\n",
        "Goal Reached\n",
        "Goal Reached\n",
        "Goal Reached\n",
        "Goal Reached\n",
        "Goal Reached\n",
        "Goal Reached"
       ]
      },
      {
       "output_type": "stream",
       "stream": "stdout",
       "text": [
        "\n",
        "Goal Reached\n",
        "Goal Reached\n",
        "Goal Reached\n",
        "Goal Reached\n",
        "Goal Reached\n",
        "Goal Reached\n",
        "Goal Reached\n",
        "Goal Reached\n",
        "Goal Reached"
       ]
      },
      {
       "output_type": "stream",
       "stream": "stdout",
       "text": [
        "\n",
        "Goal Reached\n",
        "Goal Reached\n",
        "Goal Reached\n",
        "Goal Reached\n",
        "Goal Reached\n",
        "Goal Reached\n",
        "Goal Reached\n",
        "Goal Reached\n",
        "Goal Reached\n",
        "Goal Reached\n",
        "Goal Reached"
       ]
      },
      {
       "output_type": "stream",
       "stream": "stdout",
       "text": [
        "\n",
        "Goal Reached\n",
        "Goal Reached\n",
        "Goal Reached\n",
        "Goal Reached\n",
        "Goal Reached\n",
        "Goal Reached\n",
        "Goal Reached\n",
        "Goal Reached\n",
        "Goal Reached"
       ]
      },
      {
       "output_type": "stream",
       "stream": "stdout",
       "text": [
        "\n",
        "Goal Reached\n",
        "Goal Reached\n",
        "Goal Reached\n",
        "Goal Reached\n",
        "Goal Reached\n",
        "Goal Reached\n",
        "Goal Reached\n",
        "Goal Reached\n",
        "Goal Reached\n",
        "Goal Reached"
       ]
      },
      {
       "output_type": "stream",
       "stream": "stdout",
       "text": [
        "\n",
        "Goal Reached\n",
        "Goal Reached\n",
        "Goal Reached\n",
        "Goal Reached\n",
        "Goal Reached\n",
        "Goal Reached\n",
        "Goal Reached\n",
        "Goal Reached\n",
        "Goal Reached\n",
        "Goal Reached\n",
        "Goal Reached"
       ]
      },
      {
       "output_type": "stream",
       "stream": "stdout",
       "text": [
        "\n",
        "Goal Reached\n",
        "Goal Reached\n",
        "Goal Reached\n",
        "Goal Reached\n",
        "Goal Reached\n",
        "Goal Reached\n",
        "Goal Reached\n",
        "Goal Reached\n",
        "Goal Reached\n",
        "Goal Reached"
       ]
      },
      {
       "output_type": "stream",
       "stream": "stdout",
       "text": [
        "\n",
        "Goal Reached\n",
        "Goal Reached\n",
        "Goal Reached\n",
        "Goal Reached\n",
        "Goal Reached\n",
        "Goal Reached\n",
        "Goal Reached\n",
        "Goal Reached\n",
        "Goal Reached\n",
        "Goal Reached\n",
        "Goal Reached"
       ]
      },
      {
       "output_type": "stream",
       "stream": "stdout",
       "text": [
        "\n",
        "Goal Reached\n",
        "Goal Reached\n",
        "Goal Reached\n",
        "Goal Reached\n",
        "Goal Reached\n",
        "Goal Reached\n",
        "Goal Reached\n",
        "Goal Reached\n",
        "Goal Reached"
       ]
      },
      {
       "output_type": "stream",
       "stream": "stdout",
       "text": [
        "\n",
        "Goal Reached\n",
        "Goal Reached\n",
        "Goal Reached\n",
        "Goal Reached\n",
        "Goal Reached\n",
        "Goal Reached\n",
        "Goal Reached\n",
        "Goal Reached\n",
        "Goal Reached"
       ]
      },
      {
       "output_type": "stream",
       "stream": "stdout",
       "text": [
        "\n",
        "Goal Reached\n",
        "Goal Reached\n",
        "Goal Reached\n",
        "Goal Reached\n",
        "Goal Reached\n",
        "Goal Reached\n",
        "Goal Reached\n",
        "Goal Reached\n",
        "Goal Reached"
       ]
      },
      {
       "output_type": "stream",
       "stream": "stdout",
       "text": [
        "\n",
        "Goal Reached\n",
        "Goal Reached\n",
        "Goal Reached\n",
        "Goal Reached\n",
        "Goal Reached\n",
        "Goal Reached\n",
        "Goal Reached\n",
        "Goal Reached\n",
        "Goal Reached"
       ]
      },
      {
       "output_type": "stream",
       "stream": "stdout",
       "text": [
        "\n",
        "Goal Reached\n",
        "Goal Reached\n",
        "Goal Reached\n",
        "Goal Reached\n",
        "Goal Reached\n",
        "Goal Reached\n",
        "Goal Reached\n",
        "Goal Reached\n",
        "Goal Reached"
       ]
      },
      {
       "output_type": "stream",
       "stream": "stdout",
       "text": [
        "\n",
        "Goal Reached\n",
        "Goal Reached\n",
        "Goal Reached\n",
        "Goal Reached\n",
        "Goal Reached\n",
        "Goal Reached\n",
        "Goal Reached\n",
        "Goal Reached\n",
        "Goal Reached"
       ]
      },
      {
       "output_type": "stream",
       "stream": "stdout",
       "text": [
        "\n",
        "Goal Reached\n",
        "Goal Reached\n",
        "Goal Reached\n",
        "Goal Reached\n",
        "Goal Reached\n",
        "Goal Reached\n",
        "Goal Reached\n",
        "Goal Reached\n",
        "Goal Reached\n",
        "Goal Reached"
       ]
      },
      {
       "output_type": "stream",
       "stream": "stdout",
       "text": [
        "\n",
        "Goal Reached\n",
        "Goal Reached\n",
        "Goal Reached\n",
        "Goal Reached\n",
        "Goal Reached\n",
        "Goal Reached\n",
        "Goal Reached\n",
        "Goal Reached\n",
        "Goal Reached\n",
        "Goal Reached\n",
        "Goal Reached\n",
        "Goal Reached\n",
        "Goal Reached"
       ]
      },
      {
       "output_type": "stream",
       "stream": "stdout",
       "text": [
        "\n",
        "Goal Reached\n",
        "Goal Reached\n",
        "Goal Reached\n",
        "Goal Reached\n",
        "Goal Reached\n",
        "Goal Reached\n",
        "Goal Reached\n",
        "Goal Reached\n",
        "Goal Reached\n",
        "Goal Reached"
       ]
      },
      {
       "output_type": "stream",
       "stream": "stdout",
       "text": [
        "\n",
        "Goal Reached\n",
        "Goal Reached\n",
        "Goal Reached\n",
        "Goal Reached\n",
        "Goal Reached\n",
        "Goal Reached\n",
        "Goal Reached\n",
        "Goal Reached\n",
        "Goal Reached\n",
        "Goal Reached\n",
        "Goal Reached"
       ]
      },
      {
       "output_type": "stream",
       "stream": "stdout",
       "text": [
        "\n",
        "Goal Reached\n",
        "Goal Reached\n",
        "Goal Reached\n",
        "Goal Reached\n",
        "Goal Reached\n",
        "Goal Reached\n",
        "Goal Reached\n",
        "Goal Reached\n",
        "Goal Reached\n",
        "Goal Reached"
       ]
      },
      {
       "output_type": "stream",
       "stream": "stdout",
       "text": [
        "\n",
        "Goal Reached\n",
        "Goal Reached\n",
        "Goal Reached\n",
        "Goal Reached\n",
        "Goal Reached\n",
        "Goal Reached\n",
        "Goal Reached\n",
        "Goal Reached\n",
        "Goal Reached"
       ]
      },
      {
       "output_type": "stream",
       "stream": "stdout",
       "text": [
        "\n",
        "Goal Reached\n",
        "Goal Reached\n",
        "Goal Reached\n",
        "Goal Reached\n",
        "Goal Reached\n",
        "Goal Reached\n",
        "Goal Reached\n",
        "Goal Reached\n",
        "Goal Reached\n",
        "Goal Reached\n",
        "Goal Reached"
       ]
      },
      {
       "output_type": "stream",
       "stream": "stdout",
       "text": [
        "\n",
        "Goal Reached\n",
        "Goal Reached\n",
        "Goal Reached\n",
        "Goal Reached\n",
        "Goal Reached\n",
        "Goal Reached\n",
        "Goal Reached\n",
        "Goal Reached\n",
        "Goal Reached\n",
        "Goal Reached"
       ]
      },
      {
       "output_type": "stream",
       "stream": "stdout",
       "text": [
        "\n",
        "Goal Reached\n",
        "Goal Reached\n",
        "Goal Reached\n",
        "Goal Reached\n",
        "Goal Reached\n",
        "Goal Reached\n",
        "Goal Reached\n",
        "Goal Reached\n",
        "Goal Reached"
       ]
      },
      {
       "output_type": "stream",
       "stream": "stdout",
       "text": [
        "\n",
        "Goal Reached\n",
        "Goal Reached\n",
        "Goal Reached\n",
        "Goal Reached\n",
        "Goal Reached\n",
        "Goal Reached\n",
        "Goal Reached\n",
        "Goal Reached\n",
        "Goal Reached"
       ]
      },
      {
       "output_type": "stream",
       "stream": "stdout",
       "text": [
        "\n",
        "Goal Reached\n",
        "Goal Reached\n",
        "Goal Reached\n",
        "Goal Reached\n",
        "Goal Reached\n",
        "Goal Reached\n",
        "Goal Reached\n",
        "Goal Reached\n",
        "Goal Reached\n",
        "Goal Reached"
       ]
      },
      {
       "output_type": "stream",
       "stream": "stdout",
       "text": [
        "\n",
        "Goal Reached\n",
        "Goal Reached\n",
        "Goal Reached\n",
        "Goal Reached\n",
        "Goal Reached\n",
        "Goal Reached\n",
        "Goal Reached\n",
        "Goal Reached"
       ]
      },
      {
       "output_type": "stream",
       "stream": "stdout",
       "text": [
        "\n",
        "Goal Reached\n",
        "Goal Reached\n",
        "Goal Reached\n",
        "Goal Reached\n",
        "Goal Reached\n",
        "Goal Reached\n",
        "Goal Reached\n",
        "Goal Reached\n",
        "Goal Reached\n",
        "Goal Reached\n",
        "Goal Reached"
       ]
      },
      {
       "output_type": "stream",
       "stream": "stdout",
       "text": [
        "\n",
        "Goal Reached\n",
        "Goal Reached\n",
        "Goal Reached\n",
        "Goal Reached\n",
        "Goal Reached\n",
        "Goal Reached\n",
        "Goal Reached\n",
        "Goal Reached\n",
        "Goal Reached\n",
        "Goal Reached\n",
        "Goal Reached"
       ]
      },
      {
       "output_type": "stream",
       "stream": "stdout",
       "text": [
        "\n",
        "Goal Reached\n",
        "Goal Reached\n",
        "Goal Reached\n",
        "Goal Reached\n",
        "Goal Reached\n",
        "Goal Reached\n",
        "Goal Reached\n",
        "Goal Reached\n",
        "Goal Reached\n",
        "Goal Reached"
       ]
      },
      {
       "output_type": "stream",
       "stream": "stdout",
       "text": [
        "\n",
        "Goal Reached\n",
        "Goal Reached\n",
        "Goal Reached\n",
        "Goal Reached\n",
        "Goal Reached\n",
        "Goal Reached\n",
        "Goal Reached\n",
        "Goal Reached\n",
        "Goal Reached\n",
        "Goal Reached\n",
        "Goal Reached\n",
        "Goal Reached"
       ]
      },
      {
       "output_type": "stream",
       "stream": "stdout",
       "text": [
        "\n",
        "Goal Reached\n",
        "Goal Reached\n",
        "Goal Reached\n",
        "Goal Reached\n",
        "Goal Reached\n",
        "Goal Reached\n",
        "Goal Reached\n",
        "Goal Reached\n",
        "Goal Reached\n",
        "Goal Reached"
       ]
      },
      {
       "output_type": "stream",
       "stream": "stdout",
       "text": [
        "\n",
        "Goal Reached\n",
        "Goal Reached\n",
        "Goal Reached\n",
        "Goal Reached\n",
        "Goal Reached\n",
        "Goal Reached\n",
        "Goal Reached\n",
        "Goal Reached\n",
        "Goal Reached"
       ]
      },
      {
       "output_type": "stream",
       "stream": "stdout",
       "text": [
        "\n",
        "Goal Reached\n",
        "Goal Reached\n",
        "Goal Reached\n",
        "Goal Reached\n",
        "Goal Reached\n",
        "Goal Reached\n",
        "Goal Reached\n",
        "Goal Reached\n",
        "Goal Reached"
       ]
      },
      {
       "output_type": "stream",
       "stream": "stdout",
       "text": [
        "\n",
        "Goal Reached\n",
        "Goal Reached\n",
        "Goal Reached\n",
        "Goal Reached\n",
        "Goal Reached\n",
        "Goal Reached\n",
        "Goal Reached\n",
        "Goal Reached\n",
        "Goal Reached\n",
        "Goal Reached"
       ]
      },
      {
       "output_type": "stream",
       "stream": "stdout",
       "text": [
        "\n",
        "Goal Reached\n",
        "Goal Reached\n",
        "Goal Reached\n",
        "Goal Reached\n",
        "Goal Reached\n",
        "Goal Reached\n",
        "Goal Reached\n",
        "Goal Reached\n",
        "Goal Reached"
       ]
      },
      {
       "output_type": "stream",
       "stream": "stdout",
       "text": [
        "\n",
        "Goal Reached\n",
        "Goal Reached\n",
        "Goal Reached\n",
        "Goal Reached\n",
        "Goal Reached\n",
        "Goal Reached\n",
        "Goal Reached\n",
        "Goal Reached\n",
        "Goal Reached\n",
        "Goal Reached"
       ]
      },
      {
       "output_type": "stream",
       "stream": "stdout",
       "text": [
        "\n",
        "Goal Reached\n",
        "Goal Reached\n",
        "Goal Reached\n",
        "Goal Reached\n",
        "Goal Reached\n",
        "Goal Reached\n",
        "Goal Reached\n",
        "Goal Reached\n",
        "Goal Reached\n",
        "Goal Reached\n",
        "Goal Reached"
       ]
      },
      {
       "output_type": "stream",
       "stream": "stdout",
       "text": [
        "\n",
        "Goal Reached\n",
        "Goal Reached\n",
        "Goal Reached\n",
        "Goal Reached\n",
        "Goal Reached\n",
        "Goal Reached\n",
        "Goal Reached\n",
        "Goal Reached\n",
        "Goal Reached\n",
        "Goal Reached\n",
        "Goal Reached\n",
        "Goal Reached"
       ]
      },
      {
       "output_type": "stream",
       "stream": "stdout",
       "text": [
        "\n",
        "Goal Reached\n",
        "Goal Reached\n",
        "Goal Reached\n",
        "Goal Reached\n",
        "Goal Reached\n",
        "Goal Reached\n",
        "Goal Reached\n",
        "Goal Reached\n",
        "Goal Reached\n",
        "Goal Reached"
       ]
      },
      {
       "output_type": "stream",
       "stream": "stdout",
       "text": [
        "\n",
        "Goal Reached\n",
        "Goal Reached\n",
        "Goal Reached\n",
        "Goal Reached\n",
        "Goal Reached\n",
        "Goal Reached\n",
        "Goal Reached\n",
        "Goal Reached\n",
        "Goal Reached\n",
        "Goal Reached"
       ]
      },
      {
       "output_type": "stream",
       "stream": "stdout",
       "text": [
        "\n",
        "Goal Reached\n",
        "Goal Reached\n",
        "Goal Reached\n",
        "Goal Reached\n",
        "Goal Reached\n",
        "Goal Reached\n",
        "Goal Reached\n",
        "Goal Reached"
       ]
      },
      {
       "output_type": "stream",
       "stream": "stdout",
       "text": [
        "\n",
        "Goal Reached\n",
        "Goal Reached\n",
        "Goal Reached\n",
        "Goal Reached\n",
        "Goal Reached\n",
        "Goal Reached\n",
        "Goal Reached\n",
        "Goal Reached\n",
        "Goal Reached\n",
        "Goal Reached\n",
        "Goal Reached"
       ]
      },
      {
       "output_type": "stream",
       "stream": "stdout",
       "text": [
        "\n",
        "Goal Reached\n",
        "Goal Reached\n",
        "Goal Reached\n",
        "Goal Reached\n",
        "Goal Reached\n",
        "Goal Reached\n",
        "Goal Reached\n",
        "Goal Reached\n",
        "Goal Reached\n",
        "Goal Reached"
       ]
      },
      {
       "output_type": "stream",
       "stream": "stdout",
       "text": [
        "\n",
        "Goal Reached\n",
        "Goal Reached\n",
        "Goal Reached\n",
        "Goal Reached\n",
        "Goal Reached\n",
        "Goal Reached\n",
        "Goal Reached"
       ]
      },
      {
       "output_type": "stream",
       "stream": "stdout",
       "text": [
        "\n",
        "Goal Reached\n",
        "Goal Reached\n",
        "Goal Reached\n",
        "Goal Reached\n",
        "Goal Reached\n",
        "Goal Reached\n",
        "Goal Reached\n",
        "Goal Reached\n",
        "Goal Reached\n",
        "Goal Reached"
       ]
      },
      {
       "output_type": "stream",
       "stream": "stdout",
       "text": [
        "\n",
        "Goal Reached\n",
        "Goal Reached\n",
        "Goal Reached\n",
        "Goal Reached\n",
        "Goal Reached\n",
        "Goal Reached\n",
        "Goal Reached\n",
        "Goal Reached\n",
        "Goal Reached\n",
        "Goal Reached"
       ]
      },
      {
       "output_type": "stream",
       "stream": "stdout",
       "text": [
        "\n",
        "Goal Reached\n",
        "Goal Reached\n",
        "Goal Reached\n",
        "Goal Reached\n",
        "Goal Reached\n",
        "Goal Reached\n",
        "Goal Reached\n",
        "Goal Reached\n",
        "Goal Reached"
       ]
      },
      {
       "output_type": "stream",
       "stream": "stdout",
       "text": [
        "\n",
        "Goal Reached\n",
        "Goal Reached\n",
        "Goal Reached\n",
        "Goal Reached\n",
        "Goal Reached\n",
        "Goal Reached\n",
        "Goal Reached\n",
        "Goal Reached\n",
        "Goal Reached\n",
        "Goal Reached"
       ]
      },
      {
       "output_type": "stream",
       "stream": "stdout",
       "text": [
        "\n",
        "Goal Reached\n",
        "Goal Reached\n",
        "Goal Reached\n",
        "Goal Reached\n",
        "Goal Reached\n",
        "Goal Reached\n",
        "Goal Reached\n",
        "Goal Reached\n",
        "Goal Reached\n",
        "Goal Reached"
       ]
      },
      {
       "output_type": "stream",
       "stream": "stdout",
       "text": [
        "\n",
        "Goal Reached\n",
        "Goal Reached\n",
        "Goal Reached\n",
        "Goal Reached\n",
        "Goal Reached\n",
        "Goal Reached\n",
        "Goal Reached\n",
        "Goal Reached\n",
        "Goal Reached\n",
        "Goal Reached"
       ]
      },
      {
       "output_type": "stream",
       "stream": "stdout",
       "text": [
        "\n",
        "Goal Reached\n",
        "Goal Reached\n",
        "Goal Reached\n",
        "Goal Reached\n",
        "Goal Reached\n",
        "Goal Reached\n",
        "Goal Reached\n",
        "Goal Reached\n",
        "Goal Reached"
       ]
      },
      {
       "output_type": "stream",
       "stream": "stdout",
       "text": [
        "\n",
        "Goal Reached\n",
        "Goal Reached\n",
        "Goal Reached\n",
        "Goal Reached\n",
        "Goal Reached\n",
        "Goal Reached\n",
        "Goal Reached\n",
        "Goal Reached\n",
        "Goal Reached\n",
        "Goal Reached"
       ]
      },
      {
       "output_type": "stream",
       "stream": "stdout",
       "text": [
        "\n",
        "Goal Reached\n",
        "Goal Reached\n",
        "Goal Reached\n",
        "Goal Reached\n",
        "Goal Reached\n",
        "Goal Reached\n",
        "Goal Reached\n",
        "Goal Reached\n",
        "Goal Reached"
       ]
      },
      {
       "output_type": "stream",
       "stream": "stdout",
       "text": [
        "\n",
        "Goal Reached\n",
        "Goal Reached\n",
        "Goal Reached\n",
        "Goal Reached\n",
        "Goal Reached\n",
        "Goal Reached\n",
        "Goal Reached\n",
        "Goal Reached"
       ]
      },
      {
       "output_type": "stream",
       "stream": "stdout",
       "text": [
        "\n",
        "Goal Reached\n",
        "Goal Reached\n",
        "Goal Reached\n",
        "Goal Reached\n",
        "Goal Reached\n",
        "Goal Reached\n",
        "Goal Reached\n",
        "Goal Reached\n",
        "Goal Reached\n",
        "Goal Reached\n",
        "Goal Reached"
       ]
      },
      {
       "output_type": "stream",
       "stream": "stdout",
       "text": [
        "\n",
        "Goal Reached\n",
        "Goal Reached\n",
        "Goal Reached\n",
        "Goal Reached\n",
        "Goal Reached\n",
        "Goal Reached\n",
        "Goal Reached\n",
        "Goal Reached\n",
        "Goal Reached\n",
        "Goal Reached"
       ]
      },
      {
       "output_type": "stream",
       "stream": "stdout",
       "text": [
        "\n",
        "Goal Reached\n",
        "Goal Reached\n",
        "Goal Reached\n",
        "Goal Reached\n",
        "Goal Reached\n",
        "Goal Reached\n",
        "Goal Reached\n",
        "Goal Reached\n",
        "Goal Reached"
       ]
      },
      {
       "output_type": "stream",
       "stream": "stdout",
       "text": [
        "\n",
        "Goal Reached\n",
        "Goal Reached\n",
        "Goal Reached\n",
        "Goal Reached\n",
        "Goal Reached\n",
        "Goal Reached\n",
        "Goal Reached\n",
        "Goal Reached\n",
        "Goal Reached\n",
        "Goal Reached"
       ]
      },
      {
       "output_type": "stream",
       "stream": "stdout",
       "text": [
        "\n",
        "Goal Reached\n",
        "Goal Reached\n",
        "Goal Reached\n",
        "Goal Reached\n",
        "Goal Reached\n",
        "Goal Reached\n",
        "Goal Reached\n",
        "Goal Reached\n",
        "Goal Reached"
       ]
      },
      {
       "output_type": "stream",
       "stream": "stdout",
       "text": [
        "\n",
        "Goal Reached\n",
        "Goal Reached\n",
        "Goal Reached\n",
        "Goal Reached\n",
        "Goal Reached\n",
        "Goal Reached\n",
        "Goal Reached\n",
        "Goal Reached\n",
        "Goal Reached\n",
        "Goal Reached"
       ]
      },
      {
       "output_type": "stream",
       "stream": "stdout",
       "text": [
        "\n",
        "Goal Reached\n",
        "Goal Reached\n",
        "Goal Reached\n",
        "Goal Reached\n",
        "Goal Reached\n",
        "Goal Reached\n",
        "Goal Reached\n",
        "Goal Reached\n",
        "Goal Reached\n",
        "Goal Reached\n",
        "Goal Reached"
       ]
      },
      {
       "output_type": "stream",
       "stream": "stdout",
       "text": [
        "\n",
        "Goal Reached\n",
        "Goal Reached\n",
        "Goal Reached\n",
        "Goal Reached\n",
        "Goal Reached\n",
        "Goal Reached\n",
        "Goal Reached\n",
        "Goal Reached\n",
        "Goal Reached\n",
        "Goal Reached\n",
        "Goal Reached\n",
        "Goal Reached"
       ]
      },
      {
       "output_type": "stream",
       "stream": "stdout",
       "text": [
        "\n",
        "Goal Reached\n",
        "Goal Reached\n",
        "Goal Reached\n",
        "Goal Reached\n",
        "Goal Reached\n",
        "Goal Reached\n",
        "Goal Reached\n",
        "Goal Reached\n",
        "Goal Reached"
       ]
      },
      {
       "output_type": "stream",
       "stream": "stdout",
       "text": [
        "\n",
        "Goal Reached\n",
        "Goal Reached\n",
        "Goal Reached\n",
        "Goal Reached\n",
        "Goal Reached\n",
        "Goal Reached\n",
        "Goal Reached\n",
        "Goal Reached\n",
        "Goal Reached\n",
        "Goal Reached\n",
        "Goal Reached"
       ]
      },
      {
       "output_type": "stream",
       "stream": "stdout",
       "text": [
        "\n",
        "Goal Reached\n",
        "Goal Reached\n",
        "Goal Reached\n",
        "Goal Reached\n",
        "Goal Reached\n",
        "Goal Reached\n",
        "Goal Reached\n",
        "Goal Reached\n",
        "Goal Reached\n",
        "Goal Reached\n",
        "Goal Reached"
       ]
      },
      {
       "output_type": "stream",
       "stream": "stdout",
       "text": [
        "\n",
        "Goal Reached\n",
        "Goal Reached\n",
        "Goal Reached\n",
        "Goal Reached\n",
        "Goal Reached\n",
        "Goal Reached\n",
        "Goal Reached\n",
        "Goal Reached\n",
        "Goal Reached\n",
        "Goal Reached"
       ]
      },
      {
       "output_type": "stream",
       "stream": "stdout",
       "text": [
        "\n",
        "Goal Reached\n",
        "Goal Reached\n",
        "Goal Reached\n",
        "Goal Reached\n",
        "Goal Reached\n",
        "Goal Reached\n",
        "Goal Reached\n",
        "Goal Reached\n",
        "Goal Reached\n",
        "Goal Reached\n",
        "Goal Reached"
       ]
      },
      {
       "output_type": "stream",
       "stream": "stdout",
       "text": [
        "\n",
        "Goal Reached\n",
        "Goal Reached\n",
        "Goal Reached\n",
        "Goal Reached\n",
        "Goal Reached\n",
        "Goal Reached\n",
        "Goal Reached\n",
        "Goal Reached\n",
        "Goal Reached\n",
        "Goal Reached\n",
        "Goal Reached"
       ]
      },
      {
       "output_type": "stream",
       "stream": "stdout",
       "text": [
        "\n",
        "Goal Reached\n",
        "Goal Reached\n",
        "Goal Reached\n",
        "Goal Reached\n",
        "Goal Reached\n",
        "Goal Reached\n",
        "Goal Reached\n",
        "Goal Reached\n",
        "Goal Reached"
       ]
      },
      {
       "output_type": "stream",
       "stream": "stdout",
       "text": [
        "\n",
        "Goal Reached\n",
        "Goal Reached\n",
        "Goal Reached\n",
        "Goal Reached\n",
        "Goal Reached\n",
        "Goal Reached\n",
        "Goal Reached\n",
        "Goal Reached\n",
        "Goal Reached"
       ]
      },
      {
       "output_type": "stream",
       "stream": "stdout",
       "text": [
        "\n",
        "Goal Reached\n",
        "Goal Reached\n",
        "Goal Reached\n",
        "Goal Reached\n",
        "Goal Reached\n",
        "Goal Reached\n",
        "Goal Reached\n",
        "Goal Reached"
       ]
      },
      {
       "output_type": "stream",
       "stream": "stdout",
       "text": [
        "\n",
        "Goal Reached\n",
        "Goal Reached\n",
        "Goal Reached\n",
        "Goal Reached\n",
        "Goal Reached\n",
        "Goal Reached\n",
        "Goal Reached\n",
        "Goal Reached\n",
        "Goal Reached\n",
        "Goal Reached"
       ]
      },
      {
       "output_type": "stream",
       "stream": "stdout",
       "text": [
        "\n",
        "Goal Reached\n",
        "Goal Reached\n",
        "Goal Reached\n",
        "Goal Reached\n",
        "Goal Reached\n",
        "Goal Reached\n",
        "Goal Reached\n",
        "Goal Reached\n",
        "Goal Reached"
       ]
      },
      {
       "output_type": "stream",
       "stream": "stdout",
       "text": [
        "\n",
        "Goal Reached\n",
        "Goal Reached\n",
        "Goal Reached\n",
        "Goal Reached\n",
        "Goal Reached\n",
        "Goal Reached\n",
        "Goal Reached\n",
        "Goal Reached\n",
        "Goal Reached"
       ]
      },
      {
       "output_type": "stream",
       "stream": "stdout",
       "text": [
        "\n",
        "Goal Reached\n",
        "Goal Reached\n",
        "Goal Reached\n",
        "Goal Reached\n",
        "Goal Reached\n",
        "Goal Reached\n",
        "Goal Reached\n",
        "Goal Reached\n",
        "Goal Reached"
       ]
      },
      {
       "output_type": "stream",
       "stream": "stdout",
       "text": [
        "\n",
        "Goal Reached\n",
        "Goal Reached\n",
        "Goal Reached\n",
        "Goal Reached\n",
        "Goal Reached\n",
        "Goal Reached\n",
        "Goal Reached\n",
        "Goal Reached\n",
        "Goal Reached"
       ]
      },
      {
       "output_type": "stream",
       "stream": "stdout",
       "text": [
        "\n",
        "Goal Reached\n",
        "Goal Reached\n",
        "Goal Reached\n",
        "Goal Reached\n",
        "Goal Reached\n",
        "Goal Reached\n",
        "Goal Reached\n",
        "Goal Reached\n",
        "Goal Reached"
       ]
      },
      {
       "output_type": "stream",
       "stream": "stdout",
       "text": [
        "\n",
        "Goal Reached\n",
        "Goal Reached\n",
        "Goal Reached\n",
        "Goal Reached\n",
        "Goal Reached\n",
        "Goal Reached\n",
        "Goal Reached\n",
        "Goal Reached\n",
        "Goal Reached\n",
        "Goal Reached"
       ]
      },
      {
       "output_type": "stream",
       "stream": "stdout",
       "text": [
        "\n",
        "Goal Reached\n",
        "Goal Reached\n",
        "Goal Reached\n",
        "Goal Reached\n",
        "Goal Reached\n",
        "Goal Reached\n",
        "Goal Reached\n",
        "Goal Reached\n",
        "Goal Reached"
       ]
      },
      {
       "output_type": "stream",
       "stream": "stdout",
       "text": [
        "\n",
        "Goal Reached\n",
        "Goal Reached\n",
        "Goal Reached\n",
        "Goal Reached\n",
        "Goal Reached\n",
        "Goal Reached\n",
        "Goal Reached\n",
        "Goal Reached"
       ]
      },
      {
       "output_type": "stream",
       "stream": "stdout",
       "text": [
        "\n",
        "Goal Reached\n",
        "Goal Reached\n",
        "Goal Reached\n",
        "Goal Reached\n",
        "Goal Reached\n",
        "Goal Reached\n",
        "Goal Reached\n",
        "Goal Reached\n",
        "Goal Reached"
       ]
      },
      {
       "output_type": "stream",
       "stream": "stdout",
       "text": [
        "\n",
        "Goal Reached\n",
        "Goal Reached\n",
        "Goal Reached\n",
        "Goal Reached\n",
        "Goal Reached\n",
        "Goal Reached\n",
        "Goal Reached\n",
        "Goal Reached\n",
        "Goal Reached"
       ]
      },
      {
       "output_type": "stream",
       "stream": "stdout",
       "text": [
        "\n",
        "Goal Reached\n",
        "Goal Reached\n",
        "Goal Reached\n",
        "Goal Reached\n",
        "Goal Reached\n",
        "Goal Reached\n",
        "Goal Reached"
       ]
      },
      {
       "output_type": "stream",
       "stream": "stdout",
       "text": [
        "\n",
        "Goal Reached\n",
        "Goal Reached\n",
        "Goal Reached\n",
        "Goal Reached\n",
        "Goal Reached\n",
        "Goal Reached\n",
        "Goal Reached\n",
        "Goal Reached\n",
        "Goal Reached"
       ]
      },
      {
       "output_type": "stream",
       "stream": "stdout",
       "text": [
        "\n",
        "Goal Reached\n",
        "Goal Reached\n",
        "Goal Reached\n",
        "Goal Reached\n",
        "Goal Reached\n",
        "Goal Reached\n",
        "Goal Reached\n",
        "Goal Reached\n",
        "Goal Reached\n",
        "Goal Reached"
       ]
      },
      {
       "output_type": "stream",
       "stream": "stdout",
       "text": [
        "\n",
        "Goal Reached\n",
        "Goal Reached\n",
        "Goal Reached\n",
        "Goal Reached\n",
        "Goal Reached\n",
        "Goal Reached\n",
        "Goal Reached\n",
        "Goal Reached\n",
        "Goal Reached\n",
        "Goal Reached"
       ]
      },
      {
       "output_type": "stream",
       "stream": "stdout",
       "text": [
        "\n",
        "Goal Reached\n",
        "Goal Reached\n",
        "Goal Reached\n",
        "Goal Reached\n",
        "Goal Reached\n",
        "Goal Reached\n",
        "Goal Reached\n",
        "Goal Reached"
       ]
      },
      {
       "output_type": "stream",
       "stream": "stdout",
       "text": [
        "\n",
        "Goal Reached\n",
        "Goal Reached\n",
        "Goal Reached\n",
        "Goal Reached\n",
        "Goal Reached\n",
        "Goal Reached\n",
        "Goal Reached\n",
        "Goal Reached"
       ]
      },
      {
       "output_type": "stream",
       "stream": "stdout",
       "text": [
        "\n",
        "Goal Reached\n",
        "Goal Reached\n",
        "Goal Reached\n",
        "Goal Reached\n",
        "Goal Reached\n",
        "Goal Reached\n",
        "Goal Reached\n",
        "Goal Reached\n",
        "Goal Reached\n",
        "Goal Reached"
       ]
      },
      {
       "output_type": "stream",
       "stream": "stdout",
       "text": [
        "\n",
        "Goal Reached\n",
        "Goal Reached\n",
        "Goal Reached\n",
        "Goal Reached\n",
        "Goal Reached\n",
        "Goal Reached\n",
        "Goal Reached\n",
        "Goal Reached\n",
        "Goal Reached\n",
        "Goal Reached"
       ]
      },
      {
       "output_type": "stream",
       "stream": "stdout",
       "text": [
        "\n",
        "Goal Reached\n",
        "Goal Reached\n",
        "Goal Reached\n",
        "Goal Reached\n",
        "Goal Reached\n",
        "Goal Reached\n",
        "Goal Reached\n",
        "Goal Reached\n",
        "Goal Reached"
       ]
      },
      {
       "output_type": "stream",
       "stream": "stdout",
       "text": [
        "\n",
        "Goal Reached\n",
        "Goal Reached\n",
        "Goal Reached\n",
        "Goal Reached\n",
        "Goal Reached\n",
        "Goal Reached\n",
        "Goal Reached\n",
        "Goal Reached\n",
        "Goal Reached\n",
        "Goal Reached\n",
        "Goal Reached"
       ]
      },
      {
       "output_type": "stream",
       "stream": "stdout",
       "text": [
        "\n",
        "Goal Reached\n",
        "Goal Reached\n",
        "Goal Reached\n",
        "Goal Reached\n",
        "Goal Reached\n",
        "Goal Reached\n",
        "Goal Reached\n",
        "Goal Reached\n",
        "Goal Reached"
       ]
      },
      {
       "output_type": "stream",
       "stream": "stdout",
       "text": [
        "\n",
        "Goal Reached\n",
        "Goal Reached\n",
        "Goal Reached\n",
        "Goal Reached\n",
        "Goal Reached\n",
        "Goal Reached\n",
        "Goal Reached\n",
        "Goal Reached\n",
        "Goal Reached\n",
        "Goal Reached"
       ]
      },
      {
       "output_type": "stream",
       "stream": "stdout",
       "text": [
        "\n",
        "Goal Reached\n",
        "Goal Reached\n",
        "Goal Reached\n",
        "Goal Reached\n",
        "Goal Reached\n",
        "Goal Reached\n",
        "Goal Reached\n",
        "Goal Reached\n",
        "Goal Reached\n",
        "Goal Reached"
       ]
      },
      {
       "output_type": "stream",
       "stream": "stdout",
       "text": [
        "\n",
        "Goal Reached\n",
        "Goal Reached\n",
        "Goal Reached\n",
        "Goal Reached\n",
        "Goal Reached\n",
        "Goal Reached\n",
        "Goal Reached\n",
        "Goal Reached\n",
        "Goal Reached"
       ]
      },
      {
       "output_type": "stream",
       "stream": "stdout",
       "text": [
        "\n",
        "Goal Reached\n",
        "Goal Reached\n",
        "Goal Reached\n",
        "Goal Reached\n",
        "Goal Reached\n",
        "Goal Reached\n",
        "Goal Reached\n",
        "Goal Reached\n",
        "Goal Reached\n",
        "Goal Reached\n",
        "Goal Reached"
       ]
      },
      {
       "output_type": "stream",
       "stream": "stdout",
       "text": [
        "\n",
        "Goal Reached\n",
        "Goal Reached\n",
        "Goal Reached\n",
        "Goal Reached\n",
        "Goal Reached\n",
        "Goal Reached\n",
        "Goal Reached\n",
        "Goal Reached"
       ]
      },
      {
       "output_type": "stream",
       "stream": "stdout",
       "text": [
        "\n",
        "Goal Reached\n",
        "Goal Reached\n",
        "Goal Reached\n",
        "Goal Reached\n",
        "Goal Reached\n",
        "Goal Reached\n",
        "Goal Reached\n",
        "Goal Reached\n",
        "Goal Reached\n",
        "Goal Reached\n",
        "Goal Reached"
       ]
      },
      {
       "output_type": "stream",
       "stream": "stdout",
       "text": [
        "\n",
        "Goal Reached\n",
        "Goal Reached\n",
        "Goal Reached\n",
        "Goal Reached\n",
        "Goal Reached\n",
        "Goal Reached\n",
        "Goal Reached\n",
        "Goal Reached\n",
        "Goal Reached\n",
        "Goal Reached"
       ]
      },
      {
       "output_type": "stream",
       "stream": "stdout",
       "text": [
        "\n",
        "Goal Reached\n",
        "Goal Reached\n",
        "Goal Reached\n",
        "Goal Reached\n",
        "Goal Reached\n",
        "Goal Reached\n",
        "Goal Reached\n",
        "Goal Reached\n",
        "Goal Reached\n",
        "Goal Reached\n",
        "Goal Reached\n",
        "Goal Reached"
       ]
      },
      {
       "output_type": "stream",
       "stream": "stdout",
       "text": [
        "\n",
        "Goal Reached\n",
        "Goal Reached\n",
        "Goal Reached\n",
        "Goal Reached\n",
        "Goal Reached\n",
        "Goal Reached\n",
        "Goal Reached\n",
        "Goal Reached"
       ]
      },
      {
       "output_type": "stream",
       "stream": "stdout",
       "text": [
        "\n",
        "Goal Reached\n",
        "Goal Reached\n",
        "Goal Reached\n",
        "Goal Reached\n",
        "Goal Reached\n",
        "Goal Reached\n",
        "Goal Reached\n",
        "Goal Reached\n",
        "Goal Reached\n",
        "Goal Reached\n",
        "Goal Reached\n",
        "Goal Reached"
       ]
      },
      {
       "output_type": "stream",
       "stream": "stdout",
       "text": [
        "\n",
        "Goal Reached\n",
        "Goal Reached\n",
        "Goal Reached\n",
        "Goal Reached\n",
        "Goal Reached\n",
        "Goal Reached\n",
        "Goal Reached\n",
        "Goal Reached\n",
        "Goal Reached\n",
        "Goal Reached\n",
        "Goal Reached"
       ]
      },
      {
       "output_type": "stream",
       "stream": "stdout",
       "text": [
        "\n",
        "Goal Reached\n",
        "Goal Reached\n",
        "Goal Reached\n",
        "Goal Reached\n",
        "Goal Reached\n",
        "Goal Reached\n",
        "Goal Reached\n",
        "Goal Reached"
       ]
      },
      {
       "output_type": "stream",
       "stream": "stdout",
       "text": [
        "\n",
        "Goal Reached\n",
        "Goal Reached\n",
        "Goal Reached\n",
        "Goal Reached\n",
        "Goal Reached\n",
        "Goal Reached\n",
        "Goal Reached\n",
        "Goal Reached"
       ]
      },
      {
       "output_type": "stream",
       "stream": "stdout",
       "text": [
        "\n",
        "Goal Reached\n",
        "Goal Reached\n",
        "Goal Reached\n",
        "Goal Reached\n",
        "Goal Reached\n",
        "Goal Reached\n",
        "Goal Reached\n",
        "Goal Reached\n",
        "Goal Reached\n",
        "Goal Reached"
       ]
      },
      {
       "output_type": "stream",
       "stream": "stdout",
       "text": [
        "\n",
        "Goal Reached\n",
        "Goal Reached\n",
        "Goal Reached\n",
        "Goal Reached\n",
        "Goal Reached\n",
        "Goal Reached\n",
        "Goal Reached\n",
        "Goal Reached\n",
        "Goal Reached\n",
        "Goal Reached"
       ]
      },
      {
       "output_type": "stream",
       "stream": "stdout",
       "text": [
        "\n",
        "Goal Reached\n",
        "Goal Reached\n",
        "Goal Reached\n",
        "Goal Reached\n",
        "Goal Reached\n",
        "Goal Reached\n",
        "Goal Reached\n",
        "Goal Reached\n",
        "Goal Reached"
       ]
      },
      {
       "output_type": "stream",
       "stream": "stdout",
       "text": [
        "\n",
        "Goal Reached\n",
        "Goal Reached\n",
        "Goal Reached\n",
        "Goal Reached\n",
        "Goal Reached\n",
        "Goal Reached\n",
        "Goal Reached\n",
        "Goal Reached\n",
        "Goal Reached"
       ]
      },
      {
       "output_type": "stream",
       "stream": "stdout",
       "text": [
        "\n",
        "Goal Reached\n",
        "Goal Reached\n",
        "Goal Reached\n",
        "Goal Reached\n",
        "Goal Reached\n",
        "Goal Reached\n",
        "Goal Reached\n",
        "Goal Reached\n",
        "Goal Reached\n",
        "Goal Reached"
       ]
      },
      {
       "output_type": "stream",
       "stream": "stdout",
       "text": [
        "\n",
        "Goal Reached\n",
        "Goal Reached\n",
        "Goal Reached\n",
        "Goal Reached\n",
        "Goal Reached\n",
        "Goal Reached\n",
        "Goal Reached\n",
        "Goal Reached\n",
        "Goal Reached\n",
        "Goal Reached\n",
        "Goal Reached"
       ]
      },
      {
       "output_type": "stream",
       "stream": "stdout",
       "text": [
        "\n",
        "Goal Reached\n",
        "Goal Reached\n",
        "Goal Reached\n",
        "Goal Reached\n",
        "Goal Reached\n",
        "Goal Reached\n",
        "Goal Reached\n",
        "Goal Reached\n",
        "Goal Reached\n",
        "Goal Reached\n",
        "Goal Reached"
       ]
      },
      {
       "output_type": "stream",
       "stream": "stdout",
       "text": [
        "\n",
        "Goal Reached\n",
        "Goal Reached\n",
        "Goal Reached\n",
        "Goal Reached\n",
        "Goal Reached\n",
        "Goal Reached\n",
        "Goal Reached\n",
        "Goal Reached\n",
        "Goal Reached\n",
        "Goal Reached"
       ]
      },
      {
       "output_type": "stream",
       "stream": "stdout",
       "text": [
        "\n",
        "Goal Reached\n",
        "Goal Reached\n",
        "Goal Reached\n",
        "Goal Reached\n",
        "Goal Reached\n",
        "Goal Reached\n",
        "Goal Reached\n",
        "Goal Reached\n",
        "Goal Reached\n",
        "Goal Reached"
       ]
      },
      {
       "output_type": "stream",
       "stream": "stdout",
       "text": [
        "\n",
        "Goal Reached\n",
        "Goal Reached\n",
        "Goal Reached\n",
        "Goal Reached\n",
        "Goal Reached\n",
        "Goal Reached\n",
        "Goal Reached\n",
        "Goal Reached\n",
        "Goal Reached\n",
        "Goal Reached"
       ]
      },
      {
       "output_type": "stream",
       "stream": "stdout",
       "text": [
        "\n",
        "Goal Reached\n",
        "Goal Reached\n",
        "Goal Reached\n",
        "Goal Reached\n",
        "Goal Reached\n",
        "Goal Reached\n",
        "Goal Reached\n",
        "Goal Reached\n",
        "Goal Reached"
       ]
      },
      {
       "output_type": "stream",
       "stream": "stdout",
       "text": [
        "\n",
        "Goal Reached\n",
        "Goal Reached\n",
        "Goal Reached\n",
        "Goal Reached\n",
        "Goal Reached\n",
        "Goal Reached\n",
        "Goal Reached\n",
        "Goal Reached\n",
        "Goal Reached\n",
        "Goal Reached"
       ]
      },
      {
       "output_type": "stream",
       "stream": "stdout",
       "text": [
        "\n",
        "Goal Reached\n",
        "Goal Reached\n",
        "Goal Reached\n",
        "Goal Reached\n",
        "Goal Reached\n",
        "Goal Reached\n",
        "Goal Reached\n",
        "Goal Reached\n",
        "Goal Reached\n",
        "Goal Reached\n",
        "Goal Reached"
       ]
      },
      {
       "output_type": "stream",
       "stream": "stdout",
       "text": [
        "\n",
        "Goal Reached\n",
        "Goal Reached\n",
        "Goal Reached\n",
        "Goal Reached\n",
        "Goal Reached\n",
        "Goal Reached\n",
        "Goal Reached\n",
        "Goal Reached\n",
        "Goal Reached"
       ]
      },
      {
       "output_type": "stream",
       "stream": "stdout",
       "text": [
        "\n",
        "Goal Reached\n",
        "Goal Reached\n",
        "Goal Reached\n",
        "Goal Reached\n",
        "Goal Reached\n",
        "Goal Reached\n",
        "Goal Reached\n",
        "Goal Reached\n",
        "Goal Reached\n",
        "Goal Reached\n",
        "Goal Reached"
       ]
      },
      {
       "output_type": "stream",
       "stream": "stdout",
       "text": [
        "\n",
        "Goal Reached\n",
        "Goal Reached\n",
        "Goal Reached\n",
        "Goal Reached\n",
        "Goal Reached\n",
        "Goal Reached\n",
        "Goal Reached\n",
        "Goal Reached\n",
        "Goal Reached\n",
        "Goal Reached"
       ]
      },
      {
       "output_type": "stream",
       "stream": "stdout",
       "text": [
        "\n",
        "Goal Reached\n",
        "Goal Reached\n",
        "Goal Reached\n",
        "Goal Reached\n",
        "Goal Reached\n",
        "Goal Reached\n",
        "Goal Reached\n",
        "Goal Reached\n",
        "Goal Reached\n",
        "Goal Reached\n",
        "Goal Reached"
       ]
      },
      {
       "output_type": "stream",
       "stream": "stdout",
       "text": [
        "\n",
        "Goal Reached\n",
        "Goal Reached\n",
        "Goal Reached\n",
        "Goal Reached\n",
        "Goal Reached\n",
        "Goal Reached\n",
        "Goal Reached\n",
        "Goal Reached\n",
        "Goal Reached"
       ]
      },
      {
       "output_type": "stream",
       "stream": "stdout",
       "text": [
        "\n",
        "Goal Reached\n",
        "Goal Reached\n",
        "Goal Reached\n",
        "Goal Reached\n",
        "Goal Reached\n",
        "Goal Reached\n",
        "Goal Reached\n",
        "Goal Reached"
       ]
      },
      {
       "output_type": "stream",
       "stream": "stdout",
       "text": [
        "\n",
        "Goal Reached\n",
        "Goal Reached\n",
        "Goal Reached\n",
        "Goal Reached\n",
        "Goal Reached\n",
        "Goal Reached\n",
        "Goal Reached\n",
        "Goal Reached\n",
        "Goal Reached\n",
        "Goal Reached\n",
        "Goal Reached"
       ]
      },
      {
       "output_type": "stream",
       "stream": "stdout",
       "text": [
        "\n",
        "Goal Reached\n",
        "Goal Reached\n",
        "Goal Reached\n",
        "Goal Reached\n",
        "Goal Reached\n",
        "Goal Reached\n",
        "Goal Reached\n",
        "Goal Reached\n",
        "Goal Reached\n",
        "Goal Reached"
       ]
      },
      {
       "output_type": "stream",
       "stream": "stdout",
       "text": [
        "\n",
        "Goal Reached\n",
        "Goal Reached\n",
        "Goal Reached\n",
        "Goal Reached\n",
        "Goal Reached\n",
        "Goal Reached\n",
        "Goal Reached\n",
        "Goal Reached\n",
        "Goal Reached"
       ]
      },
      {
       "output_type": "stream",
       "stream": "stdout",
       "text": [
        "\n",
        "Goal Reached\n",
        "Goal Reached\n",
        "Goal Reached\n",
        "Goal Reached\n",
        "Goal Reached\n",
        "Goal Reached\n",
        "Goal Reached\n",
        "Goal Reached\n",
        "Goal Reached"
       ]
      },
      {
       "output_type": "stream",
       "stream": "stdout",
       "text": [
        "\n",
        "Goal Reached\n",
        "Goal Reached\n",
        "Goal Reached\n",
        "Goal Reached\n",
        "Goal Reached\n",
        "Goal Reached\n",
        "Goal Reached\n",
        "Goal Reached\n",
        "Goal Reached"
       ]
      },
      {
       "output_type": "stream",
       "stream": "stdout",
       "text": [
        "\n",
        "Goal Reached\n",
        "Goal Reached\n",
        "Goal Reached\n",
        "Goal Reached\n",
        "Goal Reached\n",
        "Goal Reached\n",
        "Goal Reached\n",
        "Goal Reached\n",
        "Goal Reached\n",
        "Goal Reached\n",
        "Goal Reached"
       ]
      },
      {
       "output_type": "stream",
       "stream": "stdout",
       "text": [
        "\n",
        "Goal Reached\n",
        "Goal Reached\n",
        "Goal Reached\n",
        "Goal Reached\n",
        "Goal Reached\n",
        "Goal Reached\n",
        "Goal Reached\n",
        "Goal Reached"
       ]
      },
      {
       "output_type": "stream",
       "stream": "stdout",
       "text": [
        "\n",
        "Goal Reached\n",
        "Goal Reached\n",
        "Goal Reached\n",
        "Goal Reached\n",
        "Goal Reached\n",
        "Goal Reached\n",
        "Goal Reached"
       ]
      },
      {
       "output_type": "stream",
       "stream": "stdout",
       "text": [
        "\n",
        "Goal Reached\n",
        "Goal Reached\n",
        "Goal Reached\n",
        "Goal Reached\n",
        "Goal Reached\n",
        "Goal Reached\n",
        "Goal Reached\n",
        "Goal Reached\n",
        "Goal Reached"
       ]
      },
      {
       "output_type": "stream",
       "stream": "stdout",
       "text": [
        "\n",
        "Goal Reached\n",
        "Goal Reached\n",
        "Goal Reached\n",
        "Goal Reached\n",
        "Goal Reached\n",
        "Goal Reached\n",
        "Goal Reached\n",
        "Goal Reached\n",
        "Goal Reached"
       ]
      },
      {
       "output_type": "stream",
       "stream": "stdout",
       "text": [
        "\n",
        "Goal Reached\n",
        "Goal Reached\n",
        "Goal Reached\n",
        "Goal Reached\n",
        "Goal Reached\n",
        "Goal Reached\n",
        "Goal Reached\n",
        "Goal Reached"
       ]
      },
      {
       "output_type": "stream",
       "stream": "stdout",
       "text": [
        "\n",
        "Goal Reached\n",
        "Goal Reached\n",
        "Goal Reached\n",
        "Goal Reached\n",
        "Goal Reached\n",
        "Goal Reached\n",
        "Goal Reached\n",
        "Goal Reached"
       ]
      },
      {
       "output_type": "stream",
       "stream": "stdout",
       "text": [
        "\n",
        "Goal Reached\n",
        "Goal Reached\n",
        "Goal Reached\n",
        "Goal Reached\n",
        "Goal Reached\n",
        "Goal Reached\n",
        "Goal Reached\n",
        "Goal Reached\n",
        "Goal Reached"
       ]
      },
      {
       "output_type": "stream",
       "stream": "stdout",
       "text": [
        "\n",
        "Goal Reached\n",
        "Goal Reached\n",
        "Goal Reached\n",
        "Goal Reached\n",
        "Goal Reached\n",
        "Goal Reached\n",
        "Goal Reached\n",
        "Goal Reached\n",
        "Goal Reached\n",
        "Goal Reached"
       ]
      },
      {
       "output_type": "stream",
       "stream": "stdout",
       "text": [
        "\n",
        "Goal Reached\n",
        "Goal Reached\n",
        "Goal Reached\n",
        "Goal Reached\n",
        "Goal Reached\n",
        "Goal Reached\n",
        "Goal Reached\n",
        "Goal Reached\n",
        "Goal Reached\n",
        "Goal Reached\n",
        "Goal Reached\n",
        "Goal Reached"
       ]
      },
      {
       "output_type": "stream",
       "stream": "stdout",
       "text": [
        "\n",
        "Goal Reached\n",
        "Goal Reached\n",
        "Goal Reached\n",
        "Goal Reached\n",
        "Goal Reached\n",
        "Goal Reached\n",
        "Goal Reached\n",
        "Goal Reached"
       ]
      },
      {
       "output_type": "stream",
       "stream": "stdout",
       "text": [
        "\n",
        "Goal Reached\n",
        "Goal Reached\n",
        "Goal Reached\n",
        "Goal Reached\n",
        "Goal Reached\n",
        "Goal Reached\n",
        "Goal Reached"
       ]
      },
      {
       "output_type": "stream",
       "stream": "stdout",
       "text": [
        "\n",
        "Goal Reached\n",
        "Goal Reached\n",
        "Goal Reached\n",
        "Goal Reached\n",
        "Goal Reached\n",
        "Goal Reached\n",
        "Goal Reached"
       ]
      },
      {
       "output_type": "stream",
       "stream": "stdout",
       "text": [
        "\n",
        "Goal Reached\n",
        "Goal Reached\n",
        "Goal Reached\n",
        "Goal Reached\n",
        "Goal Reached\n",
        "Goal Reached\n",
        "Goal Reached"
       ]
      },
      {
       "output_type": "stream",
       "stream": "stdout",
       "text": [
        "\n",
        "Goal Reached\n",
        "Goal Reached\n",
        "Goal Reached\n",
        "Goal Reached\n",
        "Goal Reached\n",
        "Goal Reached"
       ]
      },
      {
       "output_type": "stream",
       "stream": "stdout",
       "text": [
        "\n",
        "Goal Reached\n",
        "Goal Reached\n",
        "Goal Reached\n",
        "Goal Reached\n",
        "Goal Reached\n",
        "Goal Reached\n",
        "Goal Reached\n",
        "Goal Reached\n",
        "Goal Reached"
       ]
      },
      {
       "output_type": "stream",
       "stream": "stdout",
       "text": [
        "\n",
        "Goal Reached\n",
        "Goal Reached\n",
        "Goal Reached\n",
        "Goal Reached\n",
        "Goal Reached\n",
        "Goal Reached\n",
        "Goal Reached\n",
        "Goal Reached"
       ]
      },
      {
       "output_type": "stream",
       "stream": "stdout",
       "text": [
        "\n",
        "Goal Reached\n",
        "Goal Reached\n",
        "Goal Reached\n",
        "Goal Reached\n",
        "Goal Reached\n",
        "Goal Reached\n",
        "Goal Reached\n",
        "Goal Reached\n",
        "Goal Reached\n",
        "Goal Reached"
       ]
      },
      {
       "output_type": "stream",
       "stream": "stdout",
       "text": [
        "\n",
        "Goal Reached\n",
        "Goal Reached\n",
        "Goal Reached\n",
        "Goal Reached\n",
        "Goal Reached\n",
        "Goal Reached\n",
        "Goal Reached\n",
        "Goal Reached\n",
        "Goal Reached"
       ]
      },
      {
       "output_type": "stream",
       "stream": "stdout",
       "text": [
        "\n",
        "Goal Reached\n",
        "Goal Reached\n",
        "Goal Reached\n",
        "Goal Reached\n",
        "Goal Reached\n",
        "Goal Reached\n",
        "Goal Reached\n",
        "Goal Reached"
       ]
      }
     ]
    },
    {
     "cell_type": "code",
     "collapsed": false,
     "input": [],
     "language": "python",
     "metadata": {},
     "outputs": []
    }
   ],
   "metadata": {}
  }
 ]
}